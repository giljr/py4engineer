{
  "nbformat": 4,
  "nbformat_minor": 0,
  "metadata": {
    "colab": {
      "name": "ex_16_numpy_trainning_questions.ipynb",
      "provenance": []
    },
    "kernelspec": {
      "name": "python3",
      "display_name": "Python 3"
    }
  },
  "cells": [
    {
      "cell_type": "markdown",
      "metadata": {
        "id": "5XVBrymcgNJT"
      },
      "source": [
        "#NumPy Review, Again;)\r\n",
        "\r\n",
        "##Python Review Free Exercises -  #PySeries#Episode 16\r\n",
        "Hi, answer these **twenty** questions:\r\n",
        "\r\n",
        "webpage: "
      ]
    },
    {
      "cell_type": "markdown",
      "metadata": {
        "id": "F_dQ4gfsgjJd"
      },
      "source": [
        "###01#PyEx -  Python - NumPy -  Importing Libs:"
      ]
    },
    {
      "cell_type": "code",
      "metadata": {
        "id": "HNGdugUugvLJ"
      },
      "source": [
        "\r\n",
        "#Import NumPy as np"
      ],
      "execution_count": null,
      "outputs": []
    },
    {
      "cell_type": "markdown",
      "metadata": {
        "id": "kwDsHykLkBvg"
      },
      "source": [
        "###02#PyEx -  Python - NumPy -  Zeros"
      ]
    },
    {
      "cell_type": "code",
      "metadata": {
        "id": "ISjUQZHFkKq6"
      },
      "source": [
        "\r\n",
        "#Create an array of 10 zeros:\r\n",
        "\r\n",
        "# output expected: \r\n",
        "#array([0., 0., 0., 0., 0., 0., 0., 0., 0., 0.]) "
      ],
      "execution_count": null,
      "outputs": []
    },
    {
      "cell_type": "markdown",
      "metadata": {
        "id": "RCqHKupZkbBb"
      },
      "source": [
        "###03#PyEx -  Python - NumPy -  Ones"
      ]
    },
    {
      "cell_type": "code",
      "metadata": {
        "id": "r1FBPEs1puE3"
      },
      "source": [
        "\r\n",
        "#Create an array of 10 ones:\r\n",
        "\r\n",
        "# output expected: \r\n",
        "#array([1., 1., 1., 1., 1., 1., 1., 1., 1., 1.])"
      ],
      "execution_count": null,
      "outputs": []
    },
    {
      "cell_type": "markdown",
      "metadata": {
        "id": "9pC-n7HdkfxX"
      },
      "source": [
        "###04#PyEx -  Python - NumPy -   Ones"
      ]
    },
    {
      "cell_type": "code",
      "metadata": {
        "id": "fpWKUMfpp9cI"
      },
      "source": [
        "\r\n",
        "#Create an array of 10 fives:\r\n",
        "\r\n",
        "# output expected: \r\n",
        "#array([5., 5., 5., 5., 5., 5., 5., 5., 5., 5.])"
      ],
      "execution_count": null,
      "outputs": []
    },
    {
      "cell_type": "markdown",
      "metadata": {
        "id": "1VlttEJzoWgD"
      },
      "source": [
        "###05#PyEx -  Python - NumPy -   Integers"
      ]
    },
    {
      "cell_type": "code",
      "metadata": {
        "id": "QtZ36s_2qLAZ"
      },
      "source": [
        "\r\n",
        "#Create an array of the integers from 10 to 50:\r\n",
        "\r\n",
        "# output expected: \r\n",
        "#array([10, 11, 12, 13, 14, 15, 16, 17, 18, 19, 20, 21, 22, 23, 24, 25, 26, 27, 28, 29, 30, 31, 32, 33, 34, 35, 36, 37, 38, 39, 40, 41, 42, 43,44, 45, 46, 47, 48, 49, 50])"
      ],
      "execution_count": null,
      "outputs": []
    },
    {
      "cell_type": "markdown",
      "metadata": {
        "id": "cnWWJjw9oZfT"
      },
      "source": [
        "###06#PyEx -  Python - NumPy -   Arange"
      ]
    },
    {
      "cell_type": "code",
      "metadata": {
        "id": "JgEYT_2YqaaY"
      },
      "source": [
        "\r\n",
        "#Create an array of all the even integers from 10 to 50:\r\n",
        "\r\n",
        "# output expected: \r\n",
        "#array([10, 12, 14, 16, 18, 20, 22, 24, 26, 28, 30, 32, 34, 36, 38, 40, 42, 44, 46, 48, 50])"
      ],
      "execution_count": null,
      "outputs": []
    },
    {
      "cell_type": "markdown",
      "metadata": {
        "id": "SPqqRGAPohsP"
      },
      "source": [
        "###07#PyEx -  Python - NumPy -   Arange"
      ]
    },
    {
      "cell_type": "code",
      "metadata": {
        "id": "1yVsJfqJqr1p"
      },
      "source": [
        "\r\n",
        "#Create a 3x3 matrix with values ranging from 0 to 8:\r\n",
        "\r\n",
        "# output expected: \r\n",
        "#array([[0, 1, 2],\r\n",
        "#[3, 4, 5],\r\n",
        "#[6, 7, 8]])"
      ],
      "execution_count": null,
      "outputs": []
    },
    {
      "cell_type": "markdown",
      "metadata": {
        "id": "DuP8Io5Roo3L"
      },
      "source": [
        "###08#PyEx -  Python - NumPy -   Identity Matrix"
      ]
    },
    {
      "cell_type": "code",
      "metadata": {
        "id": "11QPt2GAq5ib"
      },
      "source": [
        "\r\n",
        "#Create a 3x3 identity matrix:\r\n",
        "\r\n",
        "# output expected: \r\n",
        "#array([[1., 0., 0.],\r\n",
        "#[0., 1., 0.],\r\n",
        "#[0., 0., 1.]])"
      ],
      "execution_count": null,
      "outputs": []
    },
    {
      "cell_type": "markdown",
      "metadata": {
        "id": "BGScXlkIos_G"
      },
      "source": [
        "###09#PyEx -  Python - NumPy -   Ramdom Numbers"
      ]
    },
    {
      "cell_type": "code",
      "metadata": {
        "id": "V9J-eqiRrFT-"
      },
      "source": [
        "\r\n",
        "#Use NumPy to generate a random number between 0 and 1:\r\n",
        "#NOTE: Your result's value should be different from the one shown #below.\r\n",
        "\r\n",
        "# output expected: \r\n",
        "#array([0.23442116])"
      ],
      "execution_count": null,
      "outputs": []
    },
    {
      "cell_type": "markdown",
      "metadata": {
        "id": "FrP_8IX4ovv4"
      },
      "source": [
        "###10#PyEx -  Python - NumPy -  Random Numbers\r\n",
        "\r\n"
      ]
    },
    {
      "cell_type": "code",
      "metadata": {
        "id": "HcFB7BiTrXqe"
      },
      "source": [
        "\r\n",
        "#Use NumPy to generate an array of 25 random numbers sampled from a standard normal distribution:\r\n",
        "#NOTE: Your result's values should be different from the ones shown below.\r\n",
        "# output expected: \r\n",
        "#array([-0.61659542, -0.77532828, 0.36213786, -1.28636974, 0.33286861, 0.06991562, 0.99519046, \r\n",
        "#-1.12320101, -2.09591218, -0.99818646, -0.86720284, -1.13239342, -0.17099943, -0.76632253, \r\n",
        "#-1.005097 , -1.73123788, -1.28889203, -1.63121734, -0.32411105, -0.30448115, -0.67660156, \r\n",
        "#-1.1030128 , -1.19426878, 1.10254174, 1.30879357])"
      ],
      "execution_count": null,
      "outputs": []
    },
    {
      "cell_type": "markdown",
      "metadata": {
        "id": "n2FFsvPko1IU"
      },
      "source": [
        "###11#PyEx -  Python - NumPy -   Numbers Generators"
      ]
    },
    {
      "cell_type": "code",
      "metadata": {
        "id": "TN426bWeru_y"
      },
      "source": [
        "\r\n",
        "#Create the following matrix:\r\n",
        "\r\n",
        "# output expected: \r\n",
        "#array([\r\n",
        "#[0.01, 0.02, 0.03, 0.04, 0.05, 0.06, 0.07, 0.08, 0.09, 0.1 ],\r\n",
        "#[0.11, 0.12, 0.13, 0.14, 0.15, 0.16, 0.17, 0.18, 0.19, 0.2 ],\r\n",
        "#[0.21, 0.22, 0.23, 0.24, 0.25, 0.26, 0.27, 0.28, 0.29, 0.3 ],\r\n",
        "#[0.31, 0.32, 0.33, 0.34, 0.35, 0.36, 0.37, 0.38, 0.39, 0.4 ],\r\n",
        "#[0.41, 0.42, 0.43, 0.44, 0.45, 0.46, 0.47, 0.48, 0.49, 0.5 ],\r\n",
        "#[0.51, 0.52, 0.53, 0.54, 0.55, 0.56, 0.57, 0.58, 0.59, 0.6 ],\r\n",
        "#[0.61, 0.62, 0.63, 0.64, 0.65, 0.66, 0.67, 0.68, 0.69, 0.7 ],\r\n",
        "#[0.71, 0.72, 0.73, 0.74, 0.75, 0.76, 0.77, 0.78, 0.79, 0.8 ],\r\n",
        "#[0.81, 0.82, 0.83, 0.84, 0.85, 0.86, 0.87, 0.88, 0.89, 0.9 ],\r\n",
        "#[0.91, 0.92, 0.93, 0.94, 0.95, 0.96, 0.97, 0.98, 0.99, 1. ]])"
      ],
      "execution_count": null,
      "outputs": []
    },
    {
      "cell_type": "markdown",
      "metadata": {
        "id": "1MUs5Nywo7fT"
      },
      "source": [
        "###12#PyEx -  Python - NumPy -  Spaced Intervals"
      ]
    },
    {
      "cell_type": "code",
      "metadata": {
        "id": "M7ixqBkur9ci"
      },
      "source": [
        "\r\n",
        "#Create an array of 20 linearly spaced points between 0 and 1:\r\n",
        "\r\n",
        "# output expected: \r\n",
        "#array([0. , 0.05263158, 0.10526316, 0.15789474, 0.21052632, 0.26315789, 0.31578947, \r\n",
        "#       0.36842105, 0.42105263, 0.47368421, 0.52631579, 0.57894737, 0.63157895, 0.68421053, \r\n",
        "#       0.73684211, 0.78947368, 0.84210526, 0.89473684, 0.94736842, 1. ])"
      ],
      "execution_count": null,
      "outputs": []
    },
    {
      "cell_type": "markdown",
      "metadata": {
        "id": "Ag17qr4IsJL4"
      },
      "source": [
        "Alright, now you will be given a starting matrix, and you will replicate the matrix outputs\r\n",
        "IMPORTANT NOTE: Do not forget to run the cell below!"
      ]
    },
    {
      "cell_type": "code",
      "metadata": {
        "id": "SWdYZU4asS7Q"
      },
      "source": [
        "#RUN THIS CELL - THIS IS OUR STARTING MATRIX:\r\n",
        "#mat = np.arange(1,26).reshape(5,5)\r\n",
        "\r\n",
        "# output expected:\r\n",
        "#array([[ 1,  2,  3,  4,  5],        \r\n",
        "#[ 6,  7,  8,  9, 10],        \r\n",
        "#[11, 12, 13, 14, 15],        \r\n",
        "#[16, 17, 18, 19, 20],        \r\n",
        "#[21, 22, 23, 24, 25]])"
      ],
      "execution_count": null,
      "outputs": []
    },
    {
      "cell_type": "markdown",
      "metadata": {
        "id": "k_OfJqQqpCPn"
      },
      "source": [
        "###13#PyEx -  Python - NumPy -  Indexing & Slicing"
      ]
    },
    {
      "cell_type": "code",
      "metadata": {
        "id": "szXFD8-Msbct"
      },
      "source": [
        "\r\n",
        "#Write code that reproduces the output shown below:\r\n",
        "\r\n",
        "# output expected: \r\n",
        "#array([[12, 13, 14, 15],\r\n",
        "#[17, 18, 19, 20],\r\n",
        "#[22, 23, 24, 25]])"
      ],
      "execution_count": null,
      "outputs": []
    },
    {
      "cell_type": "markdown",
      "metadata": {
        "id": "Wp78aXuxpEfk"
      },
      "source": [
        "###14#PyEx -  Python - NumPy -   Indexing & Slicing"
      ]
    },
    {
      "cell_type": "code",
      "metadata": {
        "id": "aSAoSo7ls-4t"
      },
      "source": [
        "\r\n",
        "#Write code that reproduces the output shown below:\r\n",
        "# output expected: \r\n",
        "#20"
      ],
      "execution_count": null,
      "outputs": []
    },
    {
      "cell_type": "markdown",
      "metadata": {
        "id": "JIbTa1BDpKmB"
      },
      "source": [
        "###15#PyEx -  Python - NumPy -  Indexing & Slicing\r\n"
      ]
    },
    {
      "cell_type": "code",
      "metadata": {
        "id": "oCUG30bss1sj"
      },
      "source": [
        "\r\n",
        "#Write code that reproduces the output shown below:\r\n",
        "\r\n",
        "# output expected:\r\n",
        "#array([[ 2],\r\n",
        "#[ 7],\r\n",
        "#[12]])"
      ],
      "execution_count": null,
      "outputs": []
    },
    {
      "cell_type": "markdown",
      "metadata": {
        "id": "-Lc02xW8pScQ"
      },
      "source": [
        "###16#PyEx -  Python - NumPy -   Indexing & Slicing"
      ]
    },
    {
      "cell_type": "code",
      "metadata": {
        "id": "zCUndUcbuHHz"
      },
      "source": [
        "\r\n",
        "#Write code that reproduces the output shown below:\r\n",
        "\r\n",
        "# output expected: \r\n",
        "#array([21, 22, 23, 24, 25])"
      ],
      "execution_count": null,
      "outputs": []
    },
    {
      "cell_type": "markdown",
      "metadata": {
        "id": "IeTOQNEQpUfq"
      },
      "source": [
        "###17#PyEx -  Python - NumPy -    Indexing & Slicing"
      ]
    },
    {
      "cell_type": "code",
      "metadata": {
        "id": "gGlTzERZuM6c"
      },
      "source": [
        "\r\n",
        "#Write code that reproduces the output shown below:\r\n",
        "\r\n",
        "# output expected: \r\n",
        "#array([[16, 17, 18, 19, 20],\r\n",
        "#[21, 22, 23, 24, 25]])"
      ],
      "execution_count": null,
      "outputs": []
    },
    {
      "cell_type": "markdown",
      "metadata": {
        "id": "mOZfYaE4pWLu"
      },
      "source": [
        "###18#PyEx -  Python - NumPy -  Stats & Math"
      ]
    },
    {
      "cell_type": "code",
      "metadata": {
        "id": "lMz-2FSfuS4q"
      },
      "source": [
        "\r\n",
        "#Get the sum of all the values in mat:\r\n",
        "\r\n",
        "# output expected: \r\n",
        "#325"
      ],
      "execution_count": null,
      "outputs": []
    },
    {
      "cell_type": "markdown",
      "metadata": {
        "id": "ZXxj67BNpYeY"
      },
      "source": [
        "###19#PyEx -  Python - NumPy -   Stats & Math"
      ]
    },
    {
      "cell_type": "code",
      "metadata": {
        "id": "oyU1YQjbubkN"
      },
      "source": [
        "\r\n",
        "#Get the standard deviation of the values in mat:\r\n",
        "\r\n",
        "# output expected:\r\n",
        "#7.211102550927978"
      ],
      "execution_count": null,
      "outputs": []
    },
    {
      "cell_type": "markdown",
      "metadata": {
        "id": "uCgPouiMpajh"
      },
      "source": [
        "###20#PyEx -  Python - NumPy -   Stats & Math"
      ]
    },
    {
      "cell_type": "code",
      "metadata": {
        "id": "DBXPQiI1ugYw"
      },
      "source": [
        "\r\n",
        "#Get the sum of all the columns in mat:\r\n",
        "\r\n",
        "# output expected: \r\n",
        "#array([55, 60, 65, 70, 75])"
      ],
      "execution_count": null,
      "outputs": []
    }
  ]
}