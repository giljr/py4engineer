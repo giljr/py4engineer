{
  "nbformat": 4,
  "nbformat_minor": 0,
  "metadata": {
    "colab": {
      "name": "ex_16_numpy_trainning_answers.ipynb",
      "provenance": []
    },
    "kernelspec": {
      "name": "python3",
      "display_name": "Python 3"
    }
  },
  "cells": [
    {
      "cell_type": "markdown",
      "metadata": {
        "id": "5XVBrymcgNJT"
      },
      "source": [
        "#NumPy Review, Again;)\r\n",
        "\r\n",
        "##Python Review Free Exercises -  #PySeries#Episode 16\r\n",
        "Hi, answer these **twenty** questions:\r\n",
        "\r\n",
        "webpage: "
      ]
    },
    {
      "cell_type": "markdown",
      "metadata": {
        "id": "F_dQ4gfsgjJd"
      },
      "source": [
        "###01#PyEx -  Python - NumPy -  Importing Libs:"
      ]
    },
    {
      "cell_type": "code",
      "metadata": {
        "id": "HNGdugUugvLJ"
      },
      "source": [
        "import numpy as np\r\n",
        "#Import NumPy as np"
      ],
      "execution_count": null,
      "outputs": []
    },
    {
      "cell_type": "markdown",
      "metadata": {
        "id": "kwDsHykLkBvg"
      },
      "source": [
        "###02#PyEx -  Python - NumPy -  Zeros"
      ]
    },
    {
      "cell_type": "code",
      "metadata": {
        "id": "ISjUQZHFkKq6",
        "colab": {
          "base_uri": "https://localhost:8080/"
        },
        "outputId": "b6b008ab-cdae-4e32-9968-6d6a7ef84acc"
      },
      "source": [
        "np.zeros(10)\r\n",
        "\r\n",
        "#Create an array of 10 zeros:\r\n",
        "\r\n",
        "# output expected: \r\n",
        "#array([0., 0., 0., 0., 0., 0., 0., 0., 0., 0.]) "
      ],
      "execution_count": null,
      "outputs": [
        {
          "output_type": "execute_result",
          "data": {
            "text/plain": [
              "array([0., 0., 0., 0., 0., 0., 0., 0., 0., 0.])"
            ]
          },
          "metadata": {
            "tags": []
          },
          "execution_count": 2
        }
      ]
    },
    {
      "cell_type": "markdown",
      "metadata": {
        "id": "RCqHKupZkbBb"
      },
      "source": [
        "###03#PyEx -  Python - NumPy -  Ones"
      ]
    },
    {
      "cell_type": "code",
      "metadata": {
        "id": "r1FBPEs1puE3",
        "colab": {
          "base_uri": "https://localhost:8080/"
        },
        "outputId": "fe28fb58-f466-4a43-fb35-66c173acc734"
      },
      "source": [
        "np.ones(10)\r\n",
        "\r\n",
        "#Create an array of 10 ones:\r\n",
        "\r\n",
        "# output expected: \r\n",
        "#array([1., 1., 1., 1., 1., 1., 1., 1., 1., 1.])"
      ],
      "execution_count": null,
      "outputs": [
        {
          "output_type": "execute_result",
          "data": {
            "text/plain": [
              "array([1., 1., 1., 1., 1., 1., 1., 1., 1., 1.])"
            ]
          },
          "metadata": {
            "tags": []
          },
          "execution_count": 3
        }
      ]
    },
    {
      "cell_type": "markdown",
      "metadata": {
        "id": "9pC-n7HdkfxX"
      },
      "source": [
        "###04#PyEx -  Python - NumPy -   Ones"
      ]
    },
    {
      "cell_type": "code",
      "metadata": {
        "id": "fpWKUMfpp9cI",
        "colab": {
          "base_uri": "https://localhost:8080/"
        },
        "outputId": "d298e524-2f73-468a-c86e-0ec3343dd3c4"
      },
      "source": [
        "np.ones(10)*5\r\n",
        "\r\n",
        "#Create an array of 10 fives:\r\n",
        "\r\n",
        "# output expected: \r\n",
        "#array([5., 5., 5., 5., 5., 5., 5., 5., 5., 5.])"
      ],
      "execution_count": null,
      "outputs": [
        {
          "output_type": "execute_result",
          "data": {
            "text/plain": [
              "array([5., 5., 5., 5., 5., 5., 5., 5., 5., 5.])"
            ]
          },
          "metadata": {
            "tags": []
          },
          "execution_count": 4
        }
      ]
    },
    {
      "cell_type": "markdown",
      "metadata": {
        "id": "1VlttEJzoWgD"
      },
      "source": [
        "###05#PyEx -  Python - NumPy -   Integers"
      ]
    },
    {
      "cell_type": "code",
      "metadata": {
        "id": "QtZ36s_2qLAZ",
        "colab": {
          "base_uri": "https://localhost:8080/"
        },
        "outputId": "534d38f3-bca0-49e2-9602-21d726756b9f"
      },
      "source": [
        "np.arange(10, 51)\r\n",
        "\r\n",
        "#Create an array of the integers from 10 to 50:\r\n",
        "\r\n",
        "# output expected: \r\n",
        "#array([10, 11, 12, 13, 14, 15, 16, 17, 18, 19, 20, 21, 22, 23, 24, 25, 26, 27, 28, 29, 30, 31, 32, 33, 34, 35, 36, 37, 38, 39, 40, 41, 42, 43,44, 45, 46, 47, 48, 49, 50])"
      ],
      "execution_count": null,
      "outputs": [
        {
          "output_type": "execute_result",
          "data": {
            "text/plain": [
              "array([10, 11, 12, 13, 14, 15, 16, 17, 18, 19, 20, 21, 22, 23, 24, 25, 26,\n",
              "       27, 28, 29, 30, 31, 32, 33, 34, 35, 36, 37, 38, 39, 40, 41, 42, 43,\n",
              "       44, 45, 46, 47, 48, 49, 50])"
            ]
          },
          "metadata": {
            "tags": []
          },
          "execution_count": 5
        }
      ]
    },
    {
      "cell_type": "markdown",
      "metadata": {
        "id": "cnWWJjw9oZfT"
      },
      "source": [
        "###06#PyEx -  Python - NumPy -   Arange"
      ]
    },
    {
      "cell_type": "code",
      "metadata": {
        "id": "JgEYT_2YqaaY",
        "colab": {
          "base_uri": "https://localhost:8080/"
        },
        "outputId": "9e54d395-2d0d-4300-d71a-85e64ae92297"
      },
      "source": [
        "np.arange(10,50, 2)\r\n",
        "\r\n",
        "#Create an array of all the even integers from 10 to 50:\r\n",
        "\r\n",
        "# output expected: \r\n",
        "#array([10, 12, 14, 16, 18, 20, 22, 24, 26, 28, 30, 32, 34, 36, 38, 40, 42, 44, 46, 48, 50])"
      ],
      "execution_count": null,
      "outputs": [
        {
          "output_type": "execute_result",
          "data": {
            "text/plain": [
              "array([10, 12, 14, 16, 18, 20, 22, 24, 26, 28, 30, 32, 34, 36, 38, 40, 42,\n",
              "       44, 46, 48])"
            ]
          },
          "metadata": {
            "tags": []
          },
          "execution_count": 6
        }
      ]
    },
    {
      "cell_type": "markdown",
      "metadata": {
        "id": "SPqqRGAPohsP"
      },
      "source": [
        "###07#PyEx -  Python - NumPy -   Arange"
      ]
    },
    {
      "cell_type": "code",
      "metadata": {
        "id": "1yVsJfqJqr1p",
        "colab": {
          "base_uri": "https://localhost:8080/"
        },
        "outputId": "07f2bec5-dfc6-4553-e9b0-fbddb5002674"
      },
      "source": [
        "np.arange(0,9).reshape(3,3)\r\n",
        "\r\n",
        "#Create a 3x3 matrix with values ranging from 0 to 8:\r\n",
        "\r\n",
        "# output expected: \r\n",
        "#array([[0, 1, 2],\r\n",
        "#[3, 4, 5],\r\n",
        "#[6, 7, 8]])"
      ],
      "execution_count": null,
      "outputs": [
        {
          "output_type": "execute_result",
          "data": {
            "text/plain": [
              "array([[0, 1, 2],\n",
              "       [3, 4, 5],\n",
              "       [6, 7, 8]])"
            ]
          },
          "metadata": {
            "tags": []
          },
          "execution_count": 7
        }
      ]
    },
    {
      "cell_type": "markdown",
      "metadata": {
        "id": "DuP8Io5Roo3L"
      },
      "source": [
        "###08#PyEx -  Python - NumPy -   Identity Matrix"
      ]
    },
    {
      "cell_type": "code",
      "metadata": {
        "id": "11QPt2GAq5ib",
        "colab": {
          "base_uri": "https://localhost:8080/"
        },
        "outputId": "7f32bfc9-6176-42e4-d1b4-8ac798c57916"
      },
      "source": [
        "np.eye(3)\r\n",
        "\r\n",
        "#Create a 3x3 identity matrix:\r\n",
        "\r\n",
        "# output expected: \r\n",
        "#array([[1., 0., 0.],\r\n",
        "#[0., 1., 0.],\r\n",
        "#[0., 0., 1.]])"
      ],
      "execution_count": null,
      "outputs": [
        {
          "output_type": "execute_result",
          "data": {
            "text/plain": [
              "array([[1., 0., 0.],\n",
              "       [0., 1., 0.],\n",
              "       [0., 0., 1.]])"
            ]
          },
          "metadata": {
            "tags": []
          },
          "execution_count": 8
        }
      ]
    },
    {
      "cell_type": "markdown",
      "metadata": {
        "id": "BGScXlkIos_G"
      },
      "source": [
        "###09#PyEx -  Python - NumPy -   Ramdom Numbers"
      ]
    },
    {
      "cell_type": "code",
      "metadata": {
        "id": "V9J-eqiRrFT-",
        "colab": {
          "base_uri": "https://localhost:8080/"
        },
        "outputId": "88955c50-a28e-494b-9735-bac51260b202"
      },
      "source": [
        "np.random.randn(1)\r\n",
        "\r\n",
        "#Use NumPy to generate a random number between 0 and 1:\r\n",
        "#NOTE: Your result's value should be different from the one shown #below.\r\n",
        "\r\n",
        "# output expected: \r\n",
        "#array([0.23442116])"
      ],
      "execution_count": null,
      "outputs": [
        {
          "output_type": "execute_result",
          "data": {
            "text/plain": [
              "array([-0.71847854])"
            ]
          },
          "metadata": {
            "tags": []
          },
          "execution_count": 9
        }
      ]
    },
    {
      "cell_type": "markdown",
      "metadata": {
        "id": "FrP_8IX4ovv4"
      },
      "source": [
        "###10#PyEx -  Python - NumPy -  Random Numbers\r\n",
        "\r\n"
      ]
    },
    {
      "cell_type": "code",
      "metadata": {
        "id": "HcFB7BiTrXqe",
        "colab": {
          "base_uri": "https://localhost:8080/"
        },
        "outputId": "3391e158-f143-4db3-f311-500f107b439d"
      },
      "source": [
        "np.random.randn(25)\r\n",
        "\r\n",
        "#Use NumPy to generate an array of 25 random numbers sampled from a standard normal distribution:\r\n",
        "#NOTE: Your result's values should be different from the ones shown below.\r\n",
        "# output expected: \r\n",
        "#array([-0.61659542, -0.77532828, 0.36213786, -1.28636974, 0.33286861, 0.06991562, 0.99519046, \r\n",
        "#-1.12320101, -2.09591218, -0.99818646, -0.86720284, -1.13239342, -0.17099943, -0.76632253, \r\n",
        "#-1.005097 , -1.73123788, -1.28889203, -1.63121734, -0.32411105, -0.30448115, -0.67660156, \r\n",
        "#-1.1030128 , -1.19426878, 1.10254174, 1.30879357])"
      ],
      "execution_count": null,
      "outputs": [
        {
          "output_type": "execute_result",
          "data": {
            "text/plain": [
              "array([ 0.44735608, -0.55587994, -0.49562237, -0.20753538,  0.09588813,\n",
              "        0.21814471, -1.31278556,  2.41492179, -1.37780264, -0.68831755,\n",
              "        1.12330983, -0.23608426, -0.62060587,  0.93804386, -0.240725  ,\n",
              "        0.4971446 ,  1.23122542,  0.53233252,  1.55399842,  0.43197339,\n",
              "        2.64990237,  0.50755101,  1.29935396, -0.94728872,  0.46711868])"
            ]
          },
          "metadata": {
            "tags": []
          },
          "execution_count": 10
        }
      ]
    },
    {
      "cell_type": "markdown",
      "metadata": {
        "id": "n2FFsvPko1IU"
      },
      "source": [
        "###11#PyEx -  Python - NumPy -   Numbers Generators"
      ]
    },
    {
      "cell_type": "code",
      "metadata": {
        "id": "TN426bWeru_y",
        "colab": {
          "base_uri": "https://localhost:8080/"
        },
        "outputId": "8496b6f4-8251-4612-c73b-c153ebfeb722"
      },
      "source": [
        "np.arange( 0,101,1)/100\r\n",
        "#np.linspace(0,1,  100,endpoint=False)\r\n",
        "\r\n",
        "#Create the following matrix:\r\n",
        "\r\n",
        "# output expected: \r\n",
        "#array([\r\n",
        "#[0.01, 0.02, 0.03, 0.04, 0.05, 0.06, 0.07, 0.08, 0.09, 0.1 ],\r\n",
        "#[0.11, 0.12, 0.13, 0.14, 0.15, 0.16, 0.17, 0.18, 0.19, 0.2 ],\r\n",
        "#[0.21, 0.22, 0.23, 0.24, 0.25, 0.26, 0.27, 0.28, 0.29, 0.3 ],\r\n",
        "#[0.31, 0.32, 0.33, 0.34, 0.35, 0.36, 0.37, 0.38, 0.39, 0.4 ],\r\n",
        "#[0.41, 0.42, 0.43, 0.44, 0.45, 0.46, 0.47, 0.48, 0.49, 0.5 ],\r\n",
        "#[0.51, 0.52, 0.53, 0.54, 0.55, 0.56, 0.57, 0.58, 0.59, 0.6 ],\r\n",
        "#[0.61, 0.62, 0.63, 0.64, 0.65, 0.66, 0.67, 0.68, 0.69, 0.7 ],\r\n",
        "#[0.71, 0.72, 0.73, 0.74, 0.75, 0.76, 0.77, 0.78, 0.79, 0.8 ],\r\n",
        "#[0.81, 0.82, 0.83, 0.84, 0.85, 0.86, 0.87, 0.88, 0.89, 0.9 ],\r\n",
        "#[0.91, 0.92, 0.93, 0.94, 0.95, 0.96, 0.97, 0.98, 0.99, 1. ]])"
      ],
      "execution_count": null,
      "outputs": [
        {
          "output_type": "execute_result",
          "data": {
            "text/plain": [
              "array([0.  , 0.01, 0.02, 0.03, 0.04, 0.05, 0.06, 0.07, 0.08, 0.09, 0.1 ,\n",
              "       0.11, 0.12, 0.13, 0.14, 0.15, 0.16, 0.17, 0.18, 0.19, 0.2 , 0.21,\n",
              "       0.22, 0.23, 0.24, 0.25, 0.26, 0.27, 0.28, 0.29, 0.3 , 0.31, 0.32,\n",
              "       0.33, 0.34, 0.35, 0.36, 0.37, 0.38, 0.39, 0.4 , 0.41, 0.42, 0.43,\n",
              "       0.44, 0.45, 0.46, 0.47, 0.48, 0.49, 0.5 , 0.51, 0.52, 0.53, 0.54,\n",
              "       0.55, 0.56, 0.57, 0.58, 0.59, 0.6 , 0.61, 0.62, 0.63, 0.64, 0.65,\n",
              "       0.66, 0.67, 0.68, 0.69, 0.7 , 0.71, 0.72, 0.73, 0.74, 0.75, 0.76,\n",
              "       0.77, 0.78, 0.79, 0.8 , 0.81, 0.82, 0.83, 0.84, 0.85, 0.86, 0.87,\n",
              "       0.88, 0.89, 0.9 , 0.91, 0.92, 0.93, 0.94, 0.95, 0.96, 0.97, 0.98,\n",
              "       0.99, 1.  ])"
            ]
          },
          "metadata": {
            "tags": []
          },
          "execution_count": 11
        }
      ]
    },
    {
      "cell_type": "markdown",
      "metadata": {
        "id": "1MUs5Nywo7fT"
      },
      "source": [
        "###12#PyEx -  Python - NumPy -  Spaced Intervals"
      ]
    },
    {
      "cell_type": "code",
      "metadata": {
        "id": "M7ixqBkur9ci",
        "colab": {
          "base_uri": "https://localhost:8080/"
        },
        "outputId": "5faa9ba8-0c6a-45e3-df87-b509b94f1b3f"
      },
      "source": [
        "np.linspace(0,1, 20)\r\n",
        "#Create an array of 20 linearly spaced points between 0 and 1:\r\n",
        "\r\n",
        "# output expected: \r\n",
        "#array([0. , 0.05263158, 0.10526316, 0.15789474, 0.21052632, 0.26315789, 0.31578947, \r\n",
        "#       0.36842105, 0.42105263, 0.47368421, 0.52631579, 0.57894737, 0.63157895, 0.68421053, \r\n",
        "#       0.73684211, 0.78947368, 0.84210526, 0.89473684, 0.94736842, 1. ])"
      ],
      "execution_count": null,
      "outputs": [
        {
          "output_type": "execute_result",
          "data": {
            "text/plain": [
              "array([0.        , 0.05263158, 0.10526316, 0.15789474, 0.21052632,\n",
              "       0.26315789, 0.31578947, 0.36842105, 0.42105263, 0.47368421,\n",
              "       0.52631579, 0.57894737, 0.63157895, 0.68421053, 0.73684211,\n",
              "       0.78947368, 0.84210526, 0.89473684, 0.94736842, 1.        ])"
            ]
          },
          "metadata": {
            "tags": []
          },
          "execution_count": 12
        }
      ]
    },
    {
      "cell_type": "markdown",
      "metadata": {
        "id": "Ag17qr4IsJL4"
      },
      "source": [
        "Alright, now you will be given a starting matrix, and you will replicate the matrix outputs\r\n",
        "IMPORTANT NOTE: Do not forget to run the cell below!"
      ]
    },
    {
      "cell_type": "code",
      "metadata": {
        "id": "SWdYZU4asS7Q",
        "colab": {
          "base_uri": "https://localhost:8080/"
        },
        "outputId": "05f72b40-88a6-4774-9a57-1b45bcbc27cf"
      },
      "source": [
        "#RUN THIS CELL - THIS IS OUR STARTING MATRIX:\r\n",
        "mat = np.arange(1,26).reshape(5,5)\r\n",
        "mat\r\n",
        "\r\n",
        "# output expected:\r\n",
        "#array([[ 1,  2,  3,  4,  5],        \r\n",
        "#[ 6,  7,  8,  9, 10],        \r\n",
        "#[11, 12, 13, 14, 15],        \r\n",
        "#[16, 17, 18, 19, 20],        \r\n",
        "#[21, 22, 23, 24, 25]])"
      ],
      "execution_count": null,
      "outputs": [
        {
          "output_type": "execute_result",
          "data": {
            "text/plain": [
              "array([[ 1,  2,  3,  4,  5],\n",
              "       [ 6,  7,  8,  9, 10],\n",
              "       [11, 12, 13, 14, 15],\n",
              "       [16, 17, 18, 19, 20],\n",
              "       [21, 22, 23, 24, 25]])"
            ]
          },
          "metadata": {
            "tags": []
          },
          "execution_count": 13
        }
      ]
    },
    {
      "cell_type": "markdown",
      "metadata": {
        "id": "k_OfJqQqpCPn"
      },
      "source": [
        "###13#PyEx -  Python - NumPy -  Indexing & Slicing"
      ]
    },
    {
      "cell_type": "code",
      "metadata": {
        "id": "szXFD8-Msbct",
        "colab": {
          "base_uri": "https://localhost:8080/"
        },
        "outputId": "5dc84f9c-7a5c-4a89-f612-7c0f45b7a8eb"
      },
      "source": [
        "mat[2:,1:]\r\n",
        "#Write code that reproduces the output shown below:\r\n",
        "\r\n",
        "# output expected: \r\n",
        "#array([[12, 13, 14, 15],\r\n",
        "#[17, 18, 19, 20],\r\n",
        "#[22, 23, 24, 25]])"
      ],
      "execution_count": null,
      "outputs": [
        {
          "output_type": "execute_result",
          "data": {
            "text/plain": [
              "array([[12, 13, 14, 15],\n",
              "       [17, 18, 19, 20],\n",
              "       [22, 23, 24, 25]])"
            ]
          },
          "metadata": {
            "tags": []
          },
          "execution_count": 14
        }
      ]
    },
    {
      "cell_type": "markdown",
      "metadata": {
        "id": "Wp78aXuxpEfk"
      },
      "source": [
        "###14#PyEx -  Python - NumPy -   Indexing & Slicing"
      ]
    },
    {
      "cell_type": "code",
      "metadata": {
        "id": "aSAoSo7ls-4t",
        "colab": {
          "base_uri": "https://localhost:8080/"
        },
        "outputId": "02d169dc-fa2a-454c-e125-2e37ecba3d43"
      },
      "source": [
        "mat[3][4]\r\n",
        "\r\n",
        "#Write code that reproduces the output shown below:\r\n",
        "# output expected: \r\n",
        "#20"
      ],
      "execution_count": null,
      "outputs": [
        {
          "output_type": "execute_result",
          "data": {
            "text/plain": [
              "20"
            ]
          },
          "metadata": {
            "tags": []
          },
          "execution_count": 15
        }
      ]
    },
    {
      "cell_type": "markdown",
      "metadata": {
        "id": "JIbTa1BDpKmB"
      },
      "source": [
        "###15#PyEx -  Python - NumPy -  Indexing & Slicing\r\n"
      ]
    },
    {
      "cell_type": "code",
      "metadata": {
        "id": "oCUG30bss1sj",
        "colab": {
          "base_uri": "https://localhost:8080/"
        },
        "outputId": "f6fc473a-24c4-4e4e-e1f3-ddd8e091b6e4"
      },
      "source": [
        "mat[:3, 1:2]\r\n",
        "\r\n",
        "# In case you need the cells results only, use:\r\n",
        "#mat[[0,1,2],[1,1,1]] \r\n",
        "\r\n",
        "#Write code that reproduces the output shown below:\r\n",
        "\r\n",
        "# output expected:\r\n",
        "#array([[ 2],\r\n",
        "#[ 7],\r\n",
        "#[12]])"
      ],
      "execution_count": null,
      "outputs": [
        {
          "output_type": "execute_result",
          "data": {
            "text/plain": [
              "array([[ 2],\n",
              "       [ 7],\n",
              "       [12]])"
            ]
          },
          "metadata": {
            "tags": []
          },
          "execution_count": 16
        }
      ]
    },
    {
      "cell_type": "markdown",
      "metadata": {
        "id": "-Lc02xW8pScQ"
      },
      "source": [
        "###16#PyEx -  Python - NumPy -   Indexing & Slicing"
      ]
    },
    {
      "cell_type": "code",
      "metadata": {
        "id": "zCUndUcbuHHz",
        "colab": {
          "base_uri": "https://localhost:8080/"
        },
        "outputId": "51de1920-9fba-4d27-aa93-26958c1392e9"
      },
      "source": [
        "mat[4]\r\n",
        "\r\n",
        "#Write code that reproduces the output shown below:\r\n",
        "\r\n",
        "# output expected: \r\n",
        "#array([21, 22, 23, 24, 25])"
      ],
      "execution_count": null,
      "outputs": [
        {
          "output_type": "execute_result",
          "data": {
            "text/plain": [
              "array([21, 22, 23, 24, 25])"
            ]
          },
          "metadata": {
            "tags": []
          },
          "execution_count": 17
        }
      ]
    },
    {
      "cell_type": "markdown",
      "metadata": {
        "id": "IeTOQNEQpUfq"
      },
      "source": [
        "###17#PyEx -  Python - NumPy -    Indexing & Slicing"
      ]
    },
    {
      "cell_type": "code",
      "metadata": {
        "id": "gGlTzERZuM6c",
        "colab": {
          "base_uri": "https://localhost:8080/"
        },
        "outputId": "10e91716-63bf-4885-dee6-7e9029e7ca5f"
      },
      "source": [
        "mat[3:, :]\r\n",
        "\r\n",
        "#Write code that reproduces the output shown below:\r\n",
        "\r\n",
        "# output expected: \r\n",
        "#array([[16, 17, 18, 19, 20],\r\n",
        "#[21, 22, 23, 24, 25]])"
      ],
      "execution_count": null,
      "outputs": [
        {
          "output_type": "execute_result",
          "data": {
            "text/plain": [
              "array([[16, 17, 18, 19, 20],\n",
              "       [21, 22, 23, 24, 25]])"
            ]
          },
          "metadata": {
            "tags": []
          },
          "execution_count": 18
        }
      ]
    },
    {
      "cell_type": "markdown",
      "metadata": {
        "id": "mOZfYaE4pWLu"
      },
      "source": [
        "###18#PyEx -  Python - NumPy -  Stats & Math"
      ]
    },
    {
      "cell_type": "code",
      "metadata": {
        "id": "lMz-2FSfuS4q",
        "colab": {
          "base_uri": "https://localhost:8080/"
        },
        "outputId": "29708c93-ebb1-4c22-da0e-7133bdd13015"
      },
      "source": [
        "mat.sum()\r\n",
        "\r\n",
        "#Get the sum of all the values in mat:\r\n",
        "\r\n",
        "# output expected: \r\n",
        "#325"
      ],
      "execution_count": null,
      "outputs": [
        {
          "output_type": "execute_result",
          "data": {
            "text/plain": [
              "325"
            ]
          },
          "metadata": {
            "tags": []
          },
          "execution_count": 19
        }
      ]
    },
    {
      "cell_type": "markdown",
      "metadata": {
        "id": "ZXxj67BNpYeY"
      },
      "source": [
        "###19#PyEx -  Python - NumPy -   Stats & Math"
      ]
    },
    {
      "cell_type": "code",
      "metadata": {
        "id": "oyU1YQjbubkN",
        "colab": {
          "base_uri": "https://localhost:8080/"
        },
        "outputId": "f1faddf3-0f55-497e-abb8-d16d7d47e0b4"
      },
      "source": [
        "mat.std()\r\n",
        "\r\n",
        "#Get the standard deviation of the values in mat:\r\n",
        "\r\n",
        "# output expected:\r\n",
        "#7.211102550927978"
      ],
      "execution_count": null,
      "outputs": [
        {
          "output_type": "execute_result",
          "data": {
            "text/plain": [
              "7.211102550927978"
            ]
          },
          "metadata": {
            "tags": []
          },
          "execution_count": 20
        }
      ]
    },
    {
      "cell_type": "markdown",
      "metadata": {
        "id": "uCgPouiMpajh"
      },
      "source": [
        "###20#PyEx -  Python - NumPy -   Stats & Math"
      ]
    },
    {
      "cell_type": "code",
      "metadata": {
        "id": "DBXPQiI1ugYw",
        "colab": {
          "base_uri": "https://localhost:8080/"
        },
        "outputId": "74301ac0-8efa-4472-8089-6365c71c109e"
      },
      "source": [
        "mat.sum(axis=0)\r\n",
        "\r\n",
        "#Get the sum of all the columns in mat:\r\n",
        "\r\n",
        "# output expected: \r\n",
        "#array([55, 60, 65, 70, 75])"
      ],
      "execution_count": null,
      "outputs": [
        {
          "output_type": "execute_result",
          "data": {
            "text/plain": [
              "array([55, 60, 65, 70, 75])"
            ]
          },
          "metadata": {
            "tags": []
          },
          "execution_count": 21
        }
      ]
    },
    {
      "cell_type": "code",
      "metadata": {
        "id": "MHQ8V2MJyayj"
      },
      "source": [
        ""
      ],
      "execution_count": null,
      "outputs": []
    }
  ]
}