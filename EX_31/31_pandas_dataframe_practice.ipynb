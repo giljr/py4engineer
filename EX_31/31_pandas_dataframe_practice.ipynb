{
  "nbformat": 4,
  "nbformat_minor": 0,
  "metadata": {
    "colab": {
      "name": "31_pandas_dataframe_practice.ipynb",
      "provenance": []
    },
    "kernelspec": {
      "name": "python3",
      "display_name": "Python 3"
    },
    "language_info": {
      "name": "python"
    }
  },
  "cells": [
    {
      "cell_type": "markdown",
      "metadata": {
        "id": "ptMQi_fi4gXq"
      },
      "source": [
        "##Pandas DATAFRAMES\n",
        "\n",
        "The Primary Pandas Data Structure! \n",
        "\n",
        "\n",
        "**When should I use pandas DataFrame?**\n",
        "\n",
        "The Pandas DataFrame is a structure that contains two-dimensional data and its corresponding labels. \n",
        "\n",
        "DataFrames are widely used in data science, machine learning, scientific computing, and many other data-intensive fields.\n",
        "\n",
        "\n",
        "**What Follows Example of how to use it:**\n",
        "\n",
        "##1. First thing first. Importing the libraries:"
      ]
    },
    {
      "cell_type": "code",
      "metadata": {
        "id": "vXlAfBfP4ah5"
      },
      "source": [
        "import numpy as np\n",
        "import pandas as pd"
      ],
      "execution_count": null,
      "outputs": []
    },
    {
      "cell_type": "code",
      "metadata": {
        "id": "HKWBRfqp5a0o"
      },
      "source": [
        "%matplotlib inline\n",
        "import matplotlib.pyplot as plt\n",
        "plt.style.use('seaborn-whitegrid')\n",
        "import numpy as np"
      ],
      "execution_count": null,
      "outputs": []
    },
    {
      "cell_type": "markdown",
      "metadata": {
        "id": "nGZ0yBsYlsiW"
      },
      "source": [
        "##2. Let's create a simple Graphic now:\n",
        "\n",
        "#### Getting acquainted with PANDAS DATAFRAME:"
      ]
    },
    {
      "cell_type": "code",
      "metadata": {
        "colab": {
          "base_uri": "https://localhost:8080/",
          "height": 262
        },
        "id": "lpfgQPhs5z8f",
        "outputId": "7bda0537-1815-4592-9323-e6429eab1e43"
      },
      "source": [
        "x = np.linspace(0, 10, 30)\n",
        "y = np.sin(x)\n",
        "\n",
        "plt.plot(x, y, 'o', color='black');"
      ],
      "execution_count": null,
      "outputs": [
        {
          "output_type": "display_data",
          "data": {
            "image/png": "[encoded data removed]",
            "text/plain": [
              "<Figure size 432x288 with 1 Axes>"
            ]
          },
          "metadata": {
            "tags": []
          }
        }
      ]
    },
    {
      "cell_type": "markdown",
      "metadata": {
        "id": "TiwNzArWmD9z"
      },
      "source": [
        "##3. Now here is a Real Problem:\n",
        "\n",
        "Suppose a local ice cream shop keeps track of how much ice cream they\n",
        "sell versus the noon temperature on that day. \n",
        "<div align=\"center\">\n",
        "Here are registers for 12 days in a roll:\n",
        "\n",
        "Ice Cream  Sales vs Temperature:\n",
        "\n",
        "<div>\n",
        "\n",
        "|    | Temperature °C\t | Ice Cream Sales ($)| \n",
        "| :---:      | :----: | :---:  |\n",
        "| '1°_dia'  | 14.2° |  215 |  \n",
        "| '2°_dia'  | 16.4° |  325 |\n",
        "| '3°_dia'  | 11.9° |  185 |\n",
        "| '4°_dia'  | 15.2° |  332 |\n",
        "| '5°_dia'  | 18.5° |  406 |\n",
        "| '6°_dia'  | 22.1° |  522 |\n",
        "| '7°_dia'  | 19.4° |\t 412 |\n",
        "| '8°_dia'  | 25.1° |\t 614 |\n",
        "| '9°_dia'  | 23.4° |\t 544 |\n",
        "| '10°_dia' | 18.1° |\t 421 |\n",
        "| '11°_dia' | 22.6° |\t 445 |\n",
        "| '12°_dia' | 17.2° |\t 408 |\n",
        "</div>\n",
        "\n",
        "\n",
        "That is so funny! 😂 Let's get started!\n",
        "</div>\n",
        "\n",
        "Use Pandas DATAFRAME to manipulate the data:"
      ]
    },
    {
      "cell_type": "markdown",
      "metadata": {
        "id": "M9L8rxjZb-nr"
      },
      "source": [
        "##4. Let's Plot the Graph & Make a Linear Regression\n",
        "### Creating The Graph's Axis From Numpy Arrays(x & y):"
      ]
    },
    {
      "cell_type": "code",
      "metadata": {
        "colab": {
          "base_uri": "https://localhost:8080/",
          "height": 326
        },
        "id": "-rErAGMdQjpp",
        "outputId": "13bca169-f91b-4830-a09c-e76ba8c25f49"
      },
      "source": [
        "from scipy import stats\n",
        "\n",
        "# Defining x & y Axis as Numpy Array\n",
        "x=np.array([215,325,185,332,406,522,412,614,544,421,445,408])\n",
        "y=np.array([14.2,16.4,11.9,15.2,18.5,22.1,19.4,25.1,23.4,18.1,22.6,17.2])\n",
        "\n",
        "# Linear Regression\n",
        "a,b,correlation,p,error=stats.linregress(x,y)\n",
        "print('Regression line: y=%.2fx+%.2f'% (a,b))\n",
        "print('Correlation Coefficient: r=%.2f'% correlation)\n",
        "\n",
        "# Plotting the Graph\n",
        "plt.plot(x,y,'o',label='Original data')\n",
        "f=a*x+b\n",
        "plt.plot(x,f,'r',label='Regression Line')\n",
        "plt.ylim(10, 30)\n",
        "plt.legend()\n",
        "plt.title(\"Ice Cream Sales for The Last 12 Days\")\n",
        "plt.xlabel('Sales')\n",
        "plt.ylabel('Temp °C')\n",
        "plt.show()"
      ],
      "execution_count": null,
      "outputs": [
        {
          "output_type": "stream",
          "text": [
            "Regression line: y=0.03x+6.41\n",
            "Correlation Coefficient: r=0.96\n"
          ],
          "name": "stdout"
        },
        {
          "output_type": "display_data",
          "data": {
            "image/png": "[encoded data removed]",
            "text/plain": [
              "<Figure size 432x288 with 1 Axes>"
            ]
          },
          "metadata": {
            "tags": []
          }
        }
      ]
    },
    {
      "cell_type": "markdown",
      "metadata": {
        "id": "sGWZ06XKBGjJ"
      },
      "source": [
        "🍦As you can see, the temperature 🍧 boost the sales for the ice screen 🍨"
      ]
    },
    {
      "cell_type": "markdown",
      "metadata": {
        "id": "egXxrzBhdVx8"
      },
      "source": [
        "##5. Now Pandas DATAFRAMES Operations:\n",
        "##### DATAFRAMES Can be thought of as a dict-like container for Series objects.\n",
        "\n",
        "### Creating Pandas DATAFRAMES From Dictionary (X & Y):\n",
        "\n",
        "\n",
        "\n"
      ]
    },
    {
      "cell_type": "code",
      "metadata": {
        "colab": {
          "base_uri": "https://localhost:8080/",
          "height": 402
        },
        "id": "XB3I43Cl93Qv",
        "outputId": "d0e4e44e-21b8-4110-ff8c-648e83de043b"
      },
      "source": [
        "# Creating Pandas DATAFRAME by passing Disctionary to Pandas Dataframe METHOD:\n",
        "d = {'X': [215,325,185,332,406,522,412,614,544,421,445,408], 'Y': [14.2,16.4,11.9,15.2,18.5,22.1,19.4,25.1,23.4,18.1,22.6,17.2]}\n",
        "df = pd.DataFrame(data=d)\n",
        "df.index = ['1°_dia','2°_dia', '3°_dia','4°_dia','5°_dia','6°_dia','7°_dia','8°_dia','9°_dia','10°_dia','11°_dia','12°_dia']\n",
        "df.columns = [\t'Temperature_°C',\t'Ice_Cream_Sales']\n",
        "df"
      ],
      "execution_count": null,
      "outputs": [
        {
          "output_type": "execute_result",
          "data": {
            "text/html": [
              "<div>\n",
              "<style scoped>\n",
              "    .dataframe tbody tr th:only-of-type {\n",
              "        vertical-align: middle;\n",
              "    }\n",
              "\n",
              "    .dataframe tbody tr th {\n",
              "        vertical-align: top;\n",
              "    }\n",
              "\n",
              "    .dataframe thead th {\n",
              "        text-align: right;\n",
              "    }\n",
              "</style>\n",
              "<table border=\"1\" class=\"dataframe\">\n",
              "  <thead>\n",
              "    <tr style=\"text-align: right;\">\n",
              "      <th></th>\n",
              "      <th>Temperature_°C</th>\n",
              "      <th>Ice_Cream_Sales</th>\n",
              "    </tr>\n",
              "  </thead>\n",
              "  <tbody>\n",
              "    <tr>\n",
              "      <th>1°_dia</th>\n",
              "      <td>215</td>\n",
              "      <td>14.2</td>\n",
              "    </tr>\n",
              "    <tr>\n",
              "      <th>2°_dia</th>\n",
              "      <td>325</td>\n",
              "      <td>16.4</td>\n",
              "    </tr>\n",
              "    <tr>\n",
              "      <th>3°_dia</th>\n",
              "      <td>185</td>\n",
              "      <td>11.9</td>\n",
              "    </tr>\n",
              "    <tr>\n",
              "      <th>4°_dia</th>\n",
              "      <td>332</td>\n",
              "      <td>15.2</td>\n",
              "    </tr>\n",
              "    <tr>\n",
              "      <th>5°_dia</th>\n",
              "      <td>406</td>\n",
              "      <td>18.5</td>\n",
              "    </tr>\n",
              "    <tr>\n",
              "      <th>6°_dia</th>\n",
              "      <td>522</td>\n",
              "      <td>22.1</td>\n",
              "    </tr>\n",
              "    <tr>\n",
              "      <th>7°_dia</th>\n",
              "      <td>412</td>\n",
              "      <td>19.4</td>\n",
              "    </tr>\n",
              "    <tr>\n",
              "      <th>8°_dia</th>\n",
              "      <td>614</td>\n",
              "      <td>25.1</td>\n",
              "    </tr>\n",
              "    <tr>\n",
              "      <th>9°_dia</th>\n",
              "      <td>544</td>\n",
              "      <td>23.4</td>\n",
              "    </tr>\n",
              "    <tr>\n",
              "      <th>10°_dia</th>\n",
              "      <td>421</td>\n",
              "      <td>18.1</td>\n",
              "    </tr>\n",
              "    <tr>\n",
              "      <th>11°_dia</th>\n",
              "      <td>445</td>\n",
              "      <td>22.6</td>\n",
              "    </tr>\n",
              "    <tr>\n",
              "      <th>12°_dia</th>\n",
              "      <td>408</td>\n",
              "      <td>17.2</td>\n",
              "    </tr>\n",
              "  </tbody>\n",
              "</table>\n",
              "</div>"
            ],
            "text/plain": [
              "         Temperature_°C  Ice_Cream_Sales\n",
              "1°_dia              215             14.2\n",
              "2°_dia              325             16.4\n",
              "3°_dia              185             11.9\n",
              "4°_dia              332             15.2\n",
              "5°_dia              406             18.5\n",
              "6°_dia              522             22.1\n",
              "7°_dia              412             19.4\n",
              "8°_dia              614             25.1\n",
              "9°_dia              544             23.4\n",
              "10°_dia             421             18.1\n",
              "11°_dia             445             22.6\n",
              "12°_dia             408             17.2"
            ]
          },
          "metadata": {
            "tags": []
          },
          "execution_count": 5
        }
      ]
    },
    {
      "cell_type": "markdown",
      "metadata": {
        "id": "0k-DO9aTfrZT"
      },
      "source": [
        "##6. Pandas DATAFRAMES - Using Brackets Notation:\n",
        "\n",
        "### DATAFRAMES - The primary Pandas data structure!\n",
        "\n",
        "#### Getting specific Column LIKE THIS:  **df['Specific_column']**..."
      ]
    },
    {
      "cell_type": "code",
      "metadata": {
        "colab": {
          "base_uri": "https://localhost:8080/"
        },
        "id": "flvBQC-bCarP",
        "outputId": "edcc8946-aa76-4bfc-c595-a9ba1848447e"
      },
      "source": [
        "# DATAFRAMES Can be thought of as a dict-like container for Series objects\n",
        "# Here I am passing the Column NAME as string:\n",
        "df['Temperature_°C']"
      ],
      "execution_count": null,
      "outputs": [
        {
          "output_type": "execute_result",
          "data": {
            "text/plain": [
              "1°_dia     215\n",
              "2°_dia     325\n",
              "3°_dia     185\n",
              "4°_dia     332\n",
              "5°_dia     406\n",
              "6°_dia     522\n",
              "7°_dia     412\n",
              "8°_dia     614\n",
              "9°_dia     544\n",
              "10°_dia    421\n",
              "11°_dia    445\n",
              "12°_dia    408\n",
              "Name: Temperature_°C, dtype: int64"
            ]
          },
          "metadata": {
            "tags": []
          },
          "execution_count": 6
        }
      ]
    },
    {
      "cell_type": "code",
      "metadata": {
        "colab": {
          "base_uri": "https://localhost:8080/"
        },
        "id": "j2NmiTx8E2hN",
        "outputId": "eec71ceb-c655-49c7-f19b-9096b9a3c267"
      },
      "source": [
        "type(df['Temperature_°C'])"
      ],
      "execution_count": null,
      "outputs": [
        {
          "output_type": "execute_result",
          "data": {
            "text/plain": [
              "pandas.core.series.Series"
            ]
          },
          "metadata": {
            "tags": []
          },
          "execution_count": 7
        }
      ]
    },
    {
      "cell_type": "markdown",
      "metadata": {
        "id": "vCCG6Cd7kUuq"
      },
      "source": [
        "#### ...or like this: **df[['List_of_Columns']]**"
      ]
    },
    {
      "cell_type": "code",
      "metadata": {
        "colab": {
          "base_uri": "https://localhost:8080/",
          "height": 402
        },
        "id": "JjAZRvlPj6Ax",
        "outputId": "5b50246e-9439-440d-9b0c-1ffc1049b49a"
      },
      "source": [
        "# Here I am passing the Columns' LIST:\n",
        "df[['Temperature_°C','Ice_Cream_Sales'] ]"
      ],
      "execution_count": null,
      "outputs": [
        {
          "output_type": "execute_result",
          "data": {
            "text/html": [
              "<div>\n",
              "<style scoped>\n",
              "    .dataframe tbody tr th:only-of-type {\n",
              "        vertical-align: middle;\n",
              "    }\n",
              "\n",
              "    .dataframe tbody tr th {\n",
              "        vertical-align: top;\n",
              "    }\n",
              "\n",
              "    .dataframe thead th {\n",
              "        text-align: right;\n",
              "    }\n",
              "</style>\n",
              "<table border=\"1\" class=\"dataframe\">\n",
              "  <thead>\n",
              "    <tr style=\"text-align: right;\">\n",
              "      <th></th>\n",
              "      <th>Temperature_°C</th>\n",
              "      <th>Ice_Cream_Sales</th>\n",
              "    </tr>\n",
              "  </thead>\n",
              "  <tbody>\n",
              "    <tr>\n",
              "      <th>1°_dia</th>\n",
              "      <td>215</td>\n",
              "      <td>14.2</td>\n",
              "    </tr>\n",
              "    <tr>\n",
              "      <th>2°_dia</th>\n",
              "      <td>325</td>\n",
              "      <td>16.4</td>\n",
              "    </tr>\n",
              "    <tr>\n",
              "      <th>3°_dia</th>\n",
              "      <td>185</td>\n",
              "      <td>11.9</td>\n",
              "    </tr>\n",
              "    <tr>\n",
              "      <th>4°_dia</th>\n",
              "      <td>332</td>\n",
              "      <td>15.2</td>\n",
              "    </tr>\n",
              "    <tr>\n",
              "      <th>5°_dia</th>\n",
              "      <td>406</td>\n",
              "      <td>18.5</td>\n",
              "    </tr>\n",
              "    <tr>\n",
              "      <th>6°_dia</th>\n",
              "      <td>522</td>\n",
              "      <td>22.1</td>\n",
              "    </tr>\n",
              "    <tr>\n",
              "      <th>7°_dia</th>\n",
              "      <td>412</td>\n",
              "      <td>19.4</td>\n",
              "    </tr>\n",
              "    <tr>\n",
              "      <th>8°_dia</th>\n",
              "      <td>614</td>\n",
              "      <td>25.1</td>\n",
              "    </tr>\n",
              "    <tr>\n",
              "      <th>9°_dia</th>\n",
              "      <td>544</td>\n",
              "      <td>23.4</td>\n",
              "    </tr>\n",
              "    <tr>\n",
              "      <th>10°_dia</th>\n",
              "      <td>421</td>\n",
              "      <td>18.1</td>\n",
              "    </tr>\n",
              "    <tr>\n",
              "      <th>11°_dia</th>\n",
              "      <td>445</td>\n",
              "      <td>22.6</td>\n",
              "    </tr>\n",
              "    <tr>\n",
              "      <th>12°_dia</th>\n",
              "      <td>408</td>\n",
              "      <td>17.2</td>\n",
              "    </tr>\n",
              "  </tbody>\n",
              "</table>\n",
              "</div>"
            ],
            "text/plain": [
              "         Temperature_°C  Ice_Cream_Sales\n",
              "1°_dia              215             14.2\n",
              "2°_dia              325             16.4\n",
              "3°_dia              185             11.9\n",
              "4°_dia              332             15.2\n",
              "5°_dia              406             18.5\n",
              "6°_dia              522             22.1\n",
              "7°_dia              412             19.4\n",
              "8°_dia              614             25.1\n",
              "9°_dia              544             23.4\n",
              "10°_dia             421             18.1\n",
              "11°_dia             445             22.6\n",
              "12°_dia             408             17.2"
            ]
          },
          "metadata": {
            "tags": []
          },
          "execution_count": 8
        }
      ]
    },
    {
      "cell_type": "code",
      "metadata": {
        "colab": {
          "base_uri": "https://localhost:8080/"
        },
        "id": "mipwdPs2FCFV",
        "outputId": "d332c8b4-11ed-4d58-ffa4-2630530da753"
      },
      "source": [
        "# We've got a DATAFRAME object:\n",
        "type(df)"
      ],
      "execution_count": null,
      "outputs": [
        {
          "output_type": "execute_result",
          "data": {
            "text/plain": [
              "pandas.core.frame.DataFrame"
            ]
          },
          "metadata": {
            "tags": []
          },
          "execution_count": 9
        }
      ]
    },
    {
      "cell_type": "code",
      "metadata": {
        "colab": {
          "base_uri": "https://localhost:8080/"
        },
        "id": "iNLWDnGqFLhB",
        "outputId": "613b81c2-f57f-462a-95ac-908f1bf52158"
      },
      "source": [
        "# Returning a SERIES object\n",
        "df.Ice_Cream_Sales\n"
      ],
      "execution_count": null,
      "outputs": [
        {
          "output_type": "execute_result",
          "data": {
            "text/plain": [
              "1°_dia     14.2\n",
              "2°_dia     16.4\n",
              "3°_dia     11.9\n",
              "4°_dia     15.2\n",
              "5°_dia     18.5\n",
              "6°_dia     22.1\n",
              "7°_dia     19.4\n",
              "8°_dia     25.1\n",
              "9°_dia     23.4\n",
              "10°_dia    18.1\n",
              "11°_dia    22.6\n",
              "12°_dia    17.2\n",
              "Name: Ice_Cream_Sales, dtype: float64"
            ]
          },
          "metadata": {
            "tags": []
          },
          "execution_count": 10
        }
      ]
    },
    {
      "cell_type": "code",
      "metadata": {
        "colab": {
          "base_uri": "https://localhost:8080/",
          "height": 402
        },
        "id": "NZ8TjgyMFPhO",
        "outputId": "f216de91-d55f-4869-df20-a98b8c3dcc12"
      },
      "source": [
        "# Returning a DATAFRAME object\n",
        "df[['Ice_Cream_Sales']]"
      ],
      "execution_count": null,
      "outputs": [
        {
          "output_type": "execute_result",
          "data": {
            "text/html": [
              "<div>\n",
              "<style scoped>\n",
              "    .dataframe tbody tr th:only-of-type {\n",
              "        vertical-align: middle;\n",
              "    }\n",
              "\n",
              "    .dataframe tbody tr th {\n",
              "        vertical-align: top;\n",
              "    }\n",
              "\n",
              "    .dataframe thead th {\n",
              "        text-align: right;\n",
              "    }\n",
              "</style>\n",
              "<table border=\"1\" class=\"dataframe\">\n",
              "  <thead>\n",
              "    <tr style=\"text-align: right;\">\n",
              "      <th></th>\n",
              "      <th>Ice_Cream_Sales</th>\n",
              "    </tr>\n",
              "  </thead>\n",
              "  <tbody>\n",
              "    <tr>\n",
              "      <th>1°_dia</th>\n",
              "      <td>14.2</td>\n",
              "    </tr>\n",
              "    <tr>\n",
              "      <th>2°_dia</th>\n",
              "      <td>16.4</td>\n",
              "    </tr>\n",
              "    <tr>\n",
              "      <th>3°_dia</th>\n",
              "      <td>11.9</td>\n",
              "    </tr>\n",
              "    <tr>\n",
              "      <th>4°_dia</th>\n",
              "      <td>15.2</td>\n",
              "    </tr>\n",
              "    <tr>\n",
              "      <th>5°_dia</th>\n",
              "      <td>18.5</td>\n",
              "    </tr>\n",
              "    <tr>\n",
              "      <th>6°_dia</th>\n",
              "      <td>22.1</td>\n",
              "    </tr>\n",
              "    <tr>\n",
              "      <th>7°_dia</th>\n",
              "      <td>19.4</td>\n",
              "    </tr>\n",
              "    <tr>\n",
              "      <th>8°_dia</th>\n",
              "      <td>25.1</td>\n",
              "    </tr>\n",
              "    <tr>\n",
              "      <th>9°_dia</th>\n",
              "      <td>23.4</td>\n",
              "    </tr>\n",
              "    <tr>\n",
              "      <th>10°_dia</th>\n",
              "      <td>18.1</td>\n",
              "    </tr>\n",
              "    <tr>\n",
              "      <th>11°_dia</th>\n",
              "      <td>22.6</td>\n",
              "    </tr>\n",
              "    <tr>\n",
              "      <th>12°_dia</th>\n",
              "      <td>17.2</td>\n",
              "    </tr>\n",
              "  </tbody>\n",
              "</table>\n",
              "</div>"
            ],
            "text/plain": [
              "         Ice_Cream_Sales\n",
              "1°_dia              14.2\n",
              "2°_dia              16.4\n",
              "3°_dia              11.9\n",
              "4°_dia              15.2\n",
              "5°_dia              18.5\n",
              "6°_dia              22.1\n",
              "7°_dia              19.4\n",
              "8°_dia              25.1\n",
              "9°_dia              23.4\n",
              "10°_dia             18.1\n",
              "11°_dia             22.6\n",
              "12°_dia             17.2"
            ]
          },
          "metadata": {
            "tags": []
          },
          "execution_count": 11
        }
      ]
    },
    {
      "cell_type": "markdown",
      "metadata": {
        "id": "WCMWDzBNlc4e"
      },
      "source": [
        "##7. Creating a New Column (X.Y):\n",
        "\n",
        "### Making a Multiply Operation with DATAFRAMES:"
      ]
    },
    {
      "cell_type": "code",
      "metadata": {
        "colab": {
          "base_uri": "https://localhost:8080/",
          "height": 402
        },
        "id": "u4VEzImpFaB2",
        "outputId": "909a28c8-5485-47e1-cb12-6158fda6a844"
      },
      "source": [
        "df['X.Y'] = df[ 'Temperature_°C'] * df['Ice_Cream_Sales']\n",
        "df"
      ],
      "execution_count": null,
      "outputs": [
        {
          "output_type": "execute_result",
          "data": {
            "text/html": [
              "<div>\n",
              "<style scoped>\n",
              "    .dataframe tbody tr th:only-of-type {\n",
              "        vertical-align: middle;\n",
              "    }\n",
              "\n",
              "    .dataframe tbody tr th {\n",
              "        vertical-align: top;\n",
              "    }\n",
              "\n",
              "    .dataframe thead th {\n",
              "        text-align: right;\n",
              "    }\n",
              "</style>\n",
              "<table border=\"1\" class=\"dataframe\">\n",
              "  <thead>\n",
              "    <tr style=\"text-align: right;\">\n",
              "      <th></th>\n",
              "      <th>Temperature_°C</th>\n",
              "      <th>Ice_Cream_Sales</th>\n",
              "      <th>X.Y</th>\n",
              "    </tr>\n",
              "  </thead>\n",
              "  <tbody>\n",
              "    <tr>\n",
              "      <th>1°_dia</th>\n",
              "      <td>215</td>\n",
              "      <td>14.2</td>\n",
              "      <td>3053.0</td>\n",
              "    </tr>\n",
              "    <tr>\n",
              "      <th>2°_dia</th>\n",
              "      <td>325</td>\n",
              "      <td>16.4</td>\n",
              "      <td>5330.0</td>\n",
              "    </tr>\n",
              "    <tr>\n",
              "      <th>3°_dia</th>\n",
              "      <td>185</td>\n",
              "      <td>11.9</td>\n",
              "      <td>2201.5</td>\n",
              "    </tr>\n",
              "    <tr>\n",
              "      <th>4°_dia</th>\n",
              "      <td>332</td>\n",
              "      <td>15.2</td>\n",
              "      <td>5046.4</td>\n",
              "    </tr>\n",
              "    <tr>\n",
              "      <th>5°_dia</th>\n",
              "      <td>406</td>\n",
              "      <td>18.5</td>\n",
              "      <td>7511.0</td>\n",
              "    </tr>\n",
              "    <tr>\n",
              "      <th>6°_dia</th>\n",
              "      <td>522</td>\n",
              "      <td>22.1</td>\n",
              "      <td>11536.2</td>\n",
              "    </tr>\n",
              "    <tr>\n",
              "      <th>7°_dia</th>\n",
              "      <td>412</td>\n",
              "      <td>19.4</td>\n",
              "      <td>7992.8</td>\n",
              "    </tr>\n",
              "    <tr>\n",
              "      <th>8°_dia</th>\n",
              "      <td>614</td>\n",
              "      <td>25.1</td>\n",
              "      <td>15411.4</td>\n",
              "    </tr>\n",
              "    <tr>\n",
              "      <th>9°_dia</th>\n",
              "      <td>544</td>\n",
              "      <td>23.4</td>\n",
              "      <td>12729.6</td>\n",
              "    </tr>\n",
              "    <tr>\n",
              "      <th>10°_dia</th>\n",
              "      <td>421</td>\n",
              "      <td>18.1</td>\n",
              "      <td>7620.1</td>\n",
              "    </tr>\n",
              "    <tr>\n",
              "      <th>11°_dia</th>\n",
              "      <td>445</td>\n",
              "      <td>22.6</td>\n",
              "      <td>10057.0</td>\n",
              "    </tr>\n",
              "    <tr>\n",
              "      <th>12°_dia</th>\n",
              "      <td>408</td>\n",
              "      <td>17.2</td>\n",
              "      <td>7017.6</td>\n",
              "    </tr>\n",
              "  </tbody>\n",
              "</table>\n",
              "</div>"
            ],
            "text/plain": [
              "         Temperature_°C  Ice_Cream_Sales      X.Y\n",
              "1°_dia              215             14.2   3053.0\n",
              "2°_dia              325             16.4   5330.0\n",
              "3°_dia              185             11.9   2201.5\n",
              "4°_dia              332             15.2   5046.4\n",
              "5°_dia              406             18.5   7511.0\n",
              "6°_dia              522             22.1  11536.2\n",
              "7°_dia              412             19.4   7992.8\n",
              "8°_dia              614             25.1  15411.4\n",
              "9°_dia              544             23.4  12729.6\n",
              "10°_dia             421             18.1   7620.1\n",
              "11°_dia             445             22.6  10057.0\n",
              "12°_dia             408             17.2   7017.6"
            ]
          },
          "metadata": {
            "tags": []
          },
          "execution_count": 12
        }
      ]
    },
    {
      "cell_type": "markdown",
      "metadata": {
        "id": "fwQyaktslq4O"
      },
      "source": [
        "##8. Dropping Columns:\n",
        "\n",
        "\n",
        "When **inplace = True** , the data is modified in place, which means it will return nothing and the dataframe is now updated. \n",
        "\n",
        "When **inplace = False** (DEFAULT) , which is the default, then the operation is performed and it returns a copy of the object. You then need to save it to something."
      ]
    },
    {
      "cell_type": "code",
      "metadata": {
        "colab": {
          "base_uri": "https://localhost:8080/",
          "height": 402
        },
        "id": "goA7TDSbFvxI",
        "outputId": "c7a15bcc-3ed8-4345-cdd6-84df199b13ee"
      },
      "source": [
        "df.drop('X.Y', axis=1, inplace=False)"
      ],
      "execution_count": null,
      "outputs": [
        {
          "output_type": "execute_result",
          "data": {
            "text/html": [
              "<div>\n",
              "<style scoped>\n",
              "    .dataframe tbody tr th:only-of-type {\n",
              "        vertical-align: middle;\n",
              "    }\n",
              "\n",
              "    .dataframe tbody tr th {\n",
              "        vertical-align: top;\n",
              "    }\n",
              "\n",
              "    .dataframe thead th {\n",
              "        text-align: right;\n",
              "    }\n",
              "</style>\n",
              "<table border=\"1\" class=\"dataframe\">\n",
              "  <thead>\n",
              "    <tr style=\"text-align: right;\">\n",
              "      <th></th>\n",
              "      <th>Temperature_°C</th>\n",
              "      <th>Ice_Cream_Sales</th>\n",
              "    </tr>\n",
              "  </thead>\n",
              "  <tbody>\n",
              "    <tr>\n",
              "      <th>1°_dia</th>\n",
              "      <td>215</td>\n",
              "      <td>14.2</td>\n",
              "    </tr>\n",
              "    <tr>\n",
              "      <th>2°_dia</th>\n",
              "      <td>325</td>\n",
              "      <td>16.4</td>\n",
              "    </tr>\n",
              "    <tr>\n",
              "      <th>3°_dia</th>\n",
              "      <td>185</td>\n",
              "      <td>11.9</td>\n",
              "    </tr>\n",
              "    <tr>\n",
              "      <th>4°_dia</th>\n",
              "      <td>332</td>\n",
              "      <td>15.2</td>\n",
              "    </tr>\n",
              "    <tr>\n",
              "      <th>5°_dia</th>\n",
              "      <td>406</td>\n",
              "      <td>18.5</td>\n",
              "    </tr>\n",
              "    <tr>\n",
              "      <th>6°_dia</th>\n",
              "      <td>522</td>\n",
              "      <td>22.1</td>\n",
              "    </tr>\n",
              "    <tr>\n",
              "      <th>7°_dia</th>\n",
              "      <td>412</td>\n",
              "      <td>19.4</td>\n",
              "    </tr>\n",
              "    <tr>\n",
              "      <th>8°_dia</th>\n",
              "      <td>614</td>\n",
              "      <td>25.1</td>\n",
              "    </tr>\n",
              "    <tr>\n",
              "      <th>9°_dia</th>\n",
              "      <td>544</td>\n",
              "      <td>23.4</td>\n",
              "    </tr>\n",
              "    <tr>\n",
              "      <th>10°_dia</th>\n",
              "      <td>421</td>\n",
              "      <td>18.1</td>\n",
              "    </tr>\n",
              "    <tr>\n",
              "      <th>11°_dia</th>\n",
              "      <td>445</td>\n",
              "      <td>22.6</td>\n",
              "    </tr>\n",
              "    <tr>\n",
              "      <th>12°_dia</th>\n",
              "      <td>408</td>\n",
              "      <td>17.2</td>\n",
              "    </tr>\n",
              "  </tbody>\n",
              "</table>\n",
              "</div>"
            ],
            "text/plain": [
              "         Temperature_°C  Ice_Cream_Sales\n",
              "1°_dia              215             14.2\n",
              "2°_dia              325             16.4\n",
              "3°_dia              185             11.9\n",
              "4°_dia              332             15.2\n",
              "5°_dia              406             18.5\n",
              "6°_dia              522             22.1\n",
              "7°_dia              412             19.4\n",
              "8°_dia              614             25.1\n",
              "9°_dia              544             23.4\n",
              "10°_dia             421             18.1\n",
              "11°_dia             445             22.6\n",
              "12°_dia             408             17.2"
            ]
          },
          "metadata": {
            "tags": []
          },
          "execution_count": 13
        }
      ]
    },
    {
      "cell_type": "code",
      "metadata": {
        "colab": {
          "base_uri": "https://localhost:8080/",
          "height": 402
        },
        "id": "o3VhyzxNGHHv",
        "outputId": "587d8d5d-20f1-4204-80ea-7136b303db8f"
      },
      "source": [
        "df"
      ],
      "execution_count": null,
      "outputs": [
        {
          "output_type": "execute_result",
          "data": {
            "text/html": [
              "<div>\n",
              "<style scoped>\n",
              "    .dataframe tbody tr th:only-of-type {\n",
              "        vertical-align: middle;\n",
              "    }\n",
              "\n",
              "    .dataframe tbody tr th {\n",
              "        vertical-align: top;\n",
              "    }\n",
              "\n",
              "    .dataframe thead th {\n",
              "        text-align: right;\n",
              "    }\n",
              "</style>\n",
              "<table border=\"1\" class=\"dataframe\">\n",
              "  <thead>\n",
              "    <tr style=\"text-align: right;\">\n",
              "      <th></th>\n",
              "      <th>Temperature_°C</th>\n",
              "      <th>Ice_Cream_Sales</th>\n",
              "      <th>X.Y</th>\n",
              "    </tr>\n",
              "  </thead>\n",
              "  <tbody>\n",
              "    <tr>\n",
              "      <th>1°_dia</th>\n",
              "      <td>215</td>\n",
              "      <td>14.2</td>\n",
              "      <td>3053.0</td>\n",
              "    </tr>\n",
              "    <tr>\n",
              "      <th>2°_dia</th>\n",
              "      <td>325</td>\n",
              "      <td>16.4</td>\n",
              "      <td>5330.0</td>\n",
              "    </tr>\n",
              "    <tr>\n",
              "      <th>3°_dia</th>\n",
              "      <td>185</td>\n",
              "      <td>11.9</td>\n",
              "      <td>2201.5</td>\n",
              "    </tr>\n",
              "    <tr>\n",
              "      <th>4°_dia</th>\n",
              "      <td>332</td>\n",
              "      <td>15.2</td>\n",
              "      <td>5046.4</td>\n",
              "    </tr>\n",
              "    <tr>\n",
              "      <th>5°_dia</th>\n",
              "      <td>406</td>\n",
              "      <td>18.5</td>\n",
              "      <td>7511.0</td>\n",
              "    </tr>\n",
              "    <tr>\n",
              "      <th>6°_dia</th>\n",
              "      <td>522</td>\n",
              "      <td>22.1</td>\n",
              "      <td>11536.2</td>\n",
              "    </tr>\n",
              "    <tr>\n",
              "      <th>7°_dia</th>\n",
              "      <td>412</td>\n",
              "      <td>19.4</td>\n",
              "      <td>7992.8</td>\n",
              "    </tr>\n",
              "    <tr>\n",
              "      <th>8°_dia</th>\n",
              "      <td>614</td>\n",
              "      <td>25.1</td>\n",
              "      <td>15411.4</td>\n",
              "    </tr>\n",
              "    <tr>\n",
              "      <th>9°_dia</th>\n",
              "      <td>544</td>\n",
              "      <td>23.4</td>\n",
              "      <td>12729.6</td>\n",
              "    </tr>\n",
              "    <tr>\n",
              "      <th>10°_dia</th>\n",
              "      <td>421</td>\n",
              "      <td>18.1</td>\n",
              "      <td>7620.1</td>\n",
              "    </tr>\n",
              "    <tr>\n",
              "      <th>11°_dia</th>\n",
              "      <td>445</td>\n",
              "      <td>22.6</td>\n",
              "      <td>10057.0</td>\n",
              "    </tr>\n",
              "    <tr>\n",
              "      <th>12°_dia</th>\n",
              "      <td>408</td>\n",
              "      <td>17.2</td>\n",
              "      <td>7017.6</td>\n",
              "    </tr>\n",
              "  </tbody>\n",
              "</table>\n",
              "</div>"
            ],
            "text/plain": [
              "         Temperature_°C  Ice_Cream_Sales      X.Y\n",
              "1°_dia              215             14.2   3053.0\n",
              "2°_dia              325             16.4   5330.0\n",
              "3°_dia              185             11.9   2201.5\n",
              "4°_dia              332             15.2   5046.4\n",
              "5°_dia              406             18.5   7511.0\n",
              "6°_dia              522             22.1  11536.2\n",
              "7°_dia              412             19.4   7992.8\n",
              "8°_dia              614             25.1  15411.4\n",
              "9°_dia              544             23.4  12729.6\n",
              "10°_dia             421             18.1   7620.1\n",
              "11°_dia             445             22.6  10057.0\n",
              "12°_dia             408             17.2   7017.6"
            ]
          },
          "metadata": {
            "tags": []
          },
          "execution_count": 14
        }
      ]
    },
    {
      "cell_type": "code",
      "metadata": {
        "id": "9gArixO7mvnd"
      },
      "source": [
        "df.drop('X.Y', axis=1, inplace=True)"
      ],
      "execution_count": null,
      "outputs": []
    },
    {
      "cell_type": "code",
      "metadata": {
        "colab": {
          "base_uri": "https://localhost:8080/",
          "height": 402
        },
        "id": "yyNLU4lnmzF2",
        "outputId": "ec3d1a31-dcb7-47c8-adcb-ec2f9945f98a"
      },
      "source": [
        "df"
      ],
      "execution_count": null,
      "outputs": [
        {
          "output_type": "execute_result",
          "data": {
            "text/html": [
              "<div>\n",
              "<style scoped>\n",
              "    .dataframe tbody tr th:only-of-type {\n",
              "        vertical-align: middle;\n",
              "    }\n",
              "\n",
              "    .dataframe tbody tr th {\n",
              "        vertical-align: top;\n",
              "    }\n",
              "\n",
              "    .dataframe thead th {\n",
              "        text-align: right;\n",
              "    }\n",
              "</style>\n",
              "<table border=\"1\" class=\"dataframe\">\n",
              "  <thead>\n",
              "    <tr style=\"text-align: right;\">\n",
              "      <th></th>\n",
              "      <th>Temperature_°C</th>\n",
              "      <th>Ice_Cream_Sales</th>\n",
              "    </tr>\n",
              "  </thead>\n",
              "  <tbody>\n",
              "    <tr>\n",
              "      <th>1°_dia</th>\n",
              "      <td>215</td>\n",
              "      <td>14.2</td>\n",
              "    </tr>\n",
              "    <tr>\n",
              "      <th>2°_dia</th>\n",
              "      <td>325</td>\n",
              "      <td>16.4</td>\n",
              "    </tr>\n",
              "    <tr>\n",
              "      <th>3°_dia</th>\n",
              "      <td>185</td>\n",
              "      <td>11.9</td>\n",
              "    </tr>\n",
              "    <tr>\n",
              "      <th>4°_dia</th>\n",
              "      <td>332</td>\n",
              "      <td>15.2</td>\n",
              "    </tr>\n",
              "    <tr>\n",
              "      <th>5°_dia</th>\n",
              "      <td>406</td>\n",
              "      <td>18.5</td>\n",
              "    </tr>\n",
              "    <tr>\n",
              "      <th>6°_dia</th>\n",
              "      <td>522</td>\n",
              "      <td>22.1</td>\n",
              "    </tr>\n",
              "    <tr>\n",
              "      <th>7°_dia</th>\n",
              "      <td>412</td>\n",
              "      <td>19.4</td>\n",
              "    </tr>\n",
              "    <tr>\n",
              "      <th>8°_dia</th>\n",
              "      <td>614</td>\n",
              "      <td>25.1</td>\n",
              "    </tr>\n",
              "    <tr>\n",
              "      <th>9°_dia</th>\n",
              "      <td>544</td>\n",
              "      <td>23.4</td>\n",
              "    </tr>\n",
              "    <tr>\n",
              "      <th>10°_dia</th>\n",
              "      <td>421</td>\n",
              "      <td>18.1</td>\n",
              "    </tr>\n",
              "    <tr>\n",
              "      <th>11°_dia</th>\n",
              "      <td>445</td>\n",
              "      <td>22.6</td>\n",
              "    </tr>\n",
              "    <tr>\n",
              "      <th>12°_dia</th>\n",
              "      <td>408</td>\n",
              "      <td>17.2</td>\n",
              "    </tr>\n",
              "  </tbody>\n",
              "</table>\n",
              "</div>"
            ],
            "text/plain": [
              "         Temperature_°C  Ice_Cream_Sales\n",
              "1°_dia              215             14.2\n",
              "2°_dia              325             16.4\n",
              "3°_dia              185             11.9\n",
              "4°_dia              332             15.2\n",
              "5°_dia              406             18.5\n",
              "6°_dia              522             22.1\n",
              "7°_dia              412             19.4\n",
              "8°_dia              614             25.1\n",
              "9°_dia              544             23.4\n",
              "10°_dia             421             18.1\n",
              "11°_dia             445             22.6\n",
              "12°_dia             408             17.2"
            ]
          },
          "metadata": {
            "tags": []
          },
          "execution_count": 16
        }
      ]
    },
    {
      "cell_type": "markdown",
      "metadata": {
        "id": "_Qj5EUDRm3WK"
      },
      "source": [
        "##9. Dropping Rows:"
      ]
    },
    {
      "cell_type": "code",
      "metadata": {
        "colab": {
          "base_uri": "https://localhost:8080/",
          "height": 373
        },
        "id": "kyzZxgJgGUcL",
        "outputId": "089089d8-90ac-4770-d5eb-543b681c79bc"
      },
      "source": [
        "df.drop('12°_dia', axis=0)"
      ],
      "execution_count": null,
      "outputs": [
        {
          "output_type": "execute_result",
          "data": {
            "text/html": [
              "<div>\n",
              "<style scoped>\n",
              "    .dataframe tbody tr th:only-of-type {\n",
              "        vertical-align: middle;\n",
              "    }\n",
              "\n",
              "    .dataframe tbody tr th {\n",
              "        vertical-align: top;\n",
              "    }\n",
              "\n",
              "    .dataframe thead th {\n",
              "        text-align: right;\n",
              "    }\n",
              "</style>\n",
              "<table border=\"1\" class=\"dataframe\">\n",
              "  <thead>\n",
              "    <tr style=\"text-align: right;\">\n",
              "      <th></th>\n",
              "      <th>Temperature_°C</th>\n",
              "      <th>Ice_Cream_Sales</th>\n",
              "    </tr>\n",
              "  </thead>\n",
              "  <tbody>\n",
              "    <tr>\n",
              "      <th>1°_dia</th>\n",
              "      <td>215</td>\n",
              "      <td>14.2</td>\n",
              "    </tr>\n",
              "    <tr>\n",
              "      <th>2°_dia</th>\n",
              "      <td>325</td>\n",
              "      <td>16.4</td>\n",
              "    </tr>\n",
              "    <tr>\n",
              "      <th>3°_dia</th>\n",
              "      <td>185</td>\n",
              "      <td>11.9</td>\n",
              "    </tr>\n",
              "    <tr>\n",
              "      <th>4°_dia</th>\n",
              "      <td>332</td>\n",
              "      <td>15.2</td>\n",
              "    </tr>\n",
              "    <tr>\n",
              "      <th>5°_dia</th>\n",
              "      <td>406</td>\n",
              "      <td>18.5</td>\n",
              "    </tr>\n",
              "    <tr>\n",
              "      <th>6°_dia</th>\n",
              "      <td>522</td>\n",
              "      <td>22.1</td>\n",
              "    </tr>\n",
              "    <tr>\n",
              "      <th>7°_dia</th>\n",
              "      <td>412</td>\n",
              "      <td>19.4</td>\n",
              "    </tr>\n",
              "    <tr>\n",
              "      <th>8°_dia</th>\n",
              "      <td>614</td>\n",
              "      <td>25.1</td>\n",
              "    </tr>\n",
              "    <tr>\n",
              "      <th>9°_dia</th>\n",
              "      <td>544</td>\n",
              "      <td>23.4</td>\n",
              "    </tr>\n",
              "    <tr>\n",
              "      <th>10°_dia</th>\n",
              "      <td>421</td>\n",
              "      <td>18.1</td>\n",
              "    </tr>\n",
              "    <tr>\n",
              "      <th>11°_dia</th>\n",
              "      <td>445</td>\n",
              "      <td>22.6</td>\n",
              "    </tr>\n",
              "  </tbody>\n",
              "</table>\n",
              "</div>"
            ],
            "text/plain": [
              "         Temperature_°C  Ice_Cream_Sales\n",
              "1°_dia              215             14.2\n",
              "2°_dia              325             16.4\n",
              "3°_dia              185             11.9\n",
              "4°_dia              332             15.2\n",
              "5°_dia              406             18.5\n",
              "6°_dia              522             22.1\n",
              "7°_dia              412             19.4\n",
              "8°_dia              614             25.1\n",
              "9°_dia              544             23.4\n",
              "10°_dia             421             18.1\n",
              "11°_dia             445             22.6"
            ]
          },
          "metadata": {
            "tags": []
          },
          "execution_count": 17
        }
      ]
    },
    {
      "cell_type": "code",
      "metadata": {
        "colab": {
          "base_uri": "https://localhost:8080/",
          "height": 402
        },
        "id": "6X1Fp1vmGd3e",
        "outputId": "a1b7debd-a4d8-4a24-9ded-7c31b701d642"
      },
      "source": [
        "df"
      ],
      "execution_count": null,
      "outputs": [
        {
          "output_type": "execute_result",
          "data": {
            "text/html": [
              "<div>\n",
              "<style scoped>\n",
              "    .dataframe tbody tr th:only-of-type {\n",
              "        vertical-align: middle;\n",
              "    }\n",
              "\n",
              "    .dataframe tbody tr th {\n",
              "        vertical-align: top;\n",
              "    }\n",
              "\n",
              "    .dataframe thead th {\n",
              "        text-align: right;\n",
              "    }\n",
              "</style>\n",
              "<table border=\"1\" class=\"dataframe\">\n",
              "  <thead>\n",
              "    <tr style=\"text-align: right;\">\n",
              "      <th></th>\n",
              "      <th>Temperature_°C</th>\n",
              "      <th>Ice_Cream_Sales</th>\n",
              "    </tr>\n",
              "  </thead>\n",
              "  <tbody>\n",
              "    <tr>\n",
              "      <th>1°_dia</th>\n",
              "      <td>215</td>\n",
              "      <td>14.2</td>\n",
              "    </tr>\n",
              "    <tr>\n",
              "      <th>2°_dia</th>\n",
              "      <td>325</td>\n",
              "      <td>16.4</td>\n",
              "    </tr>\n",
              "    <tr>\n",
              "      <th>3°_dia</th>\n",
              "      <td>185</td>\n",
              "      <td>11.9</td>\n",
              "    </tr>\n",
              "    <tr>\n",
              "      <th>4°_dia</th>\n",
              "      <td>332</td>\n",
              "      <td>15.2</td>\n",
              "    </tr>\n",
              "    <tr>\n",
              "      <th>5°_dia</th>\n",
              "      <td>406</td>\n",
              "      <td>18.5</td>\n",
              "    </tr>\n",
              "    <tr>\n",
              "      <th>6°_dia</th>\n",
              "      <td>522</td>\n",
              "      <td>22.1</td>\n",
              "    </tr>\n",
              "    <tr>\n",
              "      <th>7°_dia</th>\n",
              "      <td>412</td>\n",
              "      <td>19.4</td>\n",
              "    </tr>\n",
              "    <tr>\n",
              "      <th>8°_dia</th>\n",
              "      <td>614</td>\n",
              "      <td>25.1</td>\n",
              "    </tr>\n",
              "    <tr>\n",
              "      <th>9°_dia</th>\n",
              "      <td>544</td>\n",
              "      <td>23.4</td>\n",
              "    </tr>\n",
              "    <tr>\n",
              "      <th>10°_dia</th>\n",
              "      <td>421</td>\n",
              "      <td>18.1</td>\n",
              "    </tr>\n",
              "    <tr>\n",
              "      <th>11°_dia</th>\n",
              "      <td>445</td>\n",
              "      <td>22.6</td>\n",
              "    </tr>\n",
              "    <tr>\n",
              "      <th>12°_dia</th>\n",
              "      <td>408</td>\n",
              "      <td>17.2</td>\n",
              "    </tr>\n",
              "  </tbody>\n",
              "</table>\n",
              "</div>"
            ],
            "text/plain": [
              "         Temperature_°C  Ice_Cream_Sales\n",
              "1°_dia              215             14.2\n",
              "2°_dia              325             16.4\n",
              "3°_dia              185             11.9\n",
              "4°_dia              332             15.2\n",
              "5°_dia              406             18.5\n",
              "6°_dia              522             22.1\n",
              "7°_dia              412             19.4\n",
              "8°_dia              614             25.1\n",
              "9°_dia              544             23.4\n",
              "10°_dia             421             18.1\n",
              "11°_dia             445             22.6\n",
              "12°_dia             408             17.2"
            ]
          },
          "metadata": {
            "tags": []
          },
          "execution_count": 18
        }
      ]
    },
    {
      "cell_type": "code",
      "metadata": {
        "colab": {
          "base_uri": "https://localhost:8080/"
        },
        "id": "Lysz1ir2kkU4",
        "outputId": "50f95c24-ebfd-452a-c184-dfa1c1912da5"
      },
      "source": [
        "df.shape"
      ],
      "execution_count": null,
      "outputs": [
        {
          "output_type": "execute_result",
          "data": {
            "text/plain": [
              "(12, 2)"
            ]
          },
          "metadata": {
            "tags": []
          },
          "execution_count": 19
        }
      ]
    },
    {
      "cell_type": "code",
      "metadata": {
        "id": "qVVFXmaZiAeJ"
      },
      "source": [
        "df.drop('12°_dia', axis=0, inplace=True)"
      ],
      "execution_count": null,
      "outputs": []
    },
    {
      "cell_type": "code",
      "metadata": {
        "colab": {
          "base_uri": "https://localhost:8080/",
          "height": 373
        },
        "id": "cAnxiyDZiGvG",
        "outputId": "0b7000b0-cca6-4e3e-8c5e-fe013aa33df5"
      },
      "source": [
        "df"
      ],
      "execution_count": null,
      "outputs": [
        {
          "output_type": "execute_result",
          "data": {
            "text/html": [
              "<div>\n",
              "<style scoped>\n",
              "    .dataframe tbody tr th:only-of-type {\n",
              "        vertical-align: middle;\n",
              "    }\n",
              "\n",
              "    .dataframe tbody tr th {\n",
              "        vertical-align: top;\n",
              "    }\n",
              "\n",
              "    .dataframe thead th {\n",
              "        text-align: right;\n",
              "    }\n",
              "</style>\n",
              "<table border=\"1\" class=\"dataframe\">\n",
              "  <thead>\n",
              "    <tr style=\"text-align: right;\">\n",
              "      <th></th>\n",
              "      <th>Temperature_°C</th>\n",
              "      <th>Ice_Cream_Sales</th>\n",
              "    </tr>\n",
              "  </thead>\n",
              "  <tbody>\n",
              "    <tr>\n",
              "      <th>1°_dia</th>\n",
              "      <td>215</td>\n",
              "      <td>14.2</td>\n",
              "    </tr>\n",
              "    <tr>\n",
              "      <th>2°_dia</th>\n",
              "      <td>325</td>\n",
              "      <td>16.4</td>\n",
              "    </tr>\n",
              "    <tr>\n",
              "      <th>3°_dia</th>\n",
              "      <td>185</td>\n",
              "      <td>11.9</td>\n",
              "    </tr>\n",
              "    <tr>\n",
              "      <th>4°_dia</th>\n",
              "      <td>332</td>\n",
              "      <td>15.2</td>\n",
              "    </tr>\n",
              "    <tr>\n",
              "      <th>5°_dia</th>\n",
              "      <td>406</td>\n",
              "      <td>18.5</td>\n",
              "    </tr>\n",
              "    <tr>\n",
              "      <th>6°_dia</th>\n",
              "      <td>522</td>\n",
              "      <td>22.1</td>\n",
              "    </tr>\n",
              "    <tr>\n",
              "      <th>7°_dia</th>\n",
              "      <td>412</td>\n",
              "      <td>19.4</td>\n",
              "    </tr>\n",
              "    <tr>\n",
              "      <th>8°_dia</th>\n",
              "      <td>614</td>\n",
              "      <td>25.1</td>\n",
              "    </tr>\n",
              "    <tr>\n",
              "      <th>9°_dia</th>\n",
              "      <td>544</td>\n",
              "      <td>23.4</td>\n",
              "    </tr>\n",
              "    <tr>\n",
              "      <th>10°_dia</th>\n",
              "      <td>421</td>\n",
              "      <td>18.1</td>\n",
              "    </tr>\n",
              "    <tr>\n",
              "      <th>11°_dia</th>\n",
              "      <td>445</td>\n",
              "      <td>22.6</td>\n",
              "    </tr>\n",
              "  </tbody>\n",
              "</table>\n",
              "</div>"
            ],
            "text/plain": [
              "         Temperature_°C  Ice_Cream_Sales\n",
              "1°_dia              215             14.2\n",
              "2°_dia              325             16.4\n",
              "3°_dia              185             11.9\n",
              "4°_dia              332             15.2\n",
              "5°_dia              406             18.5\n",
              "6°_dia              522             22.1\n",
              "7°_dia              412             19.4\n",
              "8°_dia              614             25.1\n",
              "9°_dia              544             23.4\n",
              "10°_dia             421             18.1\n",
              "11°_dia             445             22.6"
            ]
          },
          "metadata": {
            "tags": []
          },
          "execution_count": 21
        }
      ]
    },
    {
      "cell_type": "code",
      "metadata": {
        "colab": {
          "base_uri": "https://localhost:8080/"
        },
        "id": "0SYPSSRWGx3F",
        "outputId": "0d9accf2-13b2-41ab-c128-5fef18e25f99"
      },
      "source": [
        "df.shape"
      ],
      "execution_count": null,
      "outputs": [
        {
          "output_type": "execute_result",
          "data": {
            "text/plain": [
              "(11, 2)"
            ]
          },
          "metadata": {
            "tags": []
          },
          "execution_count": 22
        }
      ]
    },
    {
      "cell_type": "markdown",
      "metadata": {
        "id": "8U3K_xaQnE-I"
      },
      "source": [
        "##10. Selecting Rows - There are two methods:\n",
        "LOC -> **LABEL**-BASE index\n",
        "\n",
        "ILOC -> **NUMERICAL**-BASE index"
      ]
    },
    {
      "cell_type": "code",
      "metadata": {
        "colab": {
          "base_uri": "https://localhost:8080/"
        },
        "id": "9OOfPqlxG6Cu",
        "outputId": "6b1763d7-7d89-4936-c48a-5ab1f9244d13"
      },
      "source": [
        "# Calling the 11th day (loc): LABEL-BASE\n",
        "df.loc['11°_dia']"
      ],
      "execution_count": null,
      "outputs": [
        {
          "output_type": "execute_result",
          "data": {
            "text/plain": [
              "Temperature_°C     445.0\n",
              "Ice_Cream_Sales     22.6\n",
              "Name: 11°_dia, dtype: float64"
            ]
          },
          "metadata": {
            "tags": []
          },
          "execution_count": 23
        }
      ]
    },
    {
      "cell_type": "code",
      "metadata": {
        "colab": {
          "base_uri": "https://localhost:8080/"
        },
        "id": "PFLpqBsrHIj6",
        "outputId": "f88d7f09-8061-4d8f-965a-b254bd803217"
      },
      "source": [
        "# Calling the 11th day (iloc):  NUMERICAL-BASE\n",
        "df.iloc[10]"
      ],
      "execution_count": null,
      "outputs": [
        {
          "output_type": "execute_result",
          "data": {
            "text/plain": [
              "Temperature_°C     445.0\n",
              "Ice_Cream_Sales     22.6\n",
              "Name: 11°_dia, dtype: float64"
            ]
          },
          "metadata": {
            "tags": []
          },
          "execution_count": 24
        }
      ]
    },
    {
      "cell_type": "markdown",
      "metadata": {
        "id": "ZyF0NDUVpO1A"
      },
      "source": [
        "##11. Returning a Single Value:"
      ]
    },
    {
      "cell_type": "code",
      "metadata": {
        "colab": {
          "base_uri": "https://localhost:8080/",
          "height": 77
        },
        "id": "UyKa5tFKceGb",
        "outputId": "5cce6699-8268-4c38-ff97-159b27e0783b"
      },
      "source": [
        "# Calling the 9th day (loc): label-BASE\n",
        "df.loc[['9°_dia'],['Ice_Cream_Sales']]"
      ],
      "execution_count": null,
      "outputs": [
        {
          "output_type": "execute_result",
          "data": {
            "text/html": [
              "<div>\n",
              "<style scoped>\n",
              "    .dataframe tbody tr th:only-of-type {\n",
              "        vertical-align: middle;\n",
              "    }\n",
              "\n",
              "    .dataframe tbody tr th {\n",
              "        vertical-align: top;\n",
              "    }\n",
              "\n",
              "    .dataframe thead th {\n",
              "        text-align: right;\n",
              "    }\n",
              "</style>\n",
              "<table border=\"1\" class=\"dataframe\">\n",
              "  <thead>\n",
              "    <tr style=\"text-align: right;\">\n",
              "      <th></th>\n",
              "      <th>Ice_Cream_Sales</th>\n",
              "    </tr>\n",
              "  </thead>\n",
              "  <tbody>\n",
              "    <tr>\n",
              "      <th>9°_dia</th>\n",
              "      <td>23.4</td>\n",
              "    </tr>\n",
              "  </tbody>\n",
              "</table>\n",
              "</div>"
            ],
            "text/plain": [
              "        Ice_Cream_Sales\n",
              "9°_dia             23.4"
            ]
          },
          "metadata": {
            "tags": []
          },
          "execution_count": 25
        }
      ]
    },
    {
      "cell_type": "code",
      "metadata": {
        "colab": {
          "base_uri": "https://localhost:8080/"
        },
        "id": "JSwbHrlNKF_l",
        "outputId": "814b1f11-c7ae-4ab5-9024-7f9c6b3e8956"
      },
      "source": [
        "# Calling the Row 9th x Column 'Ice_Cream_Sales'  day (iloc):  Numerical-BASE\n",
        "df.iloc[8,1]"
      ],
      "execution_count": null,
      "outputs": [
        {
          "output_type": "execute_result",
          "data": {
            "text/plain": [
              "23.4"
            ]
          },
          "metadata": {
            "tags": []
          },
          "execution_count": 26
        }
      ]
    },
    {
      "cell_type": "markdown",
      "metadata": {
        "id": "fbMHqbg7ptmG"
      },
      "source": [
        "##12. Returning a SUB-SET of the DataFrame:"
      ]
    },
    {
      "cell_type": "code",
      "metadata": {
        "colab": {
          "base_uri": "https://localhost:8080/",
          "height": 136
        },
        "id": "9-YGM-8pjN3b",
        "outputId": "097a6b30-d6bf-4593-b740-155f6864c2e4"
      },
      "source": [
        "df.loc[['7°_dia','8°_dia', '9°_dia'],['Ice_Cream_Sales']]"
      ],
      "execution_count": null,
      "outputs": [
        {
          "output_type": "execute_result",
          "data": {
            "text/html": [
              "<div>\n",
              "<style scoped>\n",
              "    .dataframe tbody tr th:only-of-type {\n",
              "        vertical-align: middle;\n",
              "    }\n",
              "\n",
              "    .dataframe tbody tr th {\n",
              "        vertical-align: top;\n",
              "    }\n",
              "\n",
              "    .dataframe thead th {\n",
              "        text-align: right;\n",
              "    }\n",
              "</style>\n",
              "<table border=\"1\" class=\"dataframe\">\n",
              "  <thead>\n",
              "    <tr style=\"text-align: right;\">\n",
              "      <th></th>\n",
              "      <th>Ice_Cream_Sales</th>\n",
              "    </tr>\n",
              "  </thead>\n",
              "  <tbody>\n",
              "    <tr>\n",
              "      <th>7°_dia</th>\n",
              "      <td>19.4</td>\n",
              "    </tr>\n",
              "    <tr>\n",
              "      <th>8°_dia</th>\n",
              "      <td>25.1</td>\n",
              "    </tr>\n",
              "    <tr>\n",
              "      <th>9°_dia</th>\n",
              "      <td>23.4</td>\n",
              "    </tr>\n",
              "  </tbody>\n",
              "</table>\n",
              "</div>"
            ],
            "text/plain": [
              "        Ice_Cream_Sales\n",
              "7°_dia             19.4\n",
              "8°_dia             25.1\n",
              "9°_dia             23.4"
            ]
          },
          "metadata": {
            "tags": []
          },
          "execution_count": 27
        }
      ]
    },
    {
      "cell_type": "code",
      "metadata": {
        "colab": {
          "base_uri": "https://localhost:8080/",
          "height": 106
        },
        "id": "gDXBINlhjb7O",
        "outputId": "014703c0-7dfa-4d5a-aa78-2a6144958996"
      },
      "source": [
        "# Saving into a variable:\n",
        "df2 = df.loc[['7°_dia', '9°_dia'],['Ice_Cream_Sales']]\n",
        "df2"
      ],
      "execution_count": null,
      "outputs": [
        {
          "output_type": "execute_result",
          "data": {
            "text/html": [
              "<div>\n",
              "<style scoped>\n",
              "    .dataframe tbody tr th:only-of-type {\n",
              "        vertical-align: middle;\n",
              "    }\n",
              "\n",
              "    .dataframe tbody tr th {\n",
              "        vertical-align: top;\n",
              "    }\n",
              "\n",
              "    .dataframe thead th {\n",
              "        text-align: right;\n",
              "    }\n",
              "</style>\n",
              "<table border=\"1\" class=\"dataframe\">\n",
              "  <thead>\n",
              "    <tr style=\"text-align: right;\">\n",
              "      <th></th>\n",
              "      <th>Ice_Cream_Sales</th>\n",
              "    </tr>\n",
              "  </thead>\n",
              "  <tbody>\n",
              "    <tr>\n",
              "      <th>7°_dia</th>\n",
              "      <td>19.4</td>\n",
              "    </tr>\n",
              "    <tr>\n",
              "      <th>9°_dia</th>\n",
              "      <td>23.4</td>\n",
              "    </tr>\n",
              "  </tbody>\n",
              "</table>\n",
              "</div>"
            ],
            "text/plain": [
              "        Ice_Cream_Sales\n",
              "7°_dia             19.4\n",
              "9°_dia             23.4"
            ]
          },
          "metadata": {
            "tags": []
          },
          "execution_count": 28
        }
      ]
    },
    {
      "cell_type": "code",
      "metadata": {
        "colab": {
          "base_uri": "https://localhost:8080/"
        },
        "id": "eV7V5UKdjuHA",
        "outputId": "6efba3e0-0415-486f-a25e-27be857eb7bc"
      },
      "source": [
        "# Discovering the type's Variable:\n",
        "type(df2)"
      ],
      "execution_count": null,
      "outputs": [
        {
          "output_type": "execute_result",
          "data": {
            "text/plain": [
              "pandas.core.frame.DataFrame"
            ]
          },
          "metadata": {
            "tags": []
          },
          "execution_count": 29
        }
      ]
    },
    {
      "cell_type": "markdown",
      "metadata": {
        "id": "RpW3LL0FqIQK"
      },
      "source": [
        "#13. J3 signning-off ;)\n",
        "\n",
        "I WISH YOU ALL THE BEST! "
      ]
    },
    {
      "cell_type": "code",
      "metadata": {
        "colab": {
          "base_uri": "https://localhost:8080/"
        },
        "id": "awZWNxPtj45u",
        "outputId": "6078b03b-3ec9-460a-ac04-3e7856b6da77"
      },
      "source": [
        "print(\"That's it! This is another example for PySeries#Episode 31\")"
      ],
      "execution_count": null,
      "outputs": [
        {
          "output_type": "stream",
          "text": [
            "That's it! This is another example for PySeries#Episode 31\n"
          ],
          "name": "stdout"
        }
      ]
    }
  ]
}