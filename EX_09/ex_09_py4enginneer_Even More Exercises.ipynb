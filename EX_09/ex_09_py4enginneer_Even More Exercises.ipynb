{
  "nbformat": 4,
  "nbformat_minor": 0,
  "metadata": {
    "colab": {
      "name": "py4enginneer_3.ipynb",
      "provenance": [],
      "collapsed_sections": []
    },
    "kernelspec": {
      "name": "python3",
      "display_name": "Python 3"
    }
  },
  "cells": [
    {
      "cell_type": "markdown",
      "metadata": {
        "id": "-jAbWWGsJU5z"
      },
      "source": [
        "##Python 4 Engineers - Even More Exercises!\n",
        "More Practicing Coding Questions in Python! - #PySeries#Episode 09\n",
        "\n",
        "What follows are 10 Q&A plus 2 bonus!\n",
        "\n",
        "https://medium.com/jungletronics/python-4-engineers-even-more-exercises-d0141e0b06d"
      ]
    },
    {
      "cell_type": "markdown",
      "metadata": {
        "id": "Q21ylJH9aE3V"
      },
      "source": [
        "1. Given z_1=3+4j and z_2=-5+14j. Compute z_1/z_2:"
      ]
    },
    {
      "cell_type": "code",
      "metadata": {
        "id": "fyUxCY63aFsI",
        "colab": {
          "base_uri": "https://localhost:8080/",
          "height": 34
        },
        "outputId": "ef870b40-279e-461f-a502-a9f0bbfa5f77"
      },
      "source": [
        "z_1=3+4j\n",
        "z_2=-5+14j\n",
        "z_1/z_2"
      ],
      "execution_count": null,
      "outputs": [
        {
          "output_type": "execute_result",
          "data": {
            "text/plain": [
              "(0.18552036199095023-0.28054298642533937j)"
            ]
          },
          "metadata": {
            "tags": []
          },
          "execution_count": 1
        }
      ]
    },
    {
      "cell_type": "markdown",
      "metadata": {
        "id": "kzmJL348bGMQ"
      },
      "source": [
        "2. What is the function in Python to solve Linear Systems?\n",
        "\n",
        "np.linalg.solve()\n"
      ]
    },
    {
      "cell_type": "markdown",
      "metadata": {
        "id": "nUP6Eib1bd5o"
      },
      "source": [
        "3. Using Python, compute integral of f(x) = x^3+cos(x) in a range [0,3]:\n"
      ]
    },
    {
      "cell_type": "code",
      "metadata": {
        "id": "hygKKG32brLs",
        "colab": {
          "base_uri": "https://localhost:8080/",
          "height": 38
        },
        "outputId": "1468a9d8-fc9a-441b-d5cf-1b73b149a77e"
      },
      "source": [
        "from sympy import *\n",
        "x,f=symbols(\"x f\")\n",
        "init_printing()\n",
        "f=x**3+cos(x)\n",
        "integrate(f,(x,0,3))"
      ],
      "execution_count": null,
      "outputs": [
        {
          "output_type": "execute_result",
          "data": {
            "image/png": "[encoded data removed]",
            "text/latex": "$$\\sin{\\left (3 \\right )} + \\frac{81}{4}$$",
            "text/plain": [
              "sin(3) + 81/4"
            ]
          },
          "metadata": {
            "tags": []
          },
          "execution_count": 2
        }
      ]
    },
    {
      "cell_type": "markdown",
      "metadata": {
        "id": "5N93qZuMdAqP"
      },
      "source": [
        "4. Calculate the indefinite integral of the function:\n",
        "f’(x) = 6x^^5+cos(x);"
      ]
    },
    {
      "cell_type": "code",
      "metadata": {
        "id": "X3WGLFAWc89n",
        "colab": {
          "base_uri": "https://localhost:8080/",
          "height": 38
        },
        "outputId": "7b3514b0-c4ca-4731-9b27-c419df74b430"
      },
      "source": [
        "from sympy import *\n",
        "x,f=symbols(\"x f\")\n",
        "init_printing()\n",
        "f=6*x**5+cos(x)\n",
        "integrate(f,x)"
      ],
      "execution_count": null,
      "outputs": [
        {
          "output_type": "execute_result",
          "data": {
            "image/png": "[encoded data removed]",
            "text/latex": "$$x^{6} + \\sin{\\left (x \\right )}$$",
            "text/plain": [
              " 6         \n",
              "x  + sin(x)"
            ]
          },
          "metadata": {
            "tags": []
          },
          "execution_count": 3
        }
      ]
    },
    {
      "cell_type": "markdown",
      "metadata": {
        "id": "Yqap4d6Idxau"
      },
      "source": [
        "5. What is the function in Python to solve vector products?\n",
        "\n",
        "uXv=np.cross(u,v)"
      ]
    },
    {
      "cell_type": "markdown",
      "metadata": {
        "id": "btK7mo8-eKPh"
      },
      "source": [
        "6. Using python, solve the following linear system:\n",
        "\n",
        "4x-3y+z=15\n",
        "\n",
        "x+y+3z=27\n",
        "\n",
        "2x+3y-4z=31"
      ]
    },
    {
      "cell_type": "code",
      "metadata": {
        "id": "VpO5Q_WtejXT",
        "colab": {
          "base_uri": "https://localhost:8080/",
          "height": 68
        },
        "outputId": "a596eb08-12e7-4211-d2b4-90dac14f5056"
      },
      "source": [
        "import numpy as np\n",
        "A=np.array([[4,-3,1],[1,1,3],[2,3,-4]])\n",
        "b=np.array([[15],[27],[31]])\n",
        "x=np.linalg.solve(A, b)\n",
        "print(x)"
      ],
      "execution_count": null,
      "outputs": [
        {
          "output_type": "stream",
          "text": [
            "[[9.2345679 ]\n",
            " [8.35802469]\n",
            " [3.13580247]]\n"
          ],
          "name": "stdout"
        }
      ]
    },
    {
      "cell_type": "markdown",
      "metadata": {
        "id": "GUDEPd3cfU4U"
      },
      "source": [
        "7. Get through python the function that interpolates the points: A(1,5), B(3,4), C(5,9) and D(9,11):"
      ]
    },
    {
      "cell_type": "code",
      "metadata": {
        "id": "0F3NNEH8f6qO",
        "colab": {
          "base_uri": "https://localhost:8080/",
          "height": 51
        },
        "outputId": "61bf460f-d15c-491b-df3f-557bfba2e4cd"
      },
      "source": [
        "from scipy.interpolate import *\n",
        "x=[1,3,5,9]\n",
        "y=[5,4,9,11]\n",
        "f=lagrange(x,y)\n",
        "print(f)"
      ],
      "execution_count": null,
      "outputs": [
        {
          "output_type": "stream",
          "text": [
            "         3         2\n",
            "-0.1354 x + 1.969 x - 6.615 x + 9.781\n"
          ],
          "name": "stdout"
        }
      ]
    },
    {
      "cell_type": "markdown",
      "metadata": {
        "id": "NiGY0sHIhszN"
      },
      "source": [
        "8. Which line best line that fits these points? A(1,5), B(3,4), C(5,9), and D(9,11)"
      ]
    },
    {
      "cell_type": "code",
      "metadata": {
        "id": "eEG2jOQ_iVQp",
        "colab": {
          "base_uri": "https://localhost:8080/",
          "height": 51
        },
        "outputId": "e921efb2-89bc-4a26-dd05-e45274937d85"
      },
      "source": [
        "import numpy as np\n",
        "import matplotlib.pyplot as pyp\n",
        "from scipy import stats\n",
        "x=np.array([1,2,3,4,5])\n",
        "y=np.array([180,120,150,190,210])\n",
        "a,b,correlation,p,error=stats.linregress(x,y)\n",
        "print('Regression line: y=%.2fx+%.2f'% (a,b))\n",
        "print('Correlation Coefficient: r=%.2f'% correlation)\n",
        "f=a*x+b\n"
      ],
      "execution_count": null,
      "outputs": [
        {
          "output_type": "stream",
          "text": [
            "Regression line: y=13.00x+131.00\n",
            "Correlation Coefficient: r=0.58\n"
          ],
          "name": "stdout"
        }
      ]
    },
    {
      "cell_type": "markdown",
      "metadata": {
        "id": "QBz1FL49jJDp"
      },
      "source": [
        "9. Given the vectors u = (7, -22, 13) and v = (-1, 11, 23), calculate u.v and uXv:"
      ]
    },
    {
      "cell_type": "code",
      "metadata": {
        "id": "tC-Buq6ljLVn",
        "colab": {
          "base_uri": "https://localhost:8080/",
          "height": 51
        },
        "outputId": "6635eb7a-591f-4c84-ca18-9334cac696c1"
      },
      "source": [
        "import numpy as np\n",
        "u=np.array([[7,-22,13]])\n",
        "v=np.array([[-1,11,23]])\n",
        "uv=np.inner(u,v)\n",
        "uXv=np.cross(u,v)\n",
        "print(uv)\n",
        "print(uXv)"
      ],
      "execution_count": null,
      "outputs": [
        {
          "output_type": "stream",
          "text": [
            "[[50]]\n",
            "[[-649 -174   55]]\n"
          ],
          "name": "stdout"
        }
      ]
    },
    {
      "cell_type": "markdown",
      "metadata": {
        "id": "PblpTMrakBHT"
      },
      "source": [
        "10. What is the angle which cosine is -0.6544?"
      ]
    },
    {
      "cell_type": "code",
      "metadata": {
        "id": "_cUAc9-LkG9E",
        "colab": {
          "base_uri": "https://localhost:8080/",
          "height": 37
        },
        "outputId": "b6ed8364-26e1-4d3f-9b36-7c546f91cf2e"
      },
      "source": [
        "import numpy as np\n",
        "angle=np.arccos(-0.6544)\n",
        "np.rad2deg(angle)\n",
        "\n"
      ],
      "execution_count": null,
      "outputs": [
        {
          "output_type": "execute_result",
          "data": {
            "image/png": "[encoded data removed]",
            "text/latex": "$$130.87417042181528$$",
            "text/plain": [
              "130.87417042181528"
            ]
          },
          "metadata": {
            "tags": []
          },
          "execution_count": 8
        }
      ]
    },
    {
      "cell_type": "markdown",
      "metadata": {
        "id": "tVX9i1fsmquV"
      },
      "source": [
        "11. Can we calculate the derivative in python using?\n",
        "\n",
        "Yes. use lib simpy and diff command"
      ]
    },
    {
      "cell_type": "markdown",
      "metadata": {
        "id": "0J2ti33AnVlv"
      },
      "source": [
        "12. Can we calculate the integrate in python using?\n",
        "\n",
        "Yes. Use lib simpy and integrate command"
      ]
    },
    {
      "cell_type": "code",
      "metadata": {
        "id": "ZOaIiBWIKoSe",
        "colab": {
          "base_uri": "https://localhost:8080/",
          "height": 34
        },
        "outputId": "b464f44d-a1a1-4a5c-cfff-55d8987b30d3"
      },
      "source": [
        "# https://medium.com/jungletronics/python-4-engineers-even-more-exercises-d0141e0b06d\n",
        "print(\"There you have it! Thank you very much for reading this post! Bye o/\")"
      ],
      "execution_count": null,
      "outputs": [
        {
          "output_type": "stream",
          "text": [
            "There you have it! Thank you very much for reading this post! Bye o/\n"
          ],
          "name": "stdout"
        }
      ]
    }
  ]
}