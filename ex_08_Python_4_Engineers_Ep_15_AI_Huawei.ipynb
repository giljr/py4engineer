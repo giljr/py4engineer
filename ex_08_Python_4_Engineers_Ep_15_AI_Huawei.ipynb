{
  "nbformat": 4,
  "nbformat_minor": 0,
  "metadata": {
    "colab": {
      "name": "ex_08_Python 4 Engineers - Ep#15 - AI - Huawei.ipynb",
      "provenance": [],
      "authorship_tag": "ABX9TyMVM7FXPc+W3snx9qLqH8MV",
      "include_colab_link": true
    },
    "kernelspec": {
      "name": "python3",
      "display_name": "Python 3"
    }
  },
  "cells": [
    {
      "cell_type": "markdown",
      "metadata": {
        "id": "view-in-github",
        "colab_type": "text"
      },
      "source": [
        "<a href=\"https://colab.research.google.com/github/giljr/py4engineer/blob/master/ex_08_Python_4_Engineers_Ep_15_AI_Huawei.ipynb\" target=\"_parent\"><img src=\"https://colab.research.google.com/assets/colab-badge.svg\" alt=\"Open In Colab\"/></a>"
      ]
    },
    {
      "cell_type": "code",
      "metadata": {
        "colab": {
          "base_uri": "https://localhost:8080/"
        },
        "id": "Gwemunwws_aw",
        "outputId": "1e1164a0-9f63-46ef-db0a-687307229473"
      },
      "source": [
        "print(\"Welcome to this new episode of Python4Enginneers!\")"
      ],
      "execution_count": 1,
      "outputs": [
        {
          "output_type": "stream",
          "text": [
            "Welcome to this new episode of Python4Enginneers!\n"
          ],
          "name": "stdout"
        }
      ]
    },
    {
      "cell_type": "markdown",
      "metadata": {
        "id": "d9EFJYqNuLkk"
      },
      "source": [
        "##01#PyEx - Python - List:\r\n",
        "Which of the following matrices will throw an error in Python?\r\n",
        "\r\n",
        "a) X = [[1, 2, 3], [4, 5, 6], [7, 8, 9]]\r\n",
        "\r\n",
        "**b) X = [[3, 3, 3] [4, 4, 4] [5, 5, 5]]**\r\n",
        "\r\n",
        "c) X = [(1, 2, 4), (5, 6, 7), (8, 9, 10)]\r\n",
        "\r\n",
        "d) X= [2, 3, 4, 3, 3, 3, 4, 5, 6]"
      ]
    },
    {
      "cell_type": "code",
      "metadata": {
        "id": "F1wxxx6MuABh"
      },
      "source": [
        "# test a)\r\n",
        "X = [[1, 2, 3], [4, 5, 6], [7, 8, 9]]"
      ],
      "execution_count": 2,
      "outputs": []
    },
    {
      "cell_type": "code",
      "metadata": {
        "colab": {
          "base_uri": "https://localhost:8080/",
          "height": 185
        },
        "id": "PMrNpO6pu-wL",
        "outputId": "ecd4cd90-96ba-49c4-848c-32118c6c5af5"
      },
      "source": [
        "# test b) \r\n",
        "X = [[3, 3, 3] [4, 4, 4] [5, 5, 5]]"
      ],
      "execution_count": 3,
      "outputs": [
        {
          "output_type": "error",
          "ename": "TypeError",
          "evalue": "ignored",
          "traceback": [
            "\u001b[0;31m---------------------------------------------------------------------------\u001b[0m",
            "\u001b[0;31mTypeError\u001b[0m                                 Traceback (most recent call last)",
            "\u001b[0;32m<ipython-input-3-b034da20de4c>\u001b[0m in \u001b[0;36m<module>\u001b[0;34m()\u001b[0m\n\u001b[1;32m      1\u001b[0m \u001b[0;31m# test b)\u001b[0m\u001b[0;34m\u001b[0m\u001b[0;34m\u001b[0m\u001b[0;34m\u001b[0m\u001b[0m\n\u001b[0;32m----> 2\u001b[0;31m \u001b[0mX\u001b[0m \u001b[0;34m=\u001b[0m \u001b[0;34m[\u001b[0m\u001b[0;34m[\u001b[0m\u001b[0;36m3\u001b[0m\u001b[0;34m,\u001b[0m \u001b[0;36m3\u001b[0m\u001b[0;34m,\u001b[0m \u001b[0;36m3\u001b[0m\u001b[0;34m]\u001b[0m \u001b[0;34m[\u001b[0m\u001b[0;36m4\u001b[0m\u001b[0;34m,\u001b[0m \u001b[0;36m4\u001b[0m\u001b[0;34m,\u001b[0m \u001b[0;36m4\u001b[0m\u001b[0;34m]\u001b[0m \u001b[0;34m[\u001b[0m\u001b[0;36m5\u001b[0m\u001b[0;34m,\u001b[0m \u001b[0;36m5\u001b[0m\u001b[0;34m,\u001b[0m \u001b[0;36m5\u001b[0m\u001b[0;34m]\u001b[0m\u001b[0;34m]\u001b[0m\u001b[0;34m\u001b[0m\u001b[0;34m\u001b[0m\u001b[0m\n\u001b[0m",
            "\u001b[0;31mTypeError\u001b[0m: list indices must be integers or slices, not tuple"
          ]
        }
      ]
    },
    {
      "cell_type": "code",
      "metadata": {
        "id": "zXmB5I0DvH_h"
      },
      "source": [
        "# test c)\r\n",
        "X = [(1, 2, 4), (5, 6, 7), (8, 9, 10)]"
      ],
      "execution_count": 4,
      "outputs": []
    },
    {
      "cell_type": "code",
      "metadata": {
        "id": "Gg3971L5vR9D"
      },
      "source": [
        "# test d)\r\n",
        "X= [2, 3, 4, 3, 3, 3, 4, 5, 6]"
      ],
      "execution_count": 5,
      "outputs": []
    },
    {
      "cell_type": "markdown",
      "metadata": {
        "id": "PznUV2vrwWPX"
      },
      "source": [
        "##02#PyEx - Python - List - Range():\r\n",
        "What will be the output of the following Python code? \r\n",
        "\r\n",
        "A = [[1,2,3],\r\n",
        "[4,5,6],\r\n",
        "[7,8,9]]\r\n",
        "\r\n",
        "[A[i][i] for i in range  len(A))]\r\n",
        "\r\n",
        "\r\n",
        "**a) [1, 5, 9]**\r\n",
        "\r\n",
        "b) [3, 5, 7]\r\n",
        "\r\n",
        "c) [4, 5, 6]\r\n",
        "\r\n",
        "d) [2, 5, 8]\r\n"
      ]
    },
    {
      "cell_type": "code",
      "metadata": {
        "colab": {
          "base_uri": "https://localhost:8080/"
        },
        "id": "QT-SrFsDvWu_",
        "outputId": "083e5151-7ff9-4047-9d8f-592c86612507"
      },
      "source": [
        "A = [[1,2,3], [4,5,6], [7,8,9]]\r\n",
        "\r\n",
        "[A[i][i] for i in range(len(A))]"
      ],
      "execution_count": 6,
      "outputs": [
        {
          "output_type": "execute_result",
          "data": {
            "text/plain": [
              "[1, 5, 9]"
            ]
          },
          "metadata": {
            "tags": []
          },
          "execution_count": 6
        }
      ]
    },
    {
      "cell_type": "markdown",
      "metadata": {
        "id": "KnXERpf-0Xad"
      },
      "source": [
        "##03#PyEx - Python - Print():\r\n",
        "\r\n",
        "The print function in Python 3 is enclosed in parentheses?\r\n",
        "\r\n",
        "**True**\r\n",
        "\r\n",
        "False\r\n"
      ]
    },
    {
      "cell_type": "code",
      "metadata": {
        "colab": {
          "base_uri": "https://localhost:8080/"
        },
        "id": "6mgUcZqwyrGt",
        "outputId": "1ac70da8-ad1d-4d57-8b15-00ee858d9cb2"
      },
      "source": [
        "print('True')"
      ],
      "execution_count": 7,
      "outputs": [
        {
          "output_type": "stream",
          "text": [
            "True\n"
          ],
          "name": "stdout"
        }
      ]
    },
    {
      "cell_type": "markdown",
      "metadata": {
        "id": "6Znua3Vz1EfT"
      },
      "source": [
        "##04#PyEx - Python - Functions:\r\n",
        "\r\n",
        "Functions are organised code segments which cannot be reused to implement single or related operations?\r\n",
        "\r\n",
        "True\r\n",
        "\r\n",
        "***False***"
      ]
    },
    {
      "cell_type": "code",
      "metadata": {
        "colab": {
          "base_uri": "https://localhost:8080/"
        },
        "id": "nkeLGT1T07rO",
        "outputId": "1a190174-c84e-457b-d8c9-265d5e75e692"
      },
      "source": [
        "print('False')"
      ],
      "execution_count": 8,
      "outputs": [
        {
          "output_type": "stream",
          "text": [
            "False\n"
          ],
          "name": "stdout"
        }
      ]
    },
    {
      "cell_type": "markdown",
      "metadata": {
        "id": "QRTsnr_n1gOy"
      },
      "source": [
        "##05#PyEx - Python - Matrix:\r\n",
        "Matrix A and matrix B can be added only if they have the same number of rows and columns?"
      ]
    },
    {
      "cell_type": "code",
      "metadata": {
        "colab": {
          "base_uri": "https://localhost:8080/"
        },
        "id": "DfCzPv471U-v",
        "outputId": "3564c6a7-1bd5-4027-f6f0-49bce0ffc4a9"
      },
      "source": [
        "# Program to add two matrices using nested loop\r\n",
        "\r\n",
        "A = [\r\n",
        "     [12,7,3],\r\n",
        "     [4, 5,6],\r\n",
        "     [7, 8,9]\r\n",
        "              ]\r\n",
        "\r\n",
        "B = [\r\n",
        "     [5,8,1],\r\n",
        "     [6,7,3],\r\n",
        "     [4,5,9]\r\n",
        "             ]\r\n",
        "\r\n",
        "result = [\r\n",
        "          [0,0,0],\r\n",
        "          [0,0,0],\r\n",
        "          [0,0,0]\r\n",
        "                  ]\r\n",
        "\r\n",
        "# iterate through rows\r\n",
        "for i in range(len(A)):\r\n",
        "   # iterate through columns\r\n",
        "   for j in range(len(A[0])):\r\n",
        "       result[i][j] = A[i][j] + B[i][j]\r\n",
        "\r\n",
        "for r in result:\r\n",
        "   print(r)"
      ],
      "execution_count": 9,
      "outputs": [
        {
          "output_type": "stream",
          "text": [
            "[17, 15, 4]\n",
            "[10, 12, 9]\n",
            "[11, 13, 18]\n"
          ],
          "name": "stdout"
        }
      ]
    },
    {
      "cell_type": "code",
      "metadata": {
        "colab": {
          "base_uri": "https://localhost:8080/"
        },
        "id": "BzeeTTfF2kA2",
        "outputId": "bb3e4391-2b47-4206-9def-3d4b4ae133d0"
      },
      "source": [
        "print('Yes')"
      ],
      "execution_count": 10,
      "outputs": [
        {
          "output_type": "stream",
          "text": [
            "Yes\n"
          ],
          "name": "stdout"
        }
      ]
    },
    {
      "cell_type": "markdown",
      "metadata": {
        "id": "urLFYsA34pkE"
      },
      "source": [
        "##06#PyEx - Python - Matrix:\r\n",
        "The determinant of a NxN matrix is a scalar?"
      ]
    },
    {
      "cell_type": "code",
      "metadata": {
        "colab": {
          "base_uri": "https://localhost:8080/"
        },
        "id": "fNmtRgHA418g",
        "outputId": "14a22284-93bf-46d7-e79f-96e7fee8ab64"
      },
      "source": [
        "print('Yes')"
      ],
      "execution_count": 11,
      "outputs": [
        {
          "output_type": "stream",
          "text": [
            "Yes\n"
          ],
          "name": "stdout"
        }
      ]
    },
    {
      "cell_type": "markdown",
      "metadata": {
        "id": "Csoqt1xI5TGS"
      },
      "source": [
        "##07#PyEx - Python - List:\r\n",
        "Lists in Python can be delimited by square brackets [ ], with the first element at index 0?"
      ]
    },
    {
      "cell_type": "code",
      "metadata": {
        "colab": {
          "base_uri": "https://localhost:8080/"
        },
        "id": "rqpNem9L5Kxr",
        "outputId": "0bc937d5-e47c-4850-d95a-14d70c294a71"
      },
      "source": [
        "print('Yes')"
      ],
      "execution_count": 12,
      "outputs": [
        {
          "output_type": "stream",
          "text": [
            "Yes\n"
          ],
          "name": "stdout"
        }
      ]
    },
    {
      "cell_type": "code",
      "metadata": {
        "colab": {
          "base_uri": "https://localhost:8080/"
        },
        "id": "lKZRfGCN5uaj",
        "outputId": "f097b2df-acc9-4e35-e97f-ef8b9b0acd33"
      },
      "source": [
        "list_numbers = [1, 2, 3, 4, 5, 6, 7, 8, 9, 10]\r\n",
        "element = 1\r\n",
        "list_numbers.index(element)\r\n"
      ],
      "execution_count": 13,
      "outputs": [
        {
          "output_type": "execute_result",
          "data": {
            "text/plain": [
              "0"
            ]
          },
          "metadata": {
            "tags": []
          },
          "execution_count": 13
        }
      ]
    },
    {
      "cell_type": "markdown",
      "metadata": {
        "id": "_PKX7UXg7gD9"
      },
      "source": [
        "##08#PyEx - Python - Dictionary:\r\n",
        "Which of the following format can define a dictionary in Python 3?\r\n",
        "\r\n",
        "**a) {\"John\": 'Paris', \"John\": 'London'}**\r\n",
        "\r\n",
        "b) {\"Jane\": 'London'; \"John\": 'London'}\r\n",
        "\r\n",
        "**c) {\"Jane\": 'London', \"John\": 'London'}**\r\n",
        "\r\n",
        "d) {\"John\": 'Paris'; \"John\": 'London'}\r\n"
      ]
    },
    {
      "cell_type": "code",
      "metadata": {
        "colab": {
          "base_uri": "https://localhost:8080/"
        },
        "id": "xnE3nS5I6OvF",
        "outputId": "d9a35c15-38cc-4cae-cbee-68ffbb91dfeb"
      },
      "source": [
        "#test a)\r\n",
        "{\"John\": 'Paris', \"John\": 'London'}\r\n"
      ],
      "execution_count": 14,
      "outputs": [
        {
          "output_type": "execute_result",
          "data": {
            "text/plain": [
              "{'John': 'London'}"
            ]
          },
          "metadata": {
            "tags": []
          },
          "execution_count": 14
        }
      ]
    },
    {
      "cell_type": "code",
      "metadata": {
        "colab": {
          "base_uri": "https://localhost:8080/",
          "height": 132
        },
        "id": "O2jFQCbO8MRB",
        "outputId": "29f97f64-21c6-4bce-c084-dc7ff44912a1"
      },
      "source": [
        "# Test b) \r\n",
        "{\"Jane\": 'London'; \"John\": 'London'}"
      ],
      "execution_count": 15,
      "outputs": [
        {
          "output_type": "error",
          "ename": "SyntaxError",
          "evalue": "ignored",
          "traceback": [
            "\u001b[0;36m  File \u001b[0;32m\"<ipython-input-15-d970dc9b22ad>\"\u001b[0;36m, line \u001b[0;32m2\u001b[0m\n\u001b[0;31m    {\"Jane\": 'London'; \"John\": 'London'}\u001b[0m\n\u001b[0m                     ^\u001b[0m\n\u001b[0;31mSyntaxError\u001b[0m\u001b[0;31m:\u001b[0m invalid syntax\n"
          ]
        }
      ]
    },
    {
      "cell_type": "code",
      "metadata": {
        "colab": {
          "base_uri": "https://localhost:8080/"
        },
        "id": "GeBwq84h8XLg",
        "outputId": "54ba63ca-ee8f-4a69-eb15-4f16a078d91e"
      },
      "source": [
        "# Test c) \r\n",
        "{\"Jane\": 'London', \"John\": 'London'}"
      ],
      "execution_count": 16,
      "outputs": [
        {
          "output_type": "execute_result",
          "data": {
            "text/plain": [
              "{'Jane': 'London', 'John': 'London'}"
            ]
          },
          "metadata": {
            "tags": []
          },
          "execution_count": 16
        }
      ]
    },
    {
      "cell_type": "code",
      "metadata": {
        "colab": {
          "base_uri": "https://localhost:8080/",
          "height": 132
        },
        "id": "_191yDOJ8dQM",
        "outputId": "6fec46f2-558e-45e7-e972-5070fc78924a"
      },
      "source": [
        "# Test d) \r\n",
        "{\"John\": 'Paris'; \"John\": 'London'}"
      ],
      "execution_count": 17,
      "outputs": [
        {
          "output_type": "error",
          "ename": "SyntaxError",
          "evalue": "ignored",
          "traceback": [
            "\u001b[0;36m  File \u001b[0;32m\"<ipython-input-17-a4aea0faf81c>\"\u001b[0;36m, line \u001b[0;32m2\u001b[0m\n\u001b[0;31m    {\"John\": 'Paris'; \"John\": 'London'}\u001b[0m\n\u001b[0m                    ^\u001b[0m\n\u001b[0;31mSyntaxError\u001b[0m\u001b[0;31m:\u001b[0m invalid syntax\n"
          ]
        }
      ]
    },
    {
      "cell_type": "markdown",
      "metadata": {
        "id": "Xu3b9Dby9y-G"
      },
      "source": [
        "##09#PyEx - Python - Immutable Data Type in Python 3:\r\n",
        "Which of the following is unchangeable in Python 3?\r\n",
        "\r\n",
        "**a) Tuple**\r\n",
        "\r\n",
        "b) Set\r\n",
        "\r\n",
        "c) Array\r\n",
        "\r\n",
        "d) List\r\n",
        "\r\n",
        "\r\n"
      ]
    },
    {
      "cell_type": "code",
      "metadata": {
        "colab": {
          "base_uri": "https://localhost:8080/"
        },
        "id": "c19nP5bN8iIR",
        "outputId": "ca60b732-e2bf-461a-c671-336ba55ceeed"
      },
      "source": [
        "print('Tuple is immutable in Python 3, as well as int, float, decimal, bool, string, and range.')"
      ],
      "execution_count": 18,
      "outputs": [
        {
          "output_type": "stream",
          "text": [
            "Tuple is immutable in Python 3, as well as int, float, decimal, bool, string, and range.\n"
          ],
          "name": "stdout"
        }
      ]
    },
    {
      "cell_type": "code",
      "metadata": {
        "colab": {
          "base_uri": "https://localhost:8080/",
          "height": 220
        },
        "id": "vvuKhgRk-VpU",
        "outputId": "b340b9a3-c0b6-4fc4-b226-612dc5992af7"
      },
      "source": [
        "# Proving:\r\n",
        "tuple = (10, 20, 30)\r\n",
        "print(tuple)\r\n",
        "tuple[0] = 100"
      ],
      "execution_count": 19,
      "outputs": [
        {
          "output_type": "stream",
          "text": [
            "(10, 20, 30)\n"
          ],
          "name": "stdout"
        },
        {
          "output_type": "error",
          "ename": "TypeError",
          "evalue": "ignored",
          "traceback": [
            "\u001b[0;31m---------------------------------------------------------------------------\u001b[0m",
            "\u001b[0;31mTypeError\u001b[0m                                 Traceback (most recent call last)",
            "\u001b[0;32m<ipython-input-19-b83fdd5a20be>\u001b[0m in \u001b[0;36m<module>\u001b[0;34m()\u001b[0m\n\u001b[1;32m      2\u001b[0m \u001b[0mtuple\u001b[0m \u001b[0;34m=\u001b[0m \u001b[0;34m(\u001b[0m\u001b[0;36m10\u001b[0m\u001b[0;34m,\u001b[0m \u001b[0;36m20\u001b[0m\u001b[0;34m,\u001b[0m \u001b[0;36m30\u001b[0m\u001b[0;34m)\u001b[0m\u001b[0;34m\u001b[0m\u001b[0;34m\u001b[0m\u001b[0m\n\u001b[1;32m      3\u001b[0m \u001b[0mprint\u001b[0m\u001b[0;34m(\u001b[0m\u001b[0mtuple\u001b[0m\u001b[0;34m)\u001b[0m\u001b[0;34m\u001b[0m\u001b[0;34m\u001b[0m\u001b[0m\n\u001b[0;32m----> 4\u001b[0;31m \u001b[0mtuple\u001b[0m\u001b[0;34m[\u001b[0m\u001b[0;36m0\u001b[0m\u001b[0;34m]\u001b[0m \u001b[0;34m=\u001b[0m \u001b[0;36m100\u001b[0m\u001b[0;34m\u001b[0m\u001b[0;34m\u001b[0m\u001b[0m\n\u001b[0m",
            "\u001b[0;31mTypeError\u001b[0m: 'tuple' object does not support item assignment"
          ]
        }
      ]
    },
    {
      "cell_type": "markdown",
      "metadata": {
        "id": "c3gYwcduAw9b"
      },
      "source": [
        "##10#PyEx - Python - Indexing in Python 3: \r\n",
        "Which of the following statements about Python 3 index are true?\r\n",
        "\r\n",
        "a) Default index from right to left is numbered from 0\r\n",
        "\r\n",
        "b) Default index from right to left is numbered from -1\r\n",
        "\r\n",
        "c) Default index from left to right is numbered from 1\r\n",
        "\r\n",
        "**d) Default index from left to right is numbered from 0**\r\n"
      ]
    },
    {
      "cell_type": "code",
      "metadata": {
        "id": "8bjxkQ8v-qPV"
      },
      "source": [
        "print('The list index starts with 0 in Python, from left to right:) ')"
      ],
      "execution_count": null,
      "outputs": []
    },
    {
      "cell_type": "markdown",
      "metadata": {
        "id": "4Pe_oZwwBrhZ"
      },
      "source": [
        "##11#PyEx - Python - Indexing in Python 3: \r\n",
        "What is the output of the following Python 3 code?\r\n",
        "```\r\n",
        "import numpy as np\r\n",
        "\r\n",
        "A = np.matrix([[1,2],[3,4],[5,6]])\r\n",
        "\r\n",
        "B = np.matrix([[12,11, 10],[9,8,7],[6,5,4], [3,2,1]])\r\n",
        "\r\n",
        "C = np.matmul(B, A)\r\n",
        "\r\n",
        "print(C.shape)\r\n",
        "\r\n",
        "```\r\n",
        "a) (2, 2)\r\n",
        "\r\n",
        "b) (4, 4)\r\n",
        "\r\n",
        "c) (3, 4)\r\n",
        "\r\n",
        "**d) (4, 2)**\r\n"
      ]
    },
    {
      "cell_type": "code",
      "metadata": {
        "colab": {
          "base_uri": "https://localhost:8080/"
        },
        "id": "-hrA-H3uBhMs",
        "outputId": "9ab8cc8e-325b-40f7-89b3-b197fa51dfa5"
      },
      "source": [
        "import numpy as np\r\n",
        "A = np.matrix([[1,2],[3,4],[5,6]])\r\n",
        "B = np.matrix([[12,11, 10],[9,8,7],[6,5,4], [3,2,1]])\r\n",
        "C = np.matmul(B, A)\r\n",
        "print(C.shape)"
      ],
      "execution_count": 21,
      "outputs": [
        {
          "output_type": "stream",
          "text": [
            "(4, 2)\n"
          ],
          "name": "stdout"
        }
      ]
    },
    {
      "cell_type": "markdown",
      "metadata": {
        "id": "gGrOKCayEdkQ"
      },
      "source": [
        "##12#PyEx - Python - Functions in Python 3:\r\n",
        " A three-digit integer number is called an Armstrong number if a sum of the cube of its digits equals the number itself. For example, 153 is an Armstrong number because 1 ^ 3 + 5 ^ 3 + 3 ^ 3 = 1 + 125 + 27 = 153. Mark the item that completes the IF statement in Python 3 code bellow and inform correctly if variable n is an Armstrong number.\r\n",
        " ![py_12.png](data:image/png;base64,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)\r\n",
        "\r\n",
        "a)\tn[0] ** 3 + n[1] ** 3 + n[2] ** 3\r\n",
        "\r\n",
        "b) n[0] ^ 3 + n[1] ^ 3 + n[2] ^ 3\r\n",
        "\r\n",
        "**c) (n // 100) ** 3 + ( n // 10 % 10) ** 3 + (n % 10) ** 3**\r\n",
        "\r\n",
        "d) (n // 100) ** 3 + (n // 10) ** 3 + (n % 10) ** 3\r\n"
      ]
    },
    {
      "cell_type": "code",
      "metadata": {
        "colab": {
          "base_uri": "https://localhost:8080/",
          "height": 255
        },
        "id": "mK8QrEBLDkrJ",
        "outputId": "df18f517-42a0-4acb-c1fe-2ce28a5b1397"
      },
      "source": [
        "n = int(input('Enter the 3 digit number '))\r\n",
        "if n < 1000:\r\n",
        "  if (n // 100) ** 3 + (n // 10 % 10) ** 3 + (n % 10) ** 3 == n:\r\n",
        "    print('You Entered An Amstrong Number')\r\n",
        "  else:\r\n",
        "    print('You have not Entered An Amstrong Number')\r\n",
        "else:\r\n",
        "  print('You did not entered the 3 digit Number')\r\n"
      ],
      "execution_count": 22,
      "outputs": [
        {
          "output_type": "stream",
          "text": [
            "Enter the 3 digit number \n"
          ],
          "name": "stdout"
        },
        {
          "output_type": "error",
          "ename": "ValueError",
          "evalue": "ignored",
          "traceback": [
            "\u001b[0;31m---------------------------------------------------------------------------\u001b[0m",
            "\u001b[0;31mValueError\u001b[0m                                Traceback (most recent call last)",
            "\u001b[0;32m<ipython-input-22-c5865834f754>\u001b[0m in \u001b[0;36m<module>\u001b[0;34m()\u001b[0m\n\u001b[0;32m----> 1\u001b[0;31m \u001b[0mn\u001b[0m \u001b[0;34m=\u001b[0m \u001b[0mint\u001b[0m\u001b[0;34m(\u001b[0m\u001b[0minput\u001b[0m\u001b[0;34m(\u001b[0m\u001b[0;34m'Enter the 3 digit number '\u001b[0m\u001b[0;34m)\u001b[0m\u001b[0;34m)\u001b[0m\u001b[0;34m\u001b[0m\u001b[0;34m\u001b[0m\u001b[0m\n\u001b[0m\u001b[1;32m      2\u001b[0m \u001b[0;32mif\u001b[0m \u001b[0mn\u001b[0m \u001b[0;34m<\u001b[0m \u001b[0;36m1000\u001b[0m\u001b[0;34m:\u001b[0m\u001b[0;34m\u001b[0m\u001b[0;34m\u001b[0m\u001b[0m\n\u001b[1;32m      3\u001b[0m   \u001b[0;32mif\u001b[0m \u001b[0;34m(\u001b[0m\u001b[0mn\u001b[0m \u001b[0;34m//\u001b[0m \u001b[0;36m100\u001b[0m\u001b[0;34m)\u001b[0m \u001b[0;34m**\u001b[0m \u001b[0;36m3\u001b[0m \u001b[0;34m+\u001b[0m \u001b[0;34m(\u001b[0m\u001b[0mn\u001b[0m \u001b[0;34m//\u001b[0m \u001b[0;36m10\u001b[0m \u001b[0;34m%\u001b[0m \u001b[0;36m10\u001b[0m\u001b[0;34m)\u001b[0m \u001b[0;34m**\u001b[0m \u001b[0;36m3\u001b[0m \u001b[0;34m+\u001b[0m \u001b[0;34m(\u001b[0m\u001b[0mn\u001b[0m \u001b[0;34m%\u001b[0m \u001b[0;36m10\u001b[0m\u001b[0;34m)\u001b[0m \u001b[0;34m**\u001b[0m \u001b[0;36m3\u001b[0m \u001b[0;34m==\u001b[0m \u001b[0mn\u001b[0m\u001b[0;34m:\u001b[0m\u001b[0;34m\u001b[0m\u001b[0;34m\u001b[0m\u001b[0m\n\u001b[1;32m      4\u001b[0m     \u001b[0mprint\u001b[0m\u001b[0;34m(\u001b[0m\u001b[0;34m'You Entered An Amstrong Number'\u001b[0m\u001b[0;34m)\u001b[0m\u001b[0;34m\u001b[0m\u001b[0;34m\u001b[0m\u001b[0m\n\u001b[1;32m      5\u001b[0m   \u001b[0;32melse\u001b[0m\u001b[0;34m:\u001b[0m\u001b[0;34m\u001b[0m\u001b[0;34m\u001b[0m\u001b[0m\n",
            "\u001b[0;31mValueError\u001b[0m: invalid literal for int() with base 10: ''"
          ]
        }
      ]
    },
    {
      "cell_type": "markdown",
      "metadata": {
        "id": "QQZ7_UmfF6yn"
      },
      "source": [
        "##13#PyEx - Python - Functions in Python 3:\r\n",
        "During the first two years, a dog year is equal to 10.5 human years. After that, each dog year is equal to 4 human years. Given the following code in Python 3, what correctly completes the last return statement?\r\n",
        "\r\n",
        "\r\n",
        "![py_13.png](data:image/png;base64,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)\r\n",
        "\r\n",
        "a) dog_age * 4\r\n",
        "\r\n",
        "b) dog_age * 4 + 21\r\n",
        "\r\n",
        "c) (dog_age - 2) * 4\r\n",
        "\r\n",
        "**d) (dog_age - 2) * 4 + 21**\r\n",
        "\r\n"
      ]
    },
    {
      "cell_type": "code",
      "metadata": {
        "id": "bNqHu_sVGwsH"
      },
      "source": [
        "def dog2human(dog_age):\r\n",
        "  if dog_age < 0:\r\n",
        "    return 0\r\n",
        "  if dog_age < 3:\r\n",
        "    return dog_age*10.5\r\n",
        "\r\n",
        "  return (dog_age-2) * 4 + 21"
      ],
      "execution_count": 23,
      "outputs": []
    },
    {
      "cell_type": "code",
      "metadata": {
        "colab": {
          "base_uri": "https://localhost:8080/"
        },
        "id": "w4FGleaMHkk5",
        "outputId": "778d5186-b0c2-451a-8429-c9030400c51f"
      },
      "source": [
        "dog2human(1)"
      ],
      "execution_count": 24,
      "outputs": [
        {
          "output_type": "execute_result",
          "data": {
            "text/plain": [
              "10.5"
            ]
          },
          "metadata": {
            "tags": []
          },
          "execution_count": 24
        }
      ]
    },
    {
      "cell_type": "code",
      "metadata": {
        "colab": {
          "base_uri": "https://localhost:8080/"
        },
        "id": "jbtkHyiPHBSP",
        "outputId": "fad3d3a6-0c5e-4306-fb57-79f9040e277b"
      },
      "source": [
        "dog2human(2)"
      ],
      "execution_count": 25,
      "outputs": [
        {
          "output_type": "execute_result",
          "data": {
            "text/plain": [
              "21.0"
            ]
          },
          "metadata": {
            "tags": []
          },
          "execution_count": 25
        }
      ]
    },
    {
      "cell_type": "code",
      "metadata": {
        "colab": {
          "base_uri": "https://localhost:8080/"
        },
        "id": "eB1N7ecnHLxe",
        "outputId": "7ac7da7b-168c-4340-9fcb-353c862708e8"
      },
      "source": [
        "dog2human(3)"
      ],
      "execution_count": 26,
      "outputs": [
        {
          "output_type": "execute_result",
          "data": {
            "text/plain": [
              "25"
            ]
          },
          "metadata": {
            "tags": []
          },
          "execution_count": 26
        }
      ]
    },
    {
      "cell_type": "code",
      "metadata": {
        "colab": {
          "base_uri": "https://localhost:8080/"
        },
        "id": "4kaZd87SHQU_",
        "outputId": "70c9cc07-aed7-4519-dd75-c837e64c632d"
      },
      "source": [
        "dog2human(4)"
      ],
      "execution_count": 27,
      "outputs": [
        {
          "output_type": "execute_result",
          "data": {
            "text/plain": [
              "29"
            ]
          },
          "metadata": {
            "tags": []
          },
          "execution_count": 27
        }
      ]
    },
    {
      "cell_type": "code",
      "metadata": {
        "colab": {
          "base_uri": "https://localhost:8080/"
        },
        "id": "pPzTAYn0HV12",
        "outputId": "aa1c9190-5e9a-4bab-f98d-9904ad827402"
      },
      "source": [
        "dog2human(5)"
      ],
      "execution_count": 28,
      "outputs": [
        {
          "output_type": "execute_result",
          "data": {
            "text/plain": [
              "33"
            ]
          },
          "metadata": {
            "tags": []
          },
          "execution_count": 28
        }
      ]
    },
    {
      "cell_type": "code",
      "metadata": {
        "colab": {
          "base_uri": "https://localhost:8080/"
        },
        "id": "QXwu9I1iHZ6c",
        "outputId": "53546ba9-1d64-4394-b383-66ea5bcc5419"
      },
      "source": [
        "dog2human(6)"
      ],
      "execution_count": 29,
      "outputs": [
        {
          "output_type": "execute_result",
          "data": {
            "text/plain": [
              "37"
            ]
          },
          "metadata": {
            "tags": []
          },
          "execution_count": 29
        }
      ]
    },
    {
      "cell_type": "markdown",
      "metadata": {
        "id": "tLWLtPhGIE7T"
      },
      "source": [
        "##14#PyEx - Python - Functions in Python 3:\r\n",
        "What is the output from the following code in Python 3:\r\n",
        "\r\n",
        "```\r\n",
        "from functools import reduce\r\n",
        "\r\n",
        "def abs(x):\r\n",
        "  if x < 0:\r\n",
        "    x = x * -1\r\n",
        "  return x\r\n",
        "\r\n",
        "print(reduce(lambda b, a : abs(a) - abs(b), [-5,-4,-3, -1]))\r\n",
        "\r\n",
        "```\r\n",
        "a) 1\r\n",
        "\r\n",
        "**b) -1**\r\n",
        "\r\n",
        "c) 15\r\n",
        "\r\n",
        "d) -15\r\n"
      ]
    },
    {
      "cell_type": "code",
      "metadata": {
        "colab": {
          "base_uri": "https://localhost:8080/"
        },
        "id": "cmrRcw71Hfxq",
        "outputId": "576a233d-0d6a-4e73-fdd7-296011c9e492"
      },
      "source": [
        "from functools import reduce\r\n",
        "\r\n",
        "def abs(x):\r\n",
        "  if x < 0:\r\n",
        "    x = x * -1\r\n",
        "  return x\r\n",
        "\r\n",
        "print(reduce(lambda b, a : abs(a) - abs(b), [-5,-4,-3, -1]))"
      ],
      "execution_count": 30,
      "outputs": [
        {
          "output_type": "stream",
          "text": [
            "-1\n"
          ],
          "name": "stdout"
        }
      ]
    },
    {
      "cell_type": "markdown",
      "metadata": {
        "id": "nOx6fFonI36Z"
      },
      "source": [
        "##15#PyEx - Python - Functions in Python 3:\r\n",
        "What will be the output of the following Python 3 code?\r\n",
        "\r\n",
        "\r\n",
        "```\r\n",
        "b = [2,3,4,5]\r\n",
        "a = list(filter(lambda x:x%2, b))\r\n",
        "print(a)\r\n",
        "\r\n",
        "```\r\n",
        "a) [2, 4]\r\n",
        "\r\n",
        "b) []\r\n",
        "\r\n",
        "**c) [3, 5]**\r\n",
        "\r\n",
        "d) Invalid arguments for filter function\r\n"
      ]
    },
    {
      "cell_type": "code",
      "metadata": {
        "colab": {
          "base_uri": "https://localhost:8080/"
        },
        "id": "tzU_iAJCJTb2",
        "outputId": "2e65eb6a-974f-4ed4-f8c6-72d5c586383a"
      },
      "source": [
        "b = [2,3,4,5]\r\n",
        "a = list(filter(lambda x:x%2, b))\r\n",
        "print(a)\r\n"
      ],
      "execution_count": 31,
      "outputs": [
        {
          "output_type": "stream",
          "text": [
            "[3, 5]\n"
          ],
          "name": "stdout"
        }
      ]
    },
    {
      "cell_type": "markdown",
      "metadata": {
        "id": "2GQ0Lw5FJhRE"
      },
      "source": [
        "##16#PyEx - Python - Functions in Python 3:\r\n",
        "What will be output after we run the following Python 3 code?\r\n",
        "\r\n",
        "\r\n",
        "```\r\n",
        "vec = [0,1,2]\r\n",
        "i = 30\r\n",
        "while (i > 0):\r\n",
        "  if i > 16:\r\n",
        "    vec.append(i)\r\n",
        "  elif i < 16:\r\n",
        "    vec.pop()\r\n",
        "  elif i == 16:\r\n",
        "    vec.append(0)\r\n",
        "  i-=1\r\n",
        "print(len(vec))\r\n",
        "```\r\n",
        "a) 1\r\n",
        "\r\n",
        "b) 0\r\n",
        "\r\n",
        "**c) 3**\r\n",
        "\r\n",
        "d) 2\r\n",
        "\r\n",
        "\r\n"
      ]
    },
    {
      "cell_type": "code",
      "metadata": {
        "colab": {
          "base_uri": "https://localhost:8080/"
        },
        "id": "sIXqtwCsJUmb",
        "outputId": "5200be5c-7fd5-449f-94c4-9d058b27f1ce"
      },
      "source": [
        "vec = [0,1,2]\r\n",
        "i = 30\r\n",
        "while (i > 0):\r\n",
        "  if i > 16:\r\n",
        "    vec.append(i)\r\n",
        "  elif i < 16:\r\n",
        "    vec.pop()\r\n",
        "  elif i == 16:\r\n",
        "    vec.append(0)\r\n",
        "  i-=1\r\n",
        "print(len(vec))\r\n"
      ],
      "execution_count": 32,
      "outputs": [
        {
          "output_type": "stream",
          "text": [
            "3\n"
          ],
          "name": "stdout"
        }
      ]
    },
    {
      "cell_type": "markdown",
      "metadata": {
        "id": "whpelAuPJ83c"
      },
      "source": [
        "##17#PyEx - Python - Functions in Python 3:\r\n",
        "What value of \"val\" will be printed after we run the following Python 3 code?\r\n",
        "\r\n",
        "```\r\n",
        "vec  = [2,5,1,9,3,7]\r\n",
        "val = 0\r\n",
        "for idx, x in enumerate(vec):\r\n",
        "  if val < x:\r\n",
        "    val = vec[idx]\r\n",
        "print(val)\r\n",
        "```\r\n",
        "a) 3\r\n",
        "\r\n",
        "**b) 9**\r\n",
        "\r\n",
        "c) 5\r\n",
        "\r\n",
        "d) 7\r\n",
        "\r\n"
      ]
    },
    {
      "cell_type": "code",
      "metadata": {
        "colab": {
          "base_uri": "https://localhost:8080/"
        },
        "id": "aTQpiY7PJ0FL",
        "outputId": "e35012ed-fe1d-4696-a3c1-26675a742688"
      },
      "source": [
        "vec  = [2,5,1,9,3,7]\r\n",
        "val = 0\r\n",
        "for idx, x in enumerate(vec):\r\n",
        "  if val < x:\r\n",
        "    val = vec[idx]\r\n",
        "print(val)"
      ],
      "execution_count": 33,
      "outputs": [
        {
          "output_type": "stream",
          "text": [
            "9\n"
          ],
          "name": "stdout"
        }
      ]
    },
    {
      "cell_type": "markdown",
      "metadata": {
        "id": "0IapSBc6KcvV"
      },
      "source": [
        "##18#PyEx - Python - Dictionary in Python 3:\r\n",
        "Which of the following options is a Python dictionary?\r\n",
        "\r\n",
        "a) {'image_file' = './my_dir/imgs/img_258349xh3', 'image_len' = img.shape[0] * img.shape[1]}\r\n",
        "\r\n",
        "**b) {'id': 7, 'pass': 'password_key', 'width': 250, 'height': 250}**\r\n",
        "\r\n",
        "c) (a: 7, b: 'word', c:numpy.arange(15))\r\n",
        "\r\n",
        "d) ['files': './my_files/tensorflow_files', 'folder_tam': 15]\r\n"
      ]
    },
    {
      "cell_type": "code",
      "metadata": {
        "colab": {
          "base_uri": "https://localhost:8080/",
          "height": 132
        },
        "id": "xNCerbxEKV4b",
        "outputId": "1b68580b-f151-4890-e823-fd447ab96e03"
      },
      "source": [
        "# Test a)\r\n",
        "{'image_file' = './my_dir/imgs/img_258349xh3', 'image_len' = img.shape[0] * img.shape[1]}"
      ],
      "execution_count": 34,
      "outputs": [
        {
          "output_type": "error",
          "ename": "SyntaxError",
          "evalue": "ignored",
          "traceback": [
            "\u001b[0;36m  File \u001b[0;32m\"<ipython-input-34-fc8c6e05bdc8>\"\u001b[0;36m, line \u001b[0;32m2\u001b[0m\n\u001b[0;31m    {'image_file' = './my_dir/imgs/img_258349xh3', 'image_len' = img.shape[0] * img.shape[1]}\u001b[0m\n\u001b[0m                  ^\u001b[0m\n\u001b[0;31mSyntaxError\u001b[0m\u001b[0;31m:\u001b[0m invalid syntax\n"
          ]
        }
      ]
    },
    {
      "cell_type": "code",
      "metadata": {
        "colab": {
          "base_uri": "https://localhost:8080/"
        },
        "id": "sPrsTn_6K_yL",
        "outputId": "f720eeb4-d3d9-4851-ea01-ef0e880c5781"
      },
      "source": [
        "# Test b)\r\n",
        "{'id': 7, 'pass': 'password_key', 'width': 250, 'height': 250}"
      ],
      "execution_count": 35,
      "outputs": [
        {
          "output_type": "execute_result",
          "data": {
            "text/plain": [
              "{'height': 250, 'id': 7, 'pass': 'password_key', 'width': 250}"
            ]
          },
          "metadata": {
            "tags": []
          },
          "execution_count": 35
        }
      ]
    },
    {
      "cell_type": "code",
      "metadata": {
        "colab": {
          "base_uri": "https://localhost:8080/",
          "height": 132
        },
        "id": "DY50LhEgLEM_",
        "outputId": "412234cd-0b7a-4e23-8ba9-a0e702eabf92"
      },
      "source": [
        "# Test c)\r\n",
        "(a: 7, b: 'word', c:numpy.arange(15))"
      ],
      "execution_count": 36,
      "outputs": [
        {
          "output_type": "error",
          "ename": "SyntaxError",
          "evalue": "ignored",
          "traceback": [
            "\u001b[0;36m  File \u001b[0;32m\"<ipython-input-36-f20c01924025>\"\u001b[0;36m, line \u001b[0;32m2\u001b[0m\n\u001b[0;31m    (a: 7, b: 'word', c:numpy.arange(15))\u001b[0m\n\u001b[0m      ^\u001b[0m\n\u001b[0;31mSyntaxError\u001b[0m\u001b[0;31m:\u001b[0m invalid syntax\n"
          ]
        }
      ]
    },
    {
      "cell_type": "code",
      "metadata": {
        "colab": {
          "base_uri": "https://localhost:8080/",
          "height": 132
        },
        "id": "r7-n5qh4LH6A",
        "outputId": "3fabb3e9-d132-4f38-9102-8ef28c794ac3"
      },
      "source": [
        "# Test d)\r\n",
        "['files': './my_files/tensorflow_files', 'folder_tam': 15]"
      ],
      "execution_count": 37,
      "outputs": [
        {
          "output_type": "error",
          "ename": "SyntaxError",
          "evalue": "ignored",
          "traceback": [
            "\u001b[0;36m  File \u001b[0;32m\"<ipython-input-37-973f2a97faf9>\"\u001b[0;36m, line \u001b[0;32m2\u001b[0m\n\u001b[0;31m    ['files': './my_files/tensorflow_files', 'folder_tam': 15]\u001b[0m\n\u001b[0m            ^\u001b[0m\n\u001b[0;31mSyntaxError\u001b[0m\u001b[0;31m:\u001b[0m invalid syntax\n"
          ]
        }
      ]
    }
  ]
}