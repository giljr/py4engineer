{
 "metadata": {
  "language_info": {
   "codemirror_mode": {
    "name": "ipython",
    "version": 3
   },
   "file_extension": ".py",
   "mimetype": "text/x-python",
   "name": "python",
   "nbconvert_exporter": "python",
   "pygments_lexer": "ipython3",
   "version": "3.7.3-final"
  },
  "orig_nbformat": 2,
  "kernelspec": {
   "name": "python37364bit49a3f827a4fd4d76955e1d5e29591a46",
   "display_name": "Python 3.7.3 64-bit"
  }
 },
 "nbformat": 4,
 "nbformat_minor": 2,
 "cells": [
  {
   "cell_type": "code",
   "execution_count": 177,
   "metadata": {
    "tags": []
   },
   "outputs": [
    {
     "output_type": "stream",
     "name": "stdout",
     "text": "This is for Numpy: Arithmetic Operations, Indexing & Selection, and Conditional Selection\n"
    }
   ],
   "source": [
    "print('This is for Numpy: Arithmetic Operations, Indexing & Selection, and Conditional Selection')"
   ]
  },
  {
   "cell_type": "code",
   "execution_count": 93,
   "metadata": {},
   "outputs": [],
   "source": [
    "# Using Numpy\n",
    "import numpy as np "
   ]
  },
  {
   "cell_type": "markdown",
   "metadata": {},
   "source": [
    "### Creating NumPy Arrays\n",
    "\n",
    "From a Python List"
   ]
  },
  {
   "cell_type": "code",
   "execution_count": 94,
   "metadata": {},
   "outputs": [],
   "source": [
    "my_list = [0,1,2,3,4,5,6,7,8,9,10]"
   ]
  },
  {
   "cell_type": "code",
   "execution_count": 96,
   "metadata": {
    "tags": []
   },
   "outputs": [
    {
     "output_type": "stream",
     "name": "stdout",
     "text": "[ 0  1  2  3  4  5  6  7  8  9 10]\n"
    }
   ],
   "source": [
    "nparr = np.array(my_list)\n",
    "print(nparr)"
   ]
  },
  {
   "cell_type": "markdown",
   "metadata": {},
   "source": [
    "or From Build-in Method"
   ]
  },
  {
   "cell_type": "code",
   "execution_count": 97,
   "metadata": {
    "tags": []
   },
   "outputs": [
    {
     "output_type": "stream",
     "name": "stdout",
     "text": "[ 0  1  2  3  4  5  6  7  8  9 10]\n"
    }
   ],
   "source": [
    "nparr=np.arange(0,11)\n",
    "print(arr)"
   ]
  },
  {
   "cell_type": "markdown",
   "metadata": {},
   "source": [
    "## UNIVERSAL FUNCTION - ufunc\n",
    "\n",
    "ARITHMETIC OPERATIONS YOU CAN PERFORM WITH NUMPY ARRAYS\n",
    "\n",
    "https://docs.scipy.org/doc/scipy/reference/tutorial/basic.html"
   ]
  },
  {
   "cell_type": "code",
   "execution_count": 99,
   "metadata": {
    "tags": []
   },
   "outputs": [
    {
     "output_type": "stream",
     "name": "stdout",
     "text": "[ 0  2  4  6  8 10 12 14 16 18 20]\n"
    }
   ],
   "source": [
    "# ADDING ARRAYS\n",
    "nparr_added = nparr + nparr\n",
    "print(nparr_added)"
   ]
  },
  {
   "cell_type": "code",
   "execution_count": 100,
   "metadata": {
    "tags": []
   },
   "outputs": [
    {
     "output_type": "stream",
     "name": "stdout",
     "text": "[0 0 0 0 0 0 0 0 0 0 0]\n"
    }
   ],
   "source": [
    "# SUBTRATING ARRAYS\n",
    "nparr_sub= nparr - nparr\n",
    "print(nparr_sub)"
   ]
  },
  {
   "cell_type": "code",
   "execution_count": 106,
   "metadata": {
    "tags": []
   },
   "outputs": [
    {
     "output_type": "stream",
     "name": "stdout",
     "text": "[  0   1   4   9  16  25  36  49  64  81 100]\n[nan  1.  1.  1.  1.  1.  1.  1.  1.  1.  1.]\n"
    }
   ],
   "source": [
    "# MULTIPLICATING OR DIVISION ARRAYS\n",
    "nparr_mult = nparr * nparr \n",
    "print(nparr_mult)\n",
    "# Note: division zero by zero yields no error, but nan (absence of an object, equal to null)\n",
    "nparr_div = nparr / nparr\n",
    "print(nparr_div)"
   ]
  },
  {
   "cell_type": "code",
   "execution_count": 105,
   "metadata": {
    "tags": []
   },
   "outputs": [
    {
     "output_type": "stream",
     "name": "stdout",
     "text": "[  0  10  20  30  40  50  60  70  80  90 100]\n"
    }
   ],
   "source": [
    "# MULTIPLY BY A SCALARS\n",
    "nparr_esc = nparr * 10\n",
    "print(nparr_esc)"
   ]
  },
  {
   "cell_type": "code",
   "execution_count": 110,
   "metadata": {
    "tags": []
   },
   "outputs": [
    {
     "output_type": "stream",
     "name": "stdout",
     "text": "[       inf 1.         0.5        0.33333333 0.25       0.2\n 0.16666667 0.14285714 0.125      0.11111111 0.1       ]\n"
    }
   ],
   "source": [
    "# ONE DIVIDED BY ZERO \n",
    "# inf signifies infinity for one divided by zero at the very first element  \n",
    "nparr_one_div = 1/nparr\n",
    "print(nparr_one_div)"
   ]
  },
  {
   "cell_type": "code",
   "execution_count": 118,
   "metadata": {
    "tags": []
   },
   "outputs": [
    {
     "output_type": "stream",
     "name": "stdout",
     "text": "[  0   1   4   9  16  25  36  49  64  81 100]\n[  0   1   4   9  16  25  36  49  64  81 100]\n[1.00000000e+00 2.71828183e+00 7.38905610e+00 2.00855369e+01\n 5.45981500e+01 1.48413159e+02 4.03428793e+02 1.09663316e+03\n 2.98095799e+03 8.10308393e+03 2.20264658e+04]\n"
    }
   ],
   "source": [
    "# EXPONENT - ARRAYS - Squaring everthing - Two options\n",
    "np_arr_exp1 = nparr ** 2\n",
    "print(np_arr_exp1) \n",
    "np_arr_exp2 = np.square(nparr)\n",
    "print(np_arr_exp2)"
   ]
  },
  {
   "cell_type": "code",
   "execution_count": 114,
   "metadata": {
    "tags": []
   },
   "outputs": [
    {
     "output_type": "stream",
     "name": "stdout",
     "text": "[0.         1.         1.41421356 1.73205081 2.         2.23606798\n 2.44948974 2.64575131 2.82842712 3.         3.16227766]\n"
    }
   ],
   "source": [
    "# SQUARE ROOT\n",
    "nparr_sr = np.sqrt(nparr)\n",
    "print(nparr_sr)"
   ]
  },
  {
   "cell_type": "code",
   "execution_count": 120,
   "metadata": {
    "tags": []
   },
   "outputs": [
    {
     "output_type": "stream",
     "name": "stdout",
     "text": "[1.00000000e+00 2.71828183e+00 7.38905610e+00 2.00855369e+01\n 5.45981500e+01 1.48413159e+02 4.03428793e+02 1.09663316e+03\n 2.98095799e+03 8.10308393e+03 2.20264658e+04]\n"
    }
   ],
   "source": [
    "# EXPONENTIAL WITH ARRAYS\n",
    "np_arr_exp3 = np.exp(nparr)\n",
    "print(np_arr_exp3)"
   ]
  },
  {
   "cell_type": "code",
   "execution_count": 123,
   "metadata": {
    "tags": []
   },
   "outputs": [
    {
     "output_type": "stream",
     "name": "stdout",
     "text": "10\n0\n"
    }
   ],
   "source": [
    "# MAX & MIN\n",
    "nparr_max = np.max(arr)\n",
    "print(nparr_max)\n",
    "nparr_min = np.min(arr)\n",
    "print(nparr_min)"
   ]
  },
  {
   "cell_type": "code",
   "execution_count": 124,
   "metadata": {
    "tags": []
   },
   "outputs": [
    {
     "output_type": "stream",
     "name": "stdout",
     "text": "[ 0.          0.84147098  0.90929743  0.14112001 -0.7568025  -0.95892427\n -0.2794155   0.6569866   0.98935825  0.41211849 -0.54402111]\n"
    }
   ],
   "source": [
    "# TRIGONOETRIC FUNCTIONS - Passing every element into sine function\n",
    "nparr_sin = np.sin(nparr)\n",
    "print(nparr_sin)"
   ]
  },
  {
   "cell_type": "code",
   "execution_count": 125,
   "metadata": {
    "tags": []
   },
   "outputs": [
    {
     "output_type": "stream",
     "name": "stdout",
     "text": "[      -inf 0.         0.69314718 1.09861229 1.38629436 1.60943791\n 1.79175947 1.94591015 2.07944154 2.19722458 2.30258509]\n"
    }
   ],
   "source": [
    "# LOGARITMIC - Note:  the very first one is minus infinity\n",
    "nparr_log = np.log(nparr)\n",
    "print(nparr_log)"
   ]
  },
  {
   "cell_type": "markdown",
   "metadata": {},
   "source": [
    "## NUMPY PRACTICING EXERCISES"
   ]
  },
  {
   "cell_type": "markdown",
   "metadata": {},
   "source": [
    "### 1 . Creates an array of the integers from 10 to 50"
   ]
  },
  {
   "cell_type": "code",
   "execution_count": 127,
   "metadata": {
    "tags": []
   },
   "outputs": [
    {
     "output_type": "stream",
     "name": "stdout",
     "text": "[10 11 12 13 14 15 16 17 18 19 20 21 22 23 24 25 26 27 28 29 30 31 32 33\n 34 35 36 37 38 39 40 41 42 43 44 45 46 47 48 49 50]\n"
    }
   ],
   "source": [
    "arr_10to50 = np.arange(10,51)\n",
    "print(arr_10to50)"
   ]
  },
  {
   "cell_type": "markdown",
   "metadata": {},
   "source": [
    "### 2 . Create an array of the even integers from 10 to 50"
   ]
  },
  {
   "cell_type": "code",
   "execution_count": 128,
   "metadata": {
    "tags": []
   },
   "outputs": [
    {
     "output_type": "stream",
     "name": "stdout",
     "text": "[10 12 14 16 18 20 22 24 26 28 30 32 34 36 38 40 42 44 46 48 50]\n"
    }
   ],
   "source": [
    "arr_10to50_even = np.arange(10,51,2)\n",
    "print(arr_10to50_even)"
   ]
  },
  {
   "cell_type": "markdown",
   "metadata": {},
   "source": [
    "### 3. Creates a 3x3 matrix with values ranging from 1 to 9"
   ]
  },
  {
   "cell_type": "code",
   "execution_count": 130,
   "metadata": {},
   "outputs": [
    {
     "output_type": "execute_result",
     "data": {
      "text/plain": "array([[1, 2, 3],\n       [4, 5, 6],\n       [7, 8, 9]])"
     },
     "metadata": {},
     "execution_count": 130
    }
   ],
   "source": [
    "np.arange(1,10).reshape(3,3)"
   ]
  },
  {
   "cell_type": "markdown",
   "metadata": {},
   "source": [
    "### 4. Use Numpy to generate a random number between 0 and 1"
   ]
  },
  {
   "cell_type": "code",
   "execution_count": 131,
   "metadata": {},
   "outputs": [
    {
     "output_type": "execute_result",
     "data": {
      "text/plain": "array([0.9293055])"
     },
     "metadata": {},
     "execution_count": 131
    }
   ],
   "source": [
    "np.random.rand(1)"
   ]
  },
  {
   "cell_type": "markdown",
   "metadata": {},
   "source": [
    "### 5. Use Numpy to generate 25 random numbers sampled from a standard normal distribution "
   ]
  },
  {
   "cell_type": "code",
   "execution_count": 134,
   "metadata": {},
   "outputs": [
    {
     "output_type": "execute_result",
     "data": {
      "text/plain": "array([-1.47093051,  0.14332231, -0.82546753, -0.2788275 , -1.41869546,\n        2.83129676,  2.23456237,  0.43810358, -0.93159008,  0.69855699,\n       -0.38841985, -0.08614515, -0.46730151, -1.29781327, -0.26477789,\n       -0.06241016, -0.86072499, -0.80564064, -0.56745696,  0.7690222 ,\n       -0.49046738, -1.85995422,  0.68328618, -2.46422797,  0.21964493])"
     },
     "metadata": {},
     "execution_count": 134
    }
   ],
   "source": [
    "np.random.randn(25)"
   ]
  },
  {
   "cell_type": "markdown",
   "metadata": {},
   "source": [
    "### 6. Create a matrix of 100 items spaced equally at 0.01 steps ranged fro 0.01 to 1"
   ]
  },
  {
   "cell_type": "code",
   "execution_count": 137,
   "metadata": {},
   "outputs": [
    {
     "output_type": "execute_result",
     "data": {
      "text/plain": "array([[0.01, 0.02, 0.03, 0.04, 0.05, 0.06, 0.07, 0.08, 0.09, 0.1 ],\n       [0.11, 0.12, 0.13, 0.14, 0.15, 0.16, 0.17, 0.18, 0.19, 0.2 ],\n       [0.21, 0.22, 0.23, 0.24, 0.25, 0.26, 0.27, 0.28, 0.29, 0.3 ],\n       [0.31, 0.32, 0.33, 0.34, 0.35, 0.36, 0.37, 0.38, 0.39, 0.4 ],\n       [0.41, 0.42, 0.43, 0.44, 0.45, 0.46, 0.47, 0.48, 0.49, 0.5 ],\n       [0.51, 0.52, 0.53, 0.54, 0.55, 0.56, 0.57, 0.58, 0.59, 0.6 ],\n       [0.61, 0.62, 0.63, 0.64, 0.65, 0.66, 0.67, 0.68, 0.69, 0.7 ],\n       [0.71, 0.72, 0.73, 0.74, 0.75, 0.76, 0.77, 0.78, 0.79, 0.8 ],\n       [0.81, 0.82, 0.83, 0.84, 0.85, 0.86, 0.87, 0.88, 0.89, 0.9 ],\n       [0.91, 0.92, 0.93, 0.94, 0.95, 0.96, 0.97, 0.98, 0.99, 1.  ]])"
     },
     "metadata": {},
     "execution_count": 137
    }
   ],
   "source": [
    "np.arange(1,101).reshape(10,10)/100"
   ]
  },
  {
   "cell_type": "code",
   "execution_count": 139,
   "metadata": {},
   "outputs": [
    {
     "output_type": "execute_result",
     "data": {
      "text/plain": "array([[0.01, 0.02, 0.03, 0.04, 0.05, 0.06, 0.07, 0.08, 0.09, 0.1 ],\n       [0.11, 0.12, 0.13, 0.14, 0.15, 0.16, 0.17, 0.18, 0.19, 0.2 ],\n       [0.21, 0.22, 0.23, 0.24, 0.25, 0.26, 0.27, 0.28, 0.29, 0.3 ],\n       [0.31, 0.32, 0.33, 0.34, 0.35, 0.36, 0.37, 0.38, 0.39, 0.4 ],\n       [0.41, 0.42, 0.43, 0.44, 0.45, 0.46, 0.47, 0.48, 0.49, 0.5 ],\n       [0.51, 0.52, 0.53, 0.54, 0.55, 0.56, 0.57, 0.58, 0.59, 0.6 ],\n       [0.61, 0.62, 0.63, 0.64, 0.65, 0.66, 0.67, 0.68, 0.69, 0.7 ],\n       [0.71, 0.72, 0.73, 0.74, 0.75, 0.76, 0.77, 0.78, 0.79, 0.8 ],\n       [0.81, 0.82, 0.83, 0.84, 0.85, 0.86, 0.87, 0.88, 0.89, 0.9 ],\n       [0.91, 0.92, 0.93, 0.94, 0.95, 0.96, 0.97, 0.98, 0.99, 1.  ]])"
     },
     "metadata": {},
     "execution_count": 139
    }
   ],
   "source": [
    "# Returning the exact same result as above\n",
    "np.linspace(0.01,1, 100).reshape(10,10)"
   ]
  },
  {
   "cell_type": "markdown",
   "metadata": {},
   "source": [
    "### 7. Create an array of 20 linearly spaced points between 0 and 1"
   ]
  },
  {
   "cell_type": "code",
   "execution_count": 178,
   "metadata": {},
   "outputs": [
    {
     "output_type": "execute_result",
     "data": {
      "text/plain": "array([0.        , 0.05263158, 0.10526316, 0.15789474, 0.21052632,\n       0.26315789, 0.31578947, 0.36842105, 0.42105263, 0.47368421,\n       0.52631579, 0.57894737, 0.63157895, 0.68421053, 0.73684211,\n       0.78947368, 0.84210526, 0.89473684, 0.94736842, 1.        ])"
     },
     "metadata": {},
     "execution_count": 178
    }
   ],
   "source": [
    "np.linspace(0,1, 20)"
   ]
  },
  {
   "cell_type": "markdown",
   "metadata": {},
   "source": [
    "# SLICE NOTATION in NUMPY \n",
    "\n",
    "## Slicing arrays\n",
    "Slicing in python means taking elements from one given index to another given index. We pass slice instead of index like this: [[start:end]] . We can also define the step, like this: [[start:end:step]] .\n",
    "\n",
    "### Given this 2-Dimensional Array: \n",
    "\n",
    "arr_2_d\n"
   ]
  },
  {
   "cell_type": "markdown",
   "metadata": {},
   "source": [
    "There are 2 general formats for GRABBING ELEMENTS from a 2-d array (matrix):\n",
    "\n",
    "1. DOUBLE BRACKET FORMAT   \n",
    "\n",
    "      mat[[row]][[column]]\n",
    "\n",
    "2. SINGLE BRACKET FORMAT   \n",
    "\n",
    "      mat(row,column) \n",
    "      \n",
    "      w/ comma, this is least prone to error!"
   ]
  },
  {
   "cell_type": "markdown",
   "metadata": {},
   "source": [
    "SLICED NOTATION:\n",
    "\n",
    "[[              row        :    Column ]]\n",
    "\n",
    "[[  Grab everything from   : up to     ]] \n",
    "\n",
    "[[          but not including          ]]\n"
   ]
  },
  {
   "cell_type": "markdown",
   "metadata": {},
   "source": [
    "## PRACTICING EXERCISES FOR Slicing & Indexing\n"
   ]
  },
  {
   "cell_type": "code",
   "execution_count": 150,
   "metadata": {
    "tags": []
   },
   "outputs": [
    {
     "output_type": "stream",
     "name": "stdout",
     "text": "[[ 1  2  3  4  5]\n [ 6  7  8  9 10]\n [11 12 13 14 15]\n [16 17 18 19 20]\n [21 22 23 24 25]]\n"
    }
   ],
   "source": [
    "# Use this 2-Dimensional Array for this exercises \n",
    "arr_2_d = np.arange(1,26).reshape(5,5)\n",
    "print(arr_2_d)"
   ]
  },
  {
   "cell_type": "markdown",
   "metadata": {},
   "source": [
    "### 1. Using  Slicing & Indexing grab element 20  of the arr_2_d array"
   ]
  },
  {
   "cell_type": "code",
   "execution_count": 144,
   "metadata": {},
   "outputs": [
    {
     "output_type": "execute_result",
     "data": {
      "text/plain": "20"
     },
     "metadata": {},
     "execution_count": 144
    }
   ],
   "source": [
    "arr_2_d[3,4]"
   ]
  },
  {
   "cell_type": "markdown",
   "metadata": {},
   "source": [
    "### 2. Using  Slicing & Indexing grab items 2, 7, 12  elements of the arr_2_d array"
   ]
  },
  {
   "cell_type": "code",
   "execution_count": 149,
   "metadata": {},
   "outputs": [
    {
     "output_type": "execute_result",
     "data": {
      "text/plain": "array([[ 2],\n       [ 7],\n       [12]])"
     },
     "metadata": {},
     "execution_count": 149
    }
   ],
   "source": [
    "# That is to say:\n",
    "# for row: grab from the begining up to the forth row (but not including) and \n",
    "# for column: grab the second up to the third row (but not including)\n",
    "arr_2_d[:3,1:2]"
   ]
  },
  {
   "cell_type": "markdown",
   "metadata": {},
   "source": [
    "### 3. Using  Slicing & Indexing grab the last row of the arr_2_d array"
   ]
  },
  {
   "cell_type": "code",
   "execution_count": 151,
   "metadata": {},
   "outputs": [
    {
     "output_type": "execute_result",
     "data": {
      "text/plain": "array([21, 22, 23, 24, 25])"
     },
     "metadata": {},
     "execution_count": 151
    }
   ],
   "source": [
    "# That is to say:\n",
    "# for row: grab all the fifth row and \n",
    "# for column: grab from the beginning up to the end (:)\n",
    "arr_2_d[4,:]"
   ]
  },
  {
   "cell_type": "code",
   "execution_count": null,
   "metadata": {},
   "outputs": [],
   "source": []
  },
  {
   "cell_type": "markdown",
   "metadata": {},
   "source": [
    "### 4. Get the sum of all the values in arr_2_d array"
   ]
  },
  {
   "cell_type": "code",
   "execution_count": 153,
   "metadata": {},
   "outputs": [
    {
     "output_type": "execute_result",
     "data": {
      "text/plain": "325"
     },
     "metadata": {},
     "execution_count": 153
    }
   ],
   "source": [
    "# There are 2 solutions:\n",
    "# Using Numpy and pass array as parameter\n",
    "np.sum(arr_2_d)"
   ]
  },
  {
   "cell_type": "code",
   "execution_count": 152,
   "metadata": {},
   "outputs": [
    {
     "output_type": "execute_result",
     "data": {
      "text/plain": "325"
     },
     "metadata": {},
     "execution_count": 152
    }
   ],
   "source": [
    "# Use the method of the object array directly\n",
    "arr_2_d.sum()"
   ]
  },
  {
   "cell_type": "markdown",
   "metadata": {},
   "source": [
    "### 5. Get the standard diviation of the  values in arr_2_d array"
   ]
  },
  {
   "cell_type": "code",
   "execution_count": 154,
   "metadata": {},
   "outputs": [
    {
     "output_type": "execute_result",
     "data": {
      "text/plain": "7.211102550927978"
     },
     "metadata": {},
     "execution_count": 154
    }
   ],
   "source": [
    "np.std(arr_2_d)"
   ]
  },
  {
   "cell_type": "code",
   "execution_count": 155,
   "metadata": {},
   "outputs": [
    {
     "output_type": "execute_result",
     "data": {
      "text/plain": "7.211102550927978"
     },
     "metadata": {},
     "execution_count": 155
    }
   ],
   "source": [
    "arr_2_d.std()"
   ]
  },
  {
   "cell_type": "markdown",
   "metadata": {},
   "source": [
    "### 6. Get the sum of the Columns  values in arr_2_d array"
   ]
  },
  {
   "cell_type": "code",
   "execution_count": 156,
   "metadata": {},
   "outputs": [
    {
     "output_type": "execute_result",
     "data": {
      "text/plain": "array([55, 60, 65, 70, 75])"
     },
     "metadata": {},
     "execution_count": 156
    }
   ],
   "source": [
    "arr_2_d.sum(axis=0)"
   ]
  },
  {
   "cell_type": "markdown",
   "metadata": {},
   "source": [
    "### 7. Get the sum of the Rows  values in arr_2_d array"
   ]
  },
  {
   "cell_type": "code",
   "execution_count": 157,
   "metadata": {},
   "outputs": [
    {
     "output_type": "execute_result",
     "data": {
      "text/plain": "array([ 15,  40,  65,  90, 115])"
     },
     "metadata": {},
     "execution_count": 157
    }
   ],
   "source": [
    "arr_2_d.sum(axis=1)"
   ]
  },
  {
   "cell_type": "markdown",
   "metadata": {},
   "source": [
    "# CONDITIONAL SELECTION"
   ]
  },
  {
   "cell_type": "markdown",
   "metadata": {},
   "source": [
    "### SUMMARY\n",
    "\n",
    "1. Get an array and perform a comparison operator on it; it will return a boolean array;\n",
    "2. Use that boolean array to index a conditional selection."
   ]
  },
  {
   "cell_type": "code",
   "execution_count": 172,
   "metadata": {
    "tags": []
   },
   "outputs": [
    {
     "output_type": "stream",
     "name": "stdout",
     "text": "[ 1  2  3  4  5  6  7  8  9 10]\n"
    }
   ],
   "source": [
    "# Given that Array to test Conditional Selection\n",
    "arr = np.arange(1,11)\n",
    "print(arr)"
   ]
  },
  {
   "cell_type": "code",
   "execution_count": 173,
   "metadata": {
    "tags": []
   },
   "outputs": [
    {
     "output_type": "stream",
     "name": "stdout",
     "text": "[ True  True  True  True False False False False False False]\n"
    }
   ],
   "source": [
    "# Perform the comparison and grab the result (booleans array)\n",
    "bool_arr = arr < 5\n",
    "print(bool_arr)"
   ]
  },
  {
   "cell_type": "code",
   "execution_count": 174,
   "metadata": {
    "tags": []
   },
   "outputs": [
    {
     "output_type": "stream",
     "name": "stdout",
     "text": "[1 2 3 4]\n"
    }
   ],
   "source": [
    "# I can now use that booleans array to actualy index or **conditionally select** elements\n",
    "#  from the original array (arr); then only return instances where boolean array is true.\n",
    "result_arr = arr[bool_arr] \n",
    "print(result_arr)"
   ]
  },
  {
   "cell_type": "markdown",
   "metadata": {},
   "source": [
    "### In Just One line of code. Just Awesome!"
   ]
  },
  {
   "cell_type": "code",
   "execution_count": 175,
   "metadata": {
    "tags": []
   },
   "outputs": [
    {
     "output_type": "stream",
     "name": "stdout",
     "text": "[1 2 3 4]\n"
    }
   ],
   "source": [
    "# Returning the same result as above\n",
    "result_arr = arr[arr<5]\n",
    "print(result_arr)"
   ]
  },
  {
   "cell_type": "markdown",
   "metadata": {},
   "source": [
    "### Notes:\n",
    "\n",
    "Getting an array and using a comparison operator on it, will actually return a boolean array (meaning an array of all boolean values).\n",
    "\n",
    "Then We can use that boolean array to actually index or **conditionally select** elements from the original array Where this happened to true.\n",
    "\n",
    "So only return instances where that boolean array is true and more commonly sort of splitting this up into 2 steps we would actually do this all in one step.\n",
    "\n",
    "We would say array, and in brackets, instead of the array, we would pass in the conditional statement (arr[[arr<5]]), and that would return the same answer and this is the sort of **syntax notation** we're going to be using all the time as far as conditional selection.\n",
    "\n",
    "THIS IS THE SORT OF NOTATION YOU WOULD GET USED SPECIALLY WHEN WE MOVE ON TO PANDAS!"
   ]
  },
  {
   "cell_type": "code",
   "execution_count": 180,
   "metadata": {
    "tags": []
   },
   "outputs": [
    {
     "output_type": "stream",
     "name": "stdout",
     "text": "that's it! Thank you for Reading this post! I Hope it helps! Bye o/\n"
    }
   ],
   "source": [
    "# https://medium.com/jungletronics/numpy-jupyter-notebook-1182f78ab4e1\n",
    "print(\"that's it! Thank you for Reading this post! I Hope it helps! Bye o/\")"
   ]
  }
 ]
}