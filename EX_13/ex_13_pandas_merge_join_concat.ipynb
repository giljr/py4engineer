{
  "nbformat": 4,
  "nbformat_minor": 0,
  "metadata": {
    "colab": {
      "name": "pandas_merge_join_concat",
      "provenance": []
    },
    "kernelspec": {
      "name": "python3",
      "display_name": "Python 3"
    }
  },
  "cells": [
    {
      "cell_type": "code",
      "metadata": {
        "id": "uGwFVRZNSrVx",
        "colab": {
          "base_uri": "https://localhost:8080/",
          "height": 34
        },
        "outputId": "82af0b36-36ca-40cf-dd8d-1d616187c28e"
      },
      "source": [
        "print(\"Hello Pandas - Merging Joining and Concatenating\")"
      ],
      "execution_count": null,
      "outputs": [
        {
          "output_type": "stream",
          "text": [
            "Hello Pandas - Merging Joining and Concatenating\n"
          ],
          "name": "stdout"
        }
      ]
    },
    {
      "cell_type": "code",
      "metadata": {
        "id": "bWc2INDPSagn"
      },
      "source": [
        "import numpy as np\n",
        "import pandas as pd"
      ],
      "execution_count": null,
      "outputs": []
    },
    {
      "cell_type": "code",
      "metadata": {
        "id": "HSvLLA6-Sxbc"
      },
      "source": [
        "df1=pd.DataFrame({'A':['A0','A1','A2','A3'],\n",
        "                  'B':['B0','B1','B2','B3'],\n",
        "                  'C':['C0','C1','C2','C3'], \n",
        "                  'D':['D0','D1','D2','D3']}, \n",
        "                 index=[0,1,2,3])"
      ],
      "execution_count": null,
      "outputs": []
    },
    {
      "cell_type": "code",
      "metadata": {
        "id": "Occ-13BMUq0a"
      },
      "source": [
        "df2=pd.DataFrame({'A':['A4','A5','A6','A7'],\n",
        "                  'B':['B4','B5','B6','B7'],\n",
        "                  'C':['C4','C5','C6','C7'], \n",
        "                  'D':['D4','D5','D6','D7']}, \n",
        "                 index=[0,1,2,3])"
      ],
      "execution_count": null,
      "outputs": []
    },
    {
      "cell_type": "code",
      "metadata": {
        "id": "joEKeu4DVh7v"
      },
      "source": [
        "df3=pd.DataFrame({'A':['A8','A9','A10','A11'],\n",
        "                  'B':['B8','B9','B10','B11'],\n",
        "                  'C':['C8','C9','C10','C11'], \n",
        "                  'D':['D8','D9','D10','D11']}, \n",
        "                 index=[0,1,2,3])\n"
      ],
      "execution_count": null,
      "outputs": []
    },
    {
      "cell_type": "markdown",
      "metadata": {
        "id": "weRNDi8CV8AQ"
      },
      "source": [
        "## Concatenation \n",
        "Combine two DataFrame objects with identical columns."
      ]
    },
    {
      "cell_type": "code",
      "metadata": {
        "id": "YznaT_W8VxEj",
        "colab": {
          "base_uri": "https://localhost:8080/",
          "height": 421
        },
        "outputId": "5e8a670a-4c7c-435c-c0ae-e3207ab7c6f2"
      },
      "source": [
        "pd.concat([df1,df2,df3])"
      ],
      "execution_count": null,
      "outputs": [
        {
          "output_type": "execute_result",
          "data": {
            "text/html": [
              "<div>\n",
              "<style scoped>\n",
              "    .dataframe tbody tr th:only-of-type {\n",
              "        vertical-align: middle;\n",
              "    }\n",
              "\n",
              "    .dataframe tbody tr th {\n",
              "        vertical-align: top;\n",
              "    }\n",
              "\n",
              "    .dataframe thead th {\n",
              "        text-align: right;\n",
              "    }\n",
              "</style>\n",
              "<table border=\"1\" class=\"dataframe\">\n",
              "  <thead>\n",
              "    <tr style=\"text-align: right;\">\n",
              "      <th></th>\n",
              "      <th>A</th>\n",
              "      <th>B</th>\n",
              "      <th>C</th>\n",
              "      <th>D</th>\n",
              "    </tr>\n",
              "  </thead>\n",
              "  <tbody>\n",
              "    <tr>\n",
              "      <th>0</th>\n",
              "      <td>A0</td>\n",
              "      <td>B0</td>\n",
              "      <td>C0</td>\n",
              "      <td>D0</td>\n",
              "    </tr>\n",
              "    <tr>\n",
              "      <th>1</th>\n",
              "      <td>A1</td>\n",
              "      <td>B1</td>\n",
              "      <td>C1</td>\n",
              "      <td>D1</td>\n",
              "    </tr>\n",
              "    <tr>\n",
              "      <th>2</th>\n",
              "      <td>A2</td>\n",
              "      <td>B2</td>\n",
              "      <td>C2</td>\n",
              "      <td>D2</td>\n",
              "    </tr>\n",
              "    <tr>\n",
              "      <th>3</th>\n",
              "      <td>A3</td>\n",
              "      <td>B3</td>\n",
              "      <td>C3</td>\n",
              "      <td>D3</td>\n",
              "    </tr>\n",
              "    <tr>\n",
              "      <th>0</th>\n",
              "      <td>A4</td>\n",
              "      <td>B4</td>\n",
              "      <td>C4</td>\n",
              "      <td>D4</td>\n",
              "    </tr>\n",
              "    <tr>\n",
              "      <th>1</th>\n",
              "      <td>A5</td>\n",
              "      <td>B5</td>\n",
              "      <td>C5</td>\n",
              "      <td>D5</td>\n",
              "    </tr>\n",
              "    <tr>\n",
              "      <th>2</th>\n",
              "      <td>A6</td>\n",
              "      <td>B6</td>\n",
              "      <td>C6</td>\n",
              "      <td>D6</td>\n",
              "    </tr>\n",
              "    <tr>\n",
              "      <th>3</th>\n",
              "      <td>A7</td>\n",
              "      <td>B7</td>\n",
              "      <td>C7</td>\n",
              "      <td>D7</td>\n",
              "    </tr>\n",
              "    <tr>\n",
              "      <th>0</th>\n",
              "      <td>A8</td>\n",
              "      <td>B8</td>\n",
              "      <td>C8</td>\n",
              "      <td>D8</td>\n",
              "    </tr>\n",
              "    <tr>\n",
              "      <th>1</th>\n",
              "      <td>A9</td>\n",
              "      <td>B9</td>\n",
              "      <td>C9</td>\n",
              "      <td>D9</td>\n",
              "    </tr>\n",
              "    <tr>\n",
              "      <th>2</th>\n",
              "      <td>A10</td>\n",
              "      <td>B10</td>\n",
              "      <td>C10</td>\n",
              "      <td>D10</td>\n",
              "    </tr>\n",
              "    <tr>\n",
              "      <th>3</th>\n",
              "      <td>A11</td>\n",
              "      <td>B11</td>\n",
              "      <td>C11</td>\n",
              "      <td>D11</td>\n",
              "    </tr>\n",
              "  </tbody>\n",
              "</table>\n",
              "</div>"
            ],
            "text/plain": [
              "     A    B    C    D\n",
              "0   A0   B0   C0   D0\n",
              "1   A1   B1   C1   D1\n",
              "2   A2   B2   C2   D2\n",
              "3   A3   B3   C3   D3\n",
              "0   A4   B4   C4   D4\n",
              "1   A5   B5   C5   D5\n",
              "2   A6   B6   C6   D6\n",
              "3   A7   B7   C7   D7\n",
              "0   A8   B8   C8   D8\n",
              "1   A9   B9   C9   D9\n",
              "2  A10  B10  C10  D10\n",
              "3  A11  B11  C11  D11"
            ]
          },
          "metadata": {
            "tags": []
          },
          "execution_count": 6
        }
      ]
    },
    {
      "cell_type": "code",
      "metadata": {
        "id": "Iwb0KzcIWXpV",
        "colab": {
          "base_uri": "https://localhost:8080/",
          "height": 173
        },
        "outputId": "738392d4-a535-4804-bb9f-64a2db0d0db0"
      },
      "source": [
        "pd.concat([df1,df2,df3], axis=1)"
      ],
      "execution_count": null,
      "outputs": [
        {
          "output_type": "execute_result",
          "data": {
            "text/html": [
              "<div>\n",
              "<style scoped>\n",
              "    .dataframe tbody tr th:only-of-type {\n",
              "        vertical-align: middle;\n",
              "    }\n",
              "\n",
              "    .dataframe tbody tr th {\n",
              "        vertical-align: top;\n",
              "    }\n",
              "\n",
              "    .dataframe thead th {\n",
              "        text-align: right;\n",
              "    }\n",
              "</style>\n",
              "<table border=\"1\" class=\"dataframe\">\n",
              "  <thead>\n",
              "    <tr style=\"text-align: right;\">\n",
              "      <th></th>\n",
              "      <th>A</th>\n",
              "      <th>B</th>\n",
              "      <th>C</th>\n",
              "      <th>D</th>\n",
              "      <th>A</th>\n",
              "      <th>B</th>\n",
              "      <th>C</th>\n",
              "      <th>D</th>\n",
              "      <th>A</th>\n",
              "      <th>B</th>\n",
              "      <th>C</th>\n",
              "      <th>D</th>\n",
              "    </tr>\n",
              "  </thead>\n",
              "  <tbody>\n",
              "    <tr>\n",
              "      <th>0</th>\n",
              "      <td>A0</td>\n",
              "      <td>B0</td>\n",
              "      <td>C0</td>\n",
              "      <td>D0</td>\n",
              "      <td>A4</td>\n",
              "      <td>B4</td>\n",
              "      <td>C4</td>\n",
              "      <td>D4</td>\n",
              "      <td>A8</td>\n",
              "      <td>B8</td>\n",
              "      <td>C8</td>\n",
              "      <td>D8</td>\n",
              "    </tr>\n",
              "    <tr>\n",
              "      <th>1</th>\n",
              "      <td>A1</td>\n",
              "      <td>B1</td>\n",
              "      <td>C1</td>\n",
              "      <td>D1</td>\n",
              "      <td>A5</td>\n",
              "      <td>B5</td>\n",
              "      <td>C5</td>\n",
              "      <td>D5</td>\n",
              "      <td>A9</td>\n",
              "      <td>B9</td>\n",
              "      <td>C9</td>\n",
              "      <td>D9</td>\n",
              "    </tr>\n",
              "    <tr>\n",
              "      <th>2</th>\n",
              "      <td>A2</td>\n",
              "      <td>B2</td>\n",
              "      <td>C2</td>\n",
              "      <td>D2</td>\n",
              "      <td>A6</td>\n",
              "      <td>B6</td>\n",
              "      <td>C6</td>\n",
              "      <td>D6</td>\n",
              "      <td>A10</td>\n",
              "      <td>B10</td>\n",
              "      <td>C10</td>\n",
              "      <td>D10</td>\n",
              "    </tr>\n",
              "    <tr>\n",
              "      <th>3</th>\n",
              "      <td>A3</td>\n",
              "      <td>B3</td>\n",
              "      <td>C3</td>\n",
              "      <td>D3</td>\n",
              "      <td>A7</td>\n",
              "      <td>B7</td>\n",
              "      <td>C7</td>\n",
              "      <td>D7</td>\n",
              "      <td>A11</td>\n",
              "      <td>B11</td>\n",
              "      <td>C11</td>\n",
              "      <td>D11</td>\n",
              "    </tr>\n",
              "  </tbody>\n",
              "</table>\n",
              "</div>"
            ],
            "text/plain": [
              "    A   B   C   D   A   B   C   D    A    B    C    D\n",
              "0  A0  B0  C0  D0  A4  B4  C4  D4   A8   B8   C8   D8\n",
              "1  A1  B1  C1  D1  A5  B5  C5  D5   A9   B9   C9   D9\n",
              "2  A2  B2  C2  D2  A6  B6  C6  D6  A10  B10  C10  D10\n",
              "3  A3  B3  C3  D3  A7  B7  C7  D7  A11  B11  C11  D11"
            ]
          },
          "metadata": {
            "tags": []
          },
          "execution_count": 7
        }
      ]
    },
    {
      "cell_type": "markdown",
      "metadata": {
        "id": "wEoHWmXaX0Hc"
      },
      "source": [
        "## Merging: Single key"
      ]
    },
    {
      "cell_type": "code",
      "metadata": {
        "id": "Bwc_SAQdX0rX"
      },
      "source": [
        "left=pd.DataFrame({'key':['K0','K1','K2','K3'],\n",
        "                   'A':['A0','A1','A2','A3'],\n",
        "                   'B':['B0','B1','B2','B3'],\n",
        "                   })"
      ],
      "execution_count": null,
      "outputs": []
    },
    {
      "cell_type": "code",
      "metadata": {
        "id": "nIvHTeHcZIGn"
      },
      "source": [
        "right=pd.DataFrame({'key':['K0','K1','K2','K3'],\n",
        "                   'A':['A4','A5','A6','A7'],\n",
        "                   'B':['B4','B5','B6','B7'],\n",
        "                   })"
      ],
      "execution_count": null,
      "outputs": []
    },
    {
      "cell_type": "code",
      "metadata": {
        "id": "7wNO1qSyZVYJ",
        "colab": {
          "base_uri": "https://localhost:8080/",
          "height": 173
        },
        "outputId": "48cb6b55-5e14-4655-b9ed-0ddc9601f232"
      },
      "source": [
        "left"
      ],
      "execution_count": null,
      "outputs": [
        {
          "output_type": "execute_result",
          "data": {
            "text/html": [
              "<div>\n",
              "<style scoped>\n",
              "    .dataframe tbody tr th:only-of-type {\n",
              "        vertical-align: middle;\n",
              "    }\n",
              "\n",
              "    .dataframe tbody tr th {\n",
              "        vertical-align: top;\n",
              "    }\n",
              "\n",
              "    .dataframe thead th {\n",
              "        text-align: right;\n",
              "    }\n",
              "</style>\n",
              "<table border=\"1\" class=\"dataframe\">\n",
              "  <thead>\n",
              "    <tr style=\"text-align: right;\">\n",
              "      <th></th>\n",
              "      <th>key</th>\n",
              "      <th>A</th>\n",
              "      <th>B</th>\n",
              "    </tr>\n",
              "  </thead>\n",
              "  <tbody>\n",
              "    <tr>\n",
              "      <th>0</th>\n",
              "      <td>K0</td>\n",
              "      <td>A0</td>\n",
              "      <td>B0</td>\n",
              "    </tr>\n",
              "    <tr>\n",
              "      <th>1</th>\n",
              "      <td>K1</td>\n",
              "      <td>A1</td>\n",
              "      <td>B1</td>\n",
              "    </tr>\n",
              "    <tr>\n",
              "      <th>2</th>\n",
              "      <td>K2</td>\n",
              "      <td>A2</td>\n",
              "      <td>B2</td>\n",
              "    </tr>\n",
              "    <tr>\n",
              "      <th>3</th>\n",
              "      <td>K3</td>\n",
              "      <td>A3</td>\n",
              "      <td>B3</td>\n",
              "    </tr>\n",
              "  </tbody>\n",
              "</table>\n",
              "</div>"
            ],
            "text/plain": [
              "  key   A   B\n",
              "0  K0  A0  B0\n",
              "1  K1  A1  B1\n",
              "2  K2  A2  B2\n",
              "3  K3  A3  B3"
            ]
          },
          "metadata": {
            "tags": []
          },
          "execution_count": 10
        }
      ]
    },
    {
      "cell_type": "code",
      "metadata": {
        "id": "qH6sA6q1ZYM3",
        "colab": {
          "base_uri": "https://localhost:8080/",
          "height": 173
        },
        "outputId": "4507019d-3e50-4184-b743-fad08f9a2cd4"
      },
      "source": [
        "right"
      ],
      "execution_count": null,
      "outputs": [
        {
          "output_type": "execute_result",
          "data": {
            "text/html": [
              "<div>\n",
              "<style scoped>\n",
              "    .dataframe tbody tr th:only-of-type {\n",
              "        vertical-align: middle;\n",
              "    }\n",
              "\n",
              "    .dataframe tbody tr th {\n",
              "        vertical-align: top;\n",
              "    }\n",
              "\n",
              "    .dataframe thead th {\n",
              "        text-align: right;\n",
              "    }\n",
              "</style>\n",
              "<table border=\"1\" class=\"dataframe\">\n",
              "  <thead>\n",
              "    <tr style=\"text-align: right;\">\n",
              "      <th></th>\n",
              "      <th>key</th>\n",
              "      <th>A</th>\n",
              "      <th>B</th>\n",
              "    </tr>\n",
              "  </thead>\n",
              "  <tbody>\n",
              "    <tr>\n",
              "      <th>0</th>\n",
              "      <td>K0</td>\n",
              "      <td>A4</td>\n",
              "      <td>B4</td>\n",
              "    </tr>\n",
              "    <tr>\n",
              "      <th>1</th>\n",
              "      <td>K1</td>\n",
              "      <td>A5</td>\n",
              "      <td>B5</td>\n",
              "    </tr>\n",
              "    <tr>\n",
              "      <th>2</th>\n",
              "      <td>K2</td>\n",
              "      <td>A6</td>\n",
              "      <td>B6</td>\n",
              "    </tr>\n",
              "    <tr>\n",
              "      <th>3</th>\n",
              "      <td>K3</td>\n",
              "      <td>A7</td>\n",
              "      <td>B7</td>\n",
              "    </tr>\n",
              "  </tbody>\n",
              "</table>\n",
              "</div>"
            ],
            "text/plain": [
              "  key   A   B\n",
              "0  K0  A4  B4\n",
              "1  K1  A5  B5\n",
              "2  K2  A6  B6\n",
              "3  K3  A7  B7"
            ]
          },
          "metadata": {
            "tags": []
          },
          "execution_count": 11
        }
      ]
    },
    {
      "cell_type": "code",
      "metadata": {
        "id": "CgaNBPu9ZymO",
        "colab": {
          "base_uri": "https://localhost:8080/",
          "height": 173
        },
        "outputId": "92e36b91-9978-49ad-ed3a-bb85d7b623a2"
      },
      "source": [
        "pd.merge(left,right,how='inner',on='key')"
      ],
      "execution_count": null,
      "outputs": [
        {
          "output_type": "execute_result",
          "data": {
            "text/html": [
              "<div>\n",
              "<style scoped>\n",
              "    .dataframe tbody tr th:only-of-type {\n",
              "        vertical-align: middle;\n",
              "    }\n",
              "\n",
              "    .dataframe tbody tr th {\n",
              "        vertical-align: top;\n",
              "    }\n",
              "\n",
              "    .dataframe thead th {\n",
              "        text-align: right;\n",
              "    }\n",
              "</style>\n",
              "<table border=\"1\" class=\"dataframe\">\n",
              "  <thead>\n",
              "    <tr style=\"text-align: right;\">\n",
              "      <th></th>\n",
              "      <th>key</th>\n",
              "      <th>A_x</th>\n",
              "      <th>B_x</th>\n",
              "      <th>A_y</th>\n",
              "      <th>B_y</th>\n",
              "    </tr>\n",
              "  </thead>\n",
              "  <tbody>\n",
              "    <tr>\n",
              "      <th>0</th>\n",
              "      <td>K0</td>\n",
              "      <td>A0</td>\n",
              "      <td>B0</td>\n",
              "      <td>A4</td>\n",
              "      <td>B4</td>\n",
              "    </tr>\n",
              "    <tr>\n",
              "      <th>1</th>\n",
              "      <td>K1</td>\n",
              "      <td>A1</td>\n",
              "      <td>B1</td>\n",
              "      <td>A5</td>\n",
              "      <td>B5</td>\n",
              "    </tr>\n",
              "    <tr>\n",
              "      <th>2</th>\n",
              "      <td>K2</td>\n",
              "      <td>A2</td>\n",
              "      <td>B2</td>\n",
              "      <td>A6</td>\n",
              "      <td>B6</td>\n",
              "    </tr>\n",
              "    <tr>\n",
              "      <th>3</th>\n",
              "      <td>K3</td>\n",
              "      <td>A3</td>\n",
              "      <td>B3</td>\n",
              "      <td>A7</td>\n",
              "      <td>B7</td>\n",
              "    </tr>\n",
              "  </tbody>\n",
              "</table>\n",
              "</div>"
            ],
            "text/plain": [
              "  key A_x B_x A_y B_y\n",
              "0  K0  A0  B0  A4  B4\n",
              "1  K1  A1  B1  A5  B5\n",
              "2  K2  A2  B2  A6  B6\n",
              "3  K3  A3  B3  A7  B7"
            ]
          },
          "metadata": {
            "tags": []
          },
          "execution_count": 12
        }
      ]
    },
    {
      "cell_type": "markdown",
      "metadata": {
        "id": "B_W5YUbgZuud"
      },
      "source": [
        "## Merging: Multiply keys\n",
        " DataFrames are now merged into a single DataFrame based on the common values present in the id column of both the DataFrames"
      ]
    },
    {
      "cell_type": "code",
      "metadata": {
        "id": "Qu5w9OUwaWNM"
      },
      "source": [
        "left = pd.DataFrame({'key1': ['K0', 'K0', 'K1', 'K2'],\n",
        "                     'key2': ['K0', 'K1', 'K0', 'K1'],\n",
        "                     'A': ['A0', 'A1', 'A2', 'A3'],\n",
        "                     'B': ['B0', 'B1', 'B2', 'B3']})"
      ],
      "execution_count": null,
      "outputs": []
    },
    {
      "cell_type": "code",
      "metadata": {
        "id": "rCjohPVkcDne"
      },
      "source": [
        "right = pd.DataFrame({'key1': ['K0', 'K1', 'K1', 'K2'],\n",
        "                      'key2': ['K0', 'K0', 'K0', 'K0'],\n",
        "                      'C': ['C0', 'C1', 'C2', 'C3'],\n",
        "                      'D': ['D0', 'D1', 'D2', 'D3']})"
      ],
      "execution_count": null,
      "outputs": []
    },
    {
      "cell_type": "code",
      "metadata": {
        "id": "fxaQoeRXeBuM",
        "colab": {
          "base_uri": "https://localhost:8080/",
          "height": 173
        },
        "outputId": "dde2d38a-ceab-4479-876a-dcaf035bc722"
      },
      "source": [
        "left"
      ],
      "execution_count": null,
      "outputs": [
        {
          "output_type": "execute_result",
          "data": {
            "text/html": [
              "<div>\n",
              "<style scoped>\n",
              "    .dataframe tbody tr th:only-of-type {\n",
              "        vertical-align: middle;\n",
              "    }\n",
              "\n",
              "    .dataframe tbody tr th {\n",
              "        vertical-align: top;\n",
              "    }\n",
              "\n",
              "    .dataframe thead th {\n",
              "        text-align: right;\n",
              "    }\n",
              "</style>\n",
              "<table border=\"1\" class=\"dataframe\">\n",
              "  <thead>\n",
              "    <tr style=\"text-align: right;\">\n",
              "      <th></th>\n",
              "      <th>key1</th>\n",
              "      <th>key2</th>\n",
              "      <th>A</th>\n",
              "      <th>B</th>\n",
              "    </tr>\n",
              "  </thead>\n",
              "  <tbody>\n",
              "    <tr>\n",
              "      <th>0</th>\n",
              "      <td>K0</td>\n",
              "      <td>K0</td>\n",
              "      <td>A0</td>\n",
              "      <td>B0</td>\n",
              "    </tr>\n",
              "    <tr>\n",
              "      <th>1</th>\n",
              "      <td>K0</td>\n",
              "      <td>K1</td>\n",
              "      <td>A1</td>\n",
              "      <td>B1</td>\n",
              "    </tr>\n",
              "    <tr>\n",
              "      <th>2</th>\n",
              "      <td>K1</td>\n",
              "      <td>K0</td>\n",
              "      <td>A2</td>\n",
              "      <td>B2</td>\n",
              "    </tr>\n",
              "    <tr>\n",
              "      <th>3</th>\n",
              "      <td>K2</td>\n",
              "      <td>K1</td>\n",
              "      <td>A3</td>\n",
              "      <td>B3</td>\n",
              "    </tr>\n",
              "  </tbody>\n",
              "</table>\n",
              "</div>"
            ],
            "text/plain": [
              "  key1 key2   A   B\n",
              "0   K0   K0  A0  B0\n",
              "1   K0   K1  A1  B1\n",
              "2   K1   K0  A2  B2\n",
              "3   K2   K1  A3  B3"
            ]
          },
          "metadata": {
            "tags": []
          },
          "execution_count": 15
        }
      ]
    },
    {
      "cell_type": "code",
      "metadata": {
        "id": "94OOw3BPgsvT",
        "colab": {
          "base_uri": "https://localhost:8080/",
          "height": 173
        },
        "outputId": "94ca2285-c9ae-4214-a7ad-2ff5391d8170"
      },
      "source": [
        "right"
      ],
      "execution_count": null,
      "outputs": [
        {
          "output_type": "execute_result",
          "data": {
            "text/html": [
              "<div>\n",
              "<style scoped>\n",
              "    .dataframe tbody tr th:only-of-type {\n",
              "        vertical-align: middle;\n",
              "    }\n",
              "\n",
              "    .dataframe tbody tr th {\n",
              "        vertical-align: top;\n",
              "    }\n",
              "\n",
              "    .dataframe thead th {\n",
              "        text-align: right;\n",
              "    }\n",
              "</style>\n",
              "<table border=\"1\" class=\"dataframe\">\n",
              "  <thead>\n",
              "    <tr style=\"text-align: right;\">\n",
              "      <th></th>\n",
              "      <th>key1</th>\n",
              "      <th>key2</th>\n",
              "      <th>C</th>\n",
              "      <th>D</th>\n",
              "    </tr>\n",
              "  </thead>\n",
              "  <tbody>\n",
              "    <tr>\n",
              "      <th>0</th>\n",
              "      <td>K0</td>\n",
              "      <td>K0</td>\n",
              "      <td>C0</td>\n",
              "      <td>D0</td>\n",
              "    </tr>\n",
              "    <tr>\n",
              "      <th>1</th>\n",
              "      <td>K1</td>\n",
              "      <td>K0</td>\n",
              "      <td>C1</td>\n",
              "      <td>D1</td>\n",
              "    </tr>\n",
              "    <tr>\n",
              "      <th>2</th>\n",
              "      <td>K1</td>\n",
              "      <td>K0</td>\n",
              "      <td>C2</td>\n",
              "      <td>D2</td>\n",
              "    </tr>\n",
              "    <tr>\n",
              "      <th>3</th>\n",
              "      <td>K2</td>\n",
              "      <td>K0</td>\n",
              "      <td>C3</td>\n",
              "      <td>D3</td>\n",
              "    </tr>\n",
              "  </tbody>\n",
              "</table>\n",
              "</div>"
            ],
            "text/plain": [
              "  key1 key2   C   D\n",
              "0   K0   K0  C0  D0\n",
              "1   K1   K0  C1  D1\n",
              "2   K1   K0  C2  D2\n",
              "3   K2   K0  C3  D3"
            ]
          },
          "metadata": {
            "tags": []
          },
          "execution_count": 16
        }
      ]
    },
    {
      "cell_type": "markdown",
      "metadata": {
        "id": "IWqLMbywcU36"
      },
      "source": [
        "## Merging on Multiply keys\n",
        "![pandas_merge_types.PNG](data:image/png;base64,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)\n"
      ]
    },
    {
      "cell_type": "code",
      "metadata": {
        "id": "9FLTtzEpcaWq",
        "colab": {
          "base_uri": "https://localhost:8080/",
          "height": 142
        },
        "outputId": "f6cae0fe-cce2-4bf1-d88d-397e6da1550f"
      },
      "source": [
        "pd.merge(left,right,on=['key1','key2'])"
      ],
      "execution_count": null,
      "outputs": [
        {
          "output_type": "execute_result",
          "data": {
            "text/html": [
              "<div>\n",
              "<style scoped>\n",
              "    .dataframe tbody tr th:only-of-type {\n",
              "        vertical-align: middle;\n",
              "    }\n",
              "\n",
              "    .dataframe tbody tr th {\n",
              "        vertical-align: top;\n",
              "    }\n",
              "\n",
              "    .dataframe thead th {\n",
              "        text-align: right;\n",
              "    }\n",
              "</style>\n",
              "<table border=\"1\" class=\"dataframe\">\n",
              "  <thead>\n",
              "    <tr style=\"text-align: right;\">\n",
              "      <th></th>\n",
              "      <th>key1</th>\n",
              "      <th>key2</th>\n",
              "      <th>A</th>\n",
              "      <th>B</th>\n",
              "      <th>C</th>\n",
              "      <th>D</th>\n",
              "    </tr>\n",
              "  </thead>\n",
              "  <tbody>\n",
              "    <tr>\n",
              "      <th>0</th>\n",
              "      <td>K0</td>\n",
              "      <td>K0</td>\n",
              "      <td>A0</td>\n",
              "      <td>B0</td>\n",
              "      <td>C0</td>\n",
              "      <td>D0</td>\n",
              "    </tr>\n",
              "    <tr>\n",
              "      <th>1</th>\n",
              "      <td>K1</td>\n",
              "      <td>K0</td>\n",
              "      <td>A2</td>\n",
              "      <td>B2</td>\n",
              "      <td>C1</td>\n",
              "      <td>D1</td>\n",
              "    </tr>\n",
              "    <tr>\n",
              "      <th>2</th>\n",
              "      <td>K1</td>\n",
              "      <td>K0</td>\n",
              "      <td>A2</td>\n",
              "      <td>B2</td>\n",
              "      <td>C2</td>\n",
              "      <td>D2</td>\n",
              "    </tr>\n",
              "  </tbody>\n",
              "</table>\n",
              "</div>"
            ],
            "text/plain": [
              "  key1 key2   A   B   C   D\n",
              "0   K0   K0  A0  B0  C0  D0\n",
              "1   K1   K0  A2  B2  C1  D1\n",
              "2   K1   K0  A2  B2  C2  D2"
            ]
          },
          "metadata": {
            "tags": []
          },
          "execution_count": 17
        }
      ]
    },
    {
      "cell_type": "code",
      "metadata": {
        "id": "HqmWpXs8cipy",
        "colab": {
          "base_uri": "https://localhost:8080/",
          "height": 235
        },
        "outputId": "9a1a23f0-f3dc-4e7a-afce-ec8010d82236"
      },
      "source": [
        "pd.merge(left,right,how='outer',on=['key1','key2'])"
      ],
      "execution_count": null,
      "outputs": [
        {
          "output_type": "execute_result",
          "data": {
            "text/html": [
              "<div>\n",
              "<style scoped>\n",
              "    .dataframe tbody tr th:only-of-type {\n",
              "        vertical-align: middle;\n",
              "    }\n",
              "\n",
              "    .dataframe tbody tr th {\n",
              "        vertical-align: top;\n",
              "    }\n",
              "\n",
              "    .dataframe thead th {\n",
              "        text-align: right;\n",
              "    }\n",
              "</style>\n",
              "<table border=\"1\" class=\"dataframe\">\n",
              "  <thead>\n",
              "    <tr style=\"text-align: right;\">\n",
              "      <th></th>\n",
              "      <th>key1</th>\n",
              "      <th>key2</th>\n",
              "      <th>A</th>\n",
              "      <th>B</th>\n",
              "      <th>C</th>\n",
              "      <th>D</th>\n",
              "    </tr>\n",
              "  </thead>\n",
              "  <tbody>\n",
              "    <tr>\n",
              "      <th>0</th>\n",
              "      <td>K0</td>\n",
              "      <td>K0</td>\n",
              "      <td>A0</td>\n",
              "      <td>B0</td>\n",
              "      <td>C0</td>\n",
              "      <td>D0</td>\n",
              "    </tr>\n",
              "    <tr>\n",
              "      <th>1</th>\n",
              "      <td>K0</td>\n",
              "      <td>K1</td>\n",
              "      <td>A1</td>\n",
              "      <td>B1</td>\n",
              "      <td>NaN</td>\n",
              "      <td>NaN</td>\n",
              "    </tr>\n",
              "    <tr>\n",
              "      <th>2</th>\n",
              "      <td>K1</td>\n",
              "      <td>K0</td>\n",
              "      <td>A2</td>\n",
              "      <td>B2</td>\n",
              "      <td>C1</td>\n",
              "      <td>D1</td>\n",
              "    </tr>\n",
              "    <tr>\n",
              "      <th>3</th>\n",
              "      <td>K1</td>\n",
              "      <td>K0</td>\n",
              "      <td>A2</td>\n",
              "      <td>B2</td>\n",
              "      <td>C2</td>\n",
              "      <td>D2</td>\n",
              "    </tr>\n",
              "    <tr>\n",
              "      <th>4</th>\n",
              "      <td>K2</td>\n",
              "      <td>K1</td>\n",
              "      <td>A3</td>\n",
              "      <td>B3</td>\n",
              "      <td>NaN</td>\n",
              "      <td>NaN</td>\n",
              "    </tr>\n",
              "    <tr>\n",
              "      <th>5</th>\n",
              "      <td>K2</td>\n",
              "      <td>K0</td>\n",
              "      <td>NaN</td>\n",
              "      <td>NaN</td>\n",
              "      <td>C3</td>\n",
              "      <td>D3</td>\n",
              "    </tr>\n",
              "  </tbody>\n",
              "</table>\n",
              "</div>"
            ],
            "text/plain": [
              "  key1 key2    A    B    C    D\n",
              "0   K0   K0   A0   B0   C0   D0\n",
              "1   K0   K1   A1   B1  NaN  NaN\n",
              "2   K1   K0   A2   B2   C1   D1\n",
              "3   K1   K0   A2   B2   C2   D2\n",
              "4   K2   K1   A3   B3  NaN  NaN\n",
              "5   K2   K0  NaN  NaN   C3   D3"
            ]
          },
          "metadata": {
            "tags": []
          },
          "execution_count": 18
        }
      ]
    },
    {
      "cell_type": "code",
      "metadata": {
        "id": "JO0yZtDTdRA7",
        "colab": {
          "base_uri": "https://localhost:8080/",
          "height": 173
        },
        "outputId": "48b61f1d-c4f0-4fb1-f2dd-81bf5f6b367e"
      },
      "source": [
        "pd.merge(left,right,how='right',on=['key1','key2'])"
      ],
      "execution_count": null,
      "outputs": [
        {
          "output_type": "execute_result",
          "data": {
            "text/html": [
              "<div>\n",
              "<style scoped>\n",
              "    .dataframe tbody tr th:only-of-type {\n",
              "        vertical-align: middle;\n",
              "    }\n",
              "\n",
              "    .dataframe tbody tr th {\n",
              "        vertical-align: top;\n",
              "    }\n",
              "\n",
              "    .dataframe thead th {\n",
              "        text-align: right;\n",
              "    }\n",
              "</style>\n",
              "<table border=\"1\" class=\"dataframe\">\n",
              "  <thead>\n",
              "    <tr style=\"text-align: right;\">\n",
              "      <th></th>\n",
              "      <th>key1</th>\n",
              "      <th>key2</th>\n",
              "      <th>A</th>\n",
              "      <th>B</th>\n",
              "      <th>C</th>\n",
              "      <th>D</th>\n",
              "    </tr>\n",
              "  </thead>\n",
              "  <tbody>\n",
              "    <tr>\n",
              "      <th>0</th>\n",
              "      <td>K0</td>\n",
              "      <td>K0</td>\n",
              "      <td>A0</td>\n",
              "      <td>B0</td>\n",
              "      <td>C0</td>\n",
              "      <td>D0</td>\n",
              "    </tr>\n",
              "    <tr>\n",
              "      <th>1</th>\n",
              "      <td>K1</td>\n",
              "      <td>K0</td>\n",
              "      <td>A2</td>\n",
              "      <td>B2</td>\n",
              "      <td>C1</td>\n",
              "      <td>D1</td>\n",
              "    </tr>\n",
              "    <tr>\n",
              "      <th>2</th>\n",
              "      <td>K1</td>\n",
              "      <td>K0</td>\n",
              "      <td>A2</td>\n",
              "      <td>B2</td>\n",
              "      <td>C2</td>\n",
              "      <td>D2</td>\n",
              "    </tr>\n",
              "    <tr>\n",
              "      <th>3</th>\n",
              "      <td>K2</td>\n",
              "      <td>K0</td>\n",
              "      <td>NaN</td>\n",
              "      <td>NaN</td>\n",
              "      <td>C3</td>\n",
              "      <td>D3</td>\n",
              "    </tr>\n",
              "  </tbody>\n",
              "</table>\n",
              "</div>"
            ],
            "text/plain": [
              "  key1 key2    A    B   C   D\n",
              "0   K0   K0   A0   B0  C0  D0\n",
              "1   K1   K0   A2   B2  C1  D1\n",
              "2   K1   K0   A2   B2  C2  D2\n",
              "3   K2   K0  NaN  NaN  C3  D3"
            ]
          },
          "metadata": {
            "tags": []
          },
          "execution_count": 19
        }
      ]
    },
    {
      "cell_type": "code",
      "metadata": {
        "id": "OjB17vUxdT0x",
        "colab": {
          "base_uri": "https://localhost:8080/",
          "height": 204
        },
        "outputId": "fbdc0a33-242e-4562-8b23-4bb1f530ce63"
      },
      "source": [
        "pd.merge(left,right,how='left',on=['key1','key2'])"
      ],
      "execution_count": null,
      "outputs": [
        {
          "output_type": "execute_result",
          "data": {
            "text/html": [
              "<div>\n",
              "<style scoped>\n",
              "    .dataframe tbody tr th:only-of-type {\n",
              "        vertical-align: middle;\n",
              "    }\n",
              "\n",
              "    .dataframe tbody tr th {\n",
              "        vertical-align: top;\n",
              "    }\n",
              "\n",
              "    .dataframe thead th {\n",
              "        text-align: right;\n",
              "    }\n",
              "</style>\n",
              "<table border=\"1\" class=\"dataframe\">\n",
              "  <thead>\n",
              "    <tr style=\"text-align: right;\">\n",
              "      <th></th>\n",
              "      <th>key1</th>\n",
              "      <th>key2</th>\n",
              "      <th>A</th>\n",
              "      <th>B</th>\n",
              "      <th>C</th>\n",
              "      <th>D</th>\n",
              "    </tr>\n",
              "  </thead>\n",
              "  <tbody>\n",
              "    <tr>\n",
              "      <th>0</th>\n",
              "      <td>K0</td>\n",
              "      <td>K0</td>\n",
              "      <td>A0</td>\n",
              "      <td>B0</td>\n",
              "      <td>C0</td>\n",
              "      <td>D0</td>\n",
              "    </tr>\n",
              "    <tr>\n",
              "      <th>1</th>\n",
              "      <td>K0</td>\n",
              "      <td>K1</td>\n",
              "      <td>A1</td>\n",
              "      <td>B1</td>\n",
              "      <td>NaN</td>\n",
              "      <td>NaN</td>\n",
              "    </tr>\n",
              "    <tr>\n",
              "      <th>2</th>\n",
              "      <td>K1</td>\n",
              "      <td>K0</td>\n",
              "      <td>A2</td>\n",
              "      <td>B2</td>\n",
              "      <td>C1</td>\n",
              "      <td>D1</td>\n",
              "    </tr>\n",
              "    <tr>\n",
              "      <th>3</th>\n",
              "      <td>K1</td>\n",
              "      <td>K0</td>\n",
              "      <td>A2</td>\n",
              "      <td>B2</td>\n",
              "      <td>C2</td>\n",
              "      <td>D2</td>\n",
              "    </tr>\n",
              "    <tr>\n",
              "      <th>4</th>\n",
              "      <td>K2</td>\n",
              "      <td>K1</td>\n",
              "      <td>A3</td>\n",
              "      <td>B3</td>\n",
              "      <td>NaN</td>\n",
              "      <td>NaN</td>\n",
              "    </tr>\n",
              "  </tbody>\n",
              "</table>\n",
              "</div>"
            ],
            "text/plain": [
              "  key1 key2   A   B    C    D\n",
              "0   K0   K0  A0  B0   C0   D0\n",
              "1   K0   K1  A1  B1  NaN  NaN\n",
              "2   K1   K0  A2  B2   C1   D1\n",
              "3   K1   K0  A2  B2   C2   D2\n",
              "4   K2   K1  A3  B3  NaN  NaN"
            ]
          },
          "metadata": {
            "tags": []
          },
          "execution_count": 20
        }
      ]
    },
    {
      "cell_type": "markdown",
      "metadata": {
        "id": "AppRdtGLd2bq"
      },
      "source": [
        "## Joining  \n",
        "Joining is a convenient method for combining the two columns of the two potentially differently-indexed DataFrame into a single result DataFrame; \n",
        "Same as Merging, except the *key* is index, instead of columns"
      ]
    },
    {
      "cell_type": "code",
      "metadata": {
        "id": "3ro0I-a4oBay"
      },
      "source": [
        "\n",
        "left = pd.DataFrame({'A': ['A0', 'A1', 'A2'],\n",
        "                     'B': ['B0', 'B1', 'B2']},\n",
        "                     index=['K0', 'K1', 'K2'])\n"
      ],
      "execution_count": null,
      "outputs": []
    },
    {
      "cell_type": "code",
      "metadata": {
        "id": "Y_-iahEVoJc9"
      },
      "source": [
        "right = pd.DataFrame({'C': ['C0', 'C2', 'C3'],\n",
        "                     'D': ['D0', 'D2', 'D3']},\n",
        "                      index=['K0', 'K2', 'K3'])"
      ],
      "execution_count": null,
      "outputs": []
    },
    {
      "cell_type": "code",
      "metadata": {
        "id": "a6V10lqVoXu4",
        "colab": {
          "base_uri": "https://localhost:8080/",
          "height": 142
        },
        "outputId": "66f2e7ff-a361-4e2d-ad1a-ff0cf30f73b1"
      },
      "source": [
        "left"
      ],
      "execution_count": null,
      "outputs": [
        {
          "output_type": "execute_result",
          "data": {
            "text/html": [
              "<div>\n",
              "<style scoped>\n",
              "    .dataframe tbody tr th:only-of-type {\n",
              "        vertical-align: middle;\n",
              "    }\n",
              "\n",
              "    .dataframe tbody tr th {\n",
              "        vertical-align: top;\n",
              "    }\n",
              "\n",
              "    .dataframe thead th {\n",
              "        text-align: right;\n",
              "    }\n",
              "</style>\n",
              "<table border=\"1\" class=\"dataframe\">\n",
              "  <thead>\n",
              "    <tr style=\"text-align: right;\">\n",
              "      <th></th>\n",
              "      <th>A</th>\n",
              "      <th>B</th>\n",
              "    </tr>\n",
              "  </thead>\n",
              "  <tbody>\n",
              "    <tr>\n",
              "      <th>K0</th>\n",
              "      <td>A0</td>\n",
              "      <td>B0</td>\n",
              "    </tr>\n",
              "    <tr>\n",
              "      <th>K1</th>\n",
              "      <td>A1</td>\n",
              "      <td>B1</td>\n",
              "    </tr>\n",
              "    <tr>\n",
              "      <th>K2</th>\n",
              "      <td>A2</td>\n",
              "      <td>B2</td>\n",
              "    </tr>\n",
              "  </tbody>\n",
              "</table>\n",
              "</div>"
            ],
            "text/plain": [
              "     A   B\n",
              "K0  A0  B0\n",
              "K1  A1  B1\n",
              "K2  A2  B2"
            ]
          },
          "metadata": {
            "tags": []
          },
          "execution_count": 23
        }
      ]
    },
    {
      "cell_type": "code",
      "metadata": {
        "id": "QdmOsbKGod3v",
        "colab": {
          "base_uri": "https://localhost:8080/",
          "height": 142
        },
        "outputId": "5548d071-47d9-4972-82c5-1e4b66261d58"
      },
      "source": [
        "right"
      ],
      "execution_count": null,
      "outputs": [
        {
          "output_type": "execute_result",
          "data": {
            "text/html": [
              "<div>\n",
              "<style scoped>\n",
              "    .dataframe tbody tr th:only-of-type {\n",
              "        vertical-align: middle;\n",
              "    }\n",
              "\n",
              "    .dataframe tbody tr th {\n",
              "        vertical-align: top;\n",
              "    }\n",
              "\n",
              "    .dataframe thead th {\n",
              "        text-align: right;\n",
              "    }\n",
              "</style>\n",
              "<table border=\"1\" class=\"dataframe\">\n",
              "  <thead>\n",
              "    <tr style=\"text-align: right;\">\n",
              "      <th></th>\n",
              "      <th>C</th>\n",
              "      <th>D</th>\n",
              "    </tr>\n",
              "  </thead>\n",
              "  <tbody>\n",
              "    <tr>\n",
              "      <th>K0</th>\n",
              "      <td>C0</td>\n",
              "      <td>D0</td>\n",
              "    </tr>\n",
              "    <tr>\n",
              "      <th>K2</th>\n",
              "      <td>C2</td>\n",
              "      <td>D2</td>\n",
              "    </tr>\n",
              "    <tr>\n",
              "      <th>K3</th>\n",
              "      <td>C3</td>\n",
              "      <td>D3</td>\n",
              "    </tr>\n",
              "  </tbody>\n",
              "</table>\n",
              "</div>"
            ],
            "text/plain": [
              "     C   D\n",
              "K0  C0  D0\n",
              "K2  C2  D2\n",
              "K3  C3  D3"
            ]
          },
          "metadata": {
            "tags": []
          },
          "execution_count": 24
        }
      ]
    },
    {
      "cell_type": "code",
      "metadata": {
        "id": "f5028EOtoOhU",
        "colab": {
          "base_uri": "https://localhost:8080/",
          "height": 142
        },
        "outputId": "51509577-60e3-4c1c-d4d6-3c4097b7108f"
      },
      "source": [
        "left.join(right)"
      ],
      "execution_count": null,
      "outputs": [
        {
          "output_type": "execute_result",
          "data": {
            "text/html": [
              "<div>\n",
              "<style scoped>\n",
              "    .dataframe tbody tr th:only-of-type {\n",
              "        vertical-align: middle;\n",
              "    }\n",
              "\n",
              "    .dataframe tbody tr th {\n",
              "        vertical-align: top;\n",
              "    }\n",
              "\n",
              "    .dataframe thead th {\n",
              "        text-align: right;\n",
              "    }\n",
              "</style>\n",
              "<table border=\"1\" class=\"dataframe\">\n",
              "  <thead>\n",
              "    <tr style=\"text-align: right;\">\n",
              "      <th></th>\n",
              "      <th>A</th>\n",
              "      <th>B</th>\n",
              "      <th>C</th>\n",
              "      <th>D</th>\n",
              "    </tr>\n",
              "  </thead>\n",
              "  <tbody>\n",
              "    <tr>\n",
              "      <th>K0</th>\n",
              "      <td>A0</td>\n",
              "      <td>B0</td>\n",
              "      <td>C0</td>\n",
              "      <td>D0</td>\n",
              "    </tr>\n",
              "    <tr>\n",
              "      <th>K1</th>\n",
              "      <td>A1</td>\n",
              "      <td>B1</td>\n",
              "      <td>NaN</td>\n",
              "      <td>NaN</td>\n",
              "    </tr>\n",
              "    <tr>\n",
              "      <th>K2</th>\n",
              "      <td>A2</td>\n",
              "      <td>B2</td>\n",
              "      <td>C2</td>\n",
              "      <td>D2</td>\n",
              "    </tr>\n",
              "  </tbody>\n",
              "</table>\n",
              "</div>"
            ],
            "text/plain": [
              "     A   B    C    D\n",
              "K0  A0  B0   C0   D0\n",
              "K1  A1  B1  NaN  NaN\n",
              "K2  A2  B2   C2   D2"
            ]
          },
          "metadata": {
            "tags": []
          },
          "execution_count": 25
        }
      ]
    },
    {
      "cell_type": "code",
      "metadata": {
        "id": "PxVZsQa-ojT-",
        "colab": {
          "base_uri": "https://localhost:8080/",
          "height": 173
        },
        "outputId": "0b5817a7-a718-4e09-c08d-ec0c1bf74e3a"
      },
      "source": [
        "left.join(right, how='outer')"
      ],
      "execution_count": null,
      "outputs": [
        {
          "output_type": "execute_result",
          "data": {
            "text/html": [
              "<div>\n",
              "<style scoped>\n",
              "    .dataframe tbody tr th:only-of-type {\n",
              "        vertical-align: middle;\n",
              "    }\n",
              "\n",
              "    .dataframe tbody tr th {\n",
              "        vertical-align: top;\n",
              "    }\n",
              "\n",
              "    .dataframe thead th {\n",
              "        text-align: right;\n",
              "    }\n",
              "</style>\n",
              "<table border=\"1\" class=\"dataframe\">\n",
              "  <thead>\n",
              "    <tr style=\"text-align: right;\">\n",
              "      <th></th>\n",
              "      <th>A</th>\n",
              "      <th>B</th>\n",
              "      <th>C</th>\n",
              "      <th>D</th>\n",
              "    </tr>\n",
              "  </thead>\n",
              "  <tbody>\n",
              "    <tr>\n",
              "      <th>K0</th>\n",
              "      <td>A0</td>\n",
              "      <td>B0</td>\n",
              "      <td>C0</td>\n",
              "      <td>D0</td>\n",
              "    </tr>\n",
              "    <tr>\n",
              "      <th>K1</th>\n",
              "      <td>A1</td>\n",
              "      <td>B1</td>\n",
              "      <td>NaN</td>\n",
              "      <td>NaN</td>\n",
              "    </tr>\n",
              "    <tr>\n",
              "      <th>K2</th>\n",
              "      <td>A2</td>\n",
              "      <td>B2</td>\n",
              "      <td>C2</td>\n",
              "      <td>D2</td>\n",
              "    </tr>\n",
              "    <tr>\n",
              "      <th>K3</th>\n",
              "      <td>NaN</td>\n",
              "      <td>NaN</td>\n",
              "      <td>C3</td>\n",
              "      <td>D3</td>\n",
              "    </tr>\n",
              "  </tbody>\n",
              "</table>\n",
              "</div>"
            ],
            "text/plain": [
              "      A    B    C    D\n",
              "K0   A0   B0   C0   D0\n",
              "K1   A1   B1  NaN  NaN\n",
              "K2   A2   B2   C2   D2\n",
              "K3  NaN  NaN   C3   D3"
            ]
          },
          "metadata": {
            "tags": []
          },
          "execution_count": 26
        }
      ]
    }
  ]
}