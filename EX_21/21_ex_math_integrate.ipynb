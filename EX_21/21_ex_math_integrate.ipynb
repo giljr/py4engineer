{
  "nbformat": 4,
  "nbformat_minor": 0,
  "metadata": {
    "colab": {
      "name": "21_ex_math_integrate.ipynb",
      "provenance": [],
      "collapsed_sections": []
    },
    "kernelspec": {
      "name": "python3",
      "display_name": "Python 3"
    },
    "language_info": {
      "name": "python"
    }
  },
  "cells": [
    {
      "cell_type": "markdown",
      "metadata": {
        "id": "rqweTZPbjcgj"
      },
      "source": [
        "#Integration in Python\n",
        "\n",
        "[SymPy](https://www.sympy.org/en/index.html) is a Python library for symbolic mathematics. It aims to become a full-featured computer algebra system (CAS) while keeping the code as simple as possible in order to be comprehensible and easily extensible. SymPy is written entirely in Python.\n",
        "\n",
        "This is my first attempt at working integrals in python, since I have some difficulties in algebra :)\n",
        "\n",
        "let's start by importing libraries:"
      ]
    },
    {
      "cell_type": "code",
      "metadata": {
        "id": "69mqyhVfe3bb"
      },
      "source": [
        "%matplotlib inline\n",
        "import matplotlib.pyplot as plt\n",
        "import numpy as np\n",
        "import sympy as sy"
      ],
      "execution_count": 39,
      "outputs": []
    },
    {
      "cell_type": "markdown",
      "metadata": {
        "id": "kurG5qPzp2Rh"
      },
      "source": [
        "#Fundamental Calculus Theorem:\n",
        "Now, from the calculation, we know that the area defined by the function is given by:\n",
        "\n",
        "$\\displaystyle \\int_{a}^{b} f(x)\\,dx = F(b) - F(a)$\n"
      ]
    },
    {
      "cell_type": "markdown",
      "metadata": {
        "id": "GETCGoPEgd54"
      },
      "source": [
        "##**(01)** Calculate the integral: $\\int_0^1 (x+2) dx$"
      ]
    },
    {
      "cell_type": "markdown",
      "metadata": {
        "id": "wnDYfheXzUDS"
      },
      "source": [
        "###Calculation By hand:"
      ]
    },
    {
      "cell_type": "markdown",
      "metadata": {
        "id": "r-8DowcmsEIH"
      },
      "source": [
        "$=(\\frac{x^2}{2}+2x )|_0^1 $\n",
        "\n",
        "\n",
        "$= [(\\frac{1^2}{2})+(2*1)] - [(\\frac{0^2}{2})+(2*0)] = \\frac{5}{2}$"
      ]
    },
    {
      "cell_type": "markdown",
      "metadata": {
        "id": "CFSa3vjlx_hb"
      },
      "source": [
        "###Using Python:"
      ]
    },
    {
      "cell_type": "code",
      "metadata": {
        "id": "G92Lo3ZSgpbE"
      },
      "source": [
        "x = np.linspace(-1, 3, 1000)\n",
        "def f(x): return x+2"
      ],
      "execution_count": 49,
      "outputs": []
    },
    {
      "cell_type": "code",
      "metadata": {
        "colab": {
          "base_uri": "https://localhost:8080/",
          "height": 282
        },
        "id": "QpXJe2wJg5vd",
        "outputId": "38d81ce3-b22b-4abf-dba6-931399a07e16"
      },
      "source": [
        "plt.plot(x, f(x))\n",
        "plt.axhline(color = 'black')\n",
        "plt.fill_between(x, f(x), where = [(x > 0) and (x < 1) for x in x], color = 'green', alpha = 0.3)"
      ],
      "execution_count": 50,
      "outputs": [
        {
          "output_type": "execute_result",
          "data": {
            "text/plain": [
              "<matplotlib.collections.PolyCollection at 0x7f93c8557bd0>"
            ]
          },
          "metadata": {
            "tags": []
          },
          "execution_count": 50
        },
        {
          "output_type": "display_data",
          "data": {
            "image/png": "[encoded data removed]",
            "text/plain": [
              "<Figure size 432x288 with 1 Axes>"
            ]
          },
          "metadata": {
            "tags": [],
            "needs_background": "light"
          }
        }
      ]
    },
    {
      "cell_type": "code",
      "metadata": {
        "id": "ONdwHUorGnpL"
      },
      "source": [
        "x = sy.Symbol('x')"
      ],
      "execution_count": 52,
      "outputs": []
    },
    {
      "cell_type": "code",
      "metadata": {
        "colab": {
          "base_uri": "https://localhost:8080/",
          "height": 51
        },
        "id": "eboECRxfhEXj",
        "outputId": "62d42cb7-ed08-4e10-a197-c868219d3fd3"
      },
      "source": [
        "sy.integrate(f(x), (x, 0, 1))"
      ],
      "execution_count": 53,
      "outputs": [
        {
          "output_type": "execute_result",
          "data": {
            "image/png": "[encoded data removed]",
            "text/latex": "$\\displaystyle \\frac{5}{2}$",
            "text/plain": [
              "5/2"
            ]
          },
          "metadata": {
            "tags": []
          },
          "execution_count": 53
        }
      ]
    },
    {
      "cell_type": "markdown",
      "metadata": {
        "id": "IvTqS-b9eqqD"
      },
      "source": [
        "##**(02)** Calculate the integral: $\\int_0^2 x^2 dx$\n"
      ]
    },
    {
      "cell_type": "markdown",
      "metadata": {
        "id": "A8NgglQ8zr6H"
      },
      "source": [
        "###Calculate by hand:"
      ]
    },
    {
      "cell_type": "markdown",
      "metadata": {
        "id": "ln_xw55czwn1"
      },
      "source": [
        "$=(\\frac{x^3}{3})|_0^2 $\n",
        "\n",
        "\n",
        "$= [(\\frac{2^3}{3})] - [(\\frac{2^0}{3})] = \\frac{8}{3}$"
      ]
    },
    {
      "cell_type": "markdown",
      "metadata": {
        "id": "jBd0Ws5o0rWu"
      },
      "source": [
        "###Using Python:"
      ]
    },
    {
      "cell_type": "code",
      "metadata": {
        "id": "4-_CCVO5e9gK"
      },
      "source": [
        "x = np.linspace(-1, 3, 1000)\n",
        "def f(x): return x**2"
      ],
      "execution_count": 43,
      "outputs": []
    },
    {
      "cell_type": "code",
      "metadata": {
        "colab": {
          "base_uri": "https://localhost:8080/",
          "height": 282
        },
        "id": "SApr5N3NfCtO",
        "outputId": "3df5474b-8cb9-4b00-a434-3c843e1e2113"
      },
      "source": [
        "plt.plot(x, f(x))\n",
        "plt.axhline(color = 'black')\n",
        "plt.fill_between(x, f(x), where = [(x > 0) and (x < 2) for x in x], color = 'green', alpha = 0.3)"
      ],
      "execution_count": 44,
      "outputs": [
        {
          "output_type": "execute_result",
          "data": {
            "text/plain": [
              "<matplotlib.collections.PolyCollection at 0x7f93c8627950>"
            ]
          },
          "metadata": {
            "tags": []
          },
          "execution_count": 44
        },
        {
          "output_type": "display_data",
          "data": {
            "image/png": "[encoded data removed]",
            "text/plain": [
              "<Figure size 432x288 with 1 Axes>"
            ]
          },
          "metadata": {
            "tags": [],
            "needs_background": "light"
          }
        }
      ]
    },
    {
      "cell_type": "code",
      "metadata": {
        "id": "TVM0GLyqfVLv"
      },
      "source": [
        "x = sy.Symbol('x')"
      ],
      "execution_count": 45,
      "outputs": []
    },
    {
      "cell_type": "code",
      "metadata": {
        "colab": {
          "base_uri": "https://localhost:8080/",
          "height": 51
        },
        "id": "0JjJv6ZFf6PV",
        "outputId": "64dbd88c-73c6-4a4a-8f71-c803888c2143"
      },
      "source": [
        "sy.integrate(f(x), (x, 0, 2))"
      ],
      "execution_count": 46,
      "outputs": [
        {
          "output_type": "execute_result",
          "data": {
            "image/png": "[encoded data removed]",
            "text/latex": "$\\displaystyle \\frac{8}{3}$",
            "text/plain": [
              "8/3"
            ]
          },
          "metadata": {
            "tags": []
          },
          "execution_count": 46
        }
      ]
    },
    {
      "cell_type": "markdown",
      "metadata": {
        "id": "xvMdPLSFlh2u"
      },
      "source": [
        "##**(03)** Calculate the integral: $\\int_0^1 (2x-3) dx$"
      ]
    },
    {
      "cell_type": "markdown",
      "metadata": {
        "id": "fansFlQL1h2X"
      },
      "source": [
        "###Calculate by hand:"
      ]
    },
    {
      "cell_type": "markdown",
      "metadata": {
        "id": "S67ZC9Lj1o4b"
      },
      "source": [
        "$=(\\frac{2x^2}{2}-3x )|_0^1 $\n",
        "\n",
        "\n",
        "$= [(1^2)-(3*1)] - [(0^2)-(3*0)] = -2$"
      ]
    },
    {
      "cell_type": "code",
      "metadata": {
        "id": "TRIYrMhXlZHJ"
      },
      "source": [
        " x = np.linspace(-1, 3, 1000)\n",
        "def f(x): return (2*x-3)"
      ],
      "execution_count": null,
      "outputs": []
    },
    {
      "cell_type": "code",
      "metadata": {
        "colab": {
          "base_uri": "https://localhost:8080/",
          "height": 282
        },
        "id": "LoShE8eHlvIN",
        "outputId": "6b102492-0933-4f31-c5cb-70cbacf37eb0"
      },
      "source": [
        "plt.plot(x, f(x))\n",
        "plt.axhline(color = 'black')\n",
        "plt.fill_between(x, f(x), where = [(x > 0) and (x < 1) for x in x], color = 'green', alpha = 0.3)"
      ],
      "execution_count": null,
      "outputs": [
        {
          "output_type": "execute_result",
          "data": {
            "text/plain": [
              "<matplotlib.collections.PolyCollection at 0x7f93c8d913d0>"
            ]
          },
          "metadata": {
            "tags": []
          },
          "execution_count": 15
        },
        {
          "output_type": "display_data",
          "data": {
            "image/png": "[encoded data removed]",
            "text/plain": [
              "<Figure size 432x288 with 1 Axes>"
            ]
          },
          "metadata": {
            "tags": [],
            "needs_background": "light"
          }
        }
      ]
    },
    {
      "cell_type": "code",
      "metadata": {
        "id": "nhjwxWGumKic"
      },
      "source": [
        "x = sy.Symbol('x')"
      ],
      "execution_count": null,
      "outputs": []
    },
    {
      "cell_type": "code",
      "metadata": {
        "colab": {
          "base_uri": "https://localhost:8080/",
          "height": 37
        },
        "id": "nMOUsvZEmurx",
        "outputId": "bbe5126d-6b7c-42b0-e3fa-f8ad3798c592"
      },
      "source": [
        "sy.integrate(f(x), (x, 0, 1))"
      ],
      "execution_count": null,
      "outputs": [
        {
          "output_type": "execute_result",
          "data": {
            "text/latex": "$\\displaystyle -2$",
            "text/plain": [
              "-2"
            ]
          },
          "metadata": {
            "tags": []
          },
          "execution_count": 17
        }
      ]
    },
    {
      "cell_type": "markdown",
      "metadata": {
        "id": "qTxfFEc1nbY_"
      },
      "source": [
        "##**(04)** Calculate the integral: $\\int_0^2 \\sqrt{(2x+5)} dx$"
      ]
    },
    {
      "cell_type": "markdown",
      "metadata": {
        "id": "jBCtBeS_DizB"
      },
      "source": [
        "###Calculate By Hand:"
      ]
    },
    {
      "cell_type": "markdown",
      "metadata": {
        "id": "o2zLtLFoDzIl"
      },
      "source": [
        "$u=2x+5$\n",
        "\n",
        "$\\frac{\\mathrm du}{\\mathrm d x} = 2, du = 2dx$\n",
        "\n",
        "\n",
        "\n",
        "Recalculating the limits:\n",
        "\n",
        "\n",
        "x = 2  $\\therefore$  u = 2*2 + 5 $\\implies$u = 9\n",
        "\n",
        "x = 0  $\\therefore$  u = 2*0 + 5 $\\implies$u = 5\n",
        "\n",
        "\n",
        "Replacing the values in the original integral:\n",
        "\n",
        "$\\frac{1}{2} (\\int_{0}^{2} (\\sqrt{x+5})2dx$\n",
        "\n",
        "$\\frac{1}{2} (\\int_{5}^{9} (\\sqrt{u})du$\n",
        "\n",
        "$\\frac{1}{2} (\\int_{5}^{9} ({u}^{\\frac{1}{2}} )du $\n",
        "\n",
        "$\\frac{1}{2} [\\frac{u^(\\frac{1}{2}+1)}{\\frac{1}{2}+1}|_5^9 $\n",
        "\n",
        "$\\frac{1}{2}*\\frac{2}{3}*\\sqrt{u^3}|_5^9$\n",
        "\n",
        "$\\frac{1}{3}(27-5\\sqrt{5})$\n",
        "\n",
        "$9-5\\frac{\\sqrt{5}}{3})$\n"
      ]
    },
    {
      "cell_type": "markdown",
      "metadata": {
        "id": "Tp9Ge2qwCrWm"
      },
      "source": [
        "###Now let's use **LAMBDA FUNCTION**"
      ]
    },
    {
      "cell_type": "code",
      "metadata": {
        "colab": {
          "base_uri": "https://localhost:8080/",
          "height": 39
        },
        "id": "UxhysqFjA7np",
        "outputId": "6fa76661-9c01-413d-cbf3-028d15a6b970"
      },
      "source": [
        "from sympy import *\n",
        "init_printing()\n",
        "var('x,y')\n",
        "\n",
        "#f = Lambda(x, (x**3 - 3*x + 2)*exp(-x/4) - 1)\n",
        "#f\n",
        "\n",
        "f = Lambda(x, (sy.sqrt(2*x + 5)))\n",
        "f"
      ],
      "execution_count": null,
      "outputs": [
        {
          "output_type": "execute_result",
          "data": {
            "image/png": "[encoded data removed]",
            "text/latex": "$\\displaystyle \\left( x \\mapsto \\sqrt{2 x + 5} \\right)$",
            "text/plain": [
              "      _________\n",
              "x ↦ ╲╱ 2⋅x + 5 "
            ]
          },
          "metadata": {
            "tags": []
          },
          "execution_count": 18
        }
      ]
    },
    {
      "cell_type": "code",
      "metadata": {
        "id": "Gaw43f4G6ylp"
      },
      "source": [
        "x = sy.Symbol('x')"
      ],
      "execution_count": null,
      "outputs": []
    },
    {
      "cell_type": "code",
      "metadata": {
        "colab": {
          "base_uri": "https://localhost:8080/",
          "height": 56
        },
        "id": "ShmpVrZe7ddZ",
        "outputId": "db69bd92-239f-4d94-e394-30b3ef8ff6c4"
      },
      "source": [
        "sy.integrate(f(x), (x, 0, 2))"
      ],
      "execution_count": null,
      "outputs": [
        {
          "output_type": "execute_result",
          "data": {
            "image/png": "[encoded data removed]",
            "text/latex": "$\\displaystyle 9 - \\frac{5 \\sqrt{5}}{3}$",
            "text/plain": [
              "    5⋅√5\n",
              "9 - ────\n",
              "     3  "
            ]
          },
          "metadata": {
            "tags": []
          },
          "execution_count": 20
        }
      ]
    },
    {
      "cell_type": "markdown",
      "metadata": {
        "id": "VBk1k0RUBcgE"
      },
      "source": [
        "##**(05)** Given \n",
        "f(x) = $\\int_0^2 x^2 dx$ \n",
        "\n",
        "and \n",
        "\n",
        "g(x) = $\\int_0^2 x^\\frac{1}{2} dx$\n",
        "\n",
        "Calculate the area between both.\n",
        "\n"
      ]
    },
    {
      "cell_type": "code",
      "metadata": {
        "id": "ecOJlm8gAlfP"
      },
      "source": [
        "x = np.linspace(-1, 3, 1000)\n",
        "def f(x): return x**2"
      ],
      "execution_count": null,
      "outputs": []
    },
    {
      "cell_type": "code",
      "metadata": {
        "colab": {
          "base_uri": "https://localhost:8080/",
          "height": 282
        },
        "id": "A92R3yIbAdCN",
        "outputId": "34617bfd-57d2-4c07-c443-8de1ff1afb3e"
      },
      "source": [
        "plt.plot(x, f(x))\n",
        "plt.axhline(color = 'black')\n",
        "plt.fill_between(x, f(x), where = [(x > 0) and (x < 2) for x in x], color = 'green', alpha = 0.3)"
      ],
      "execution_count": null,
      "outputs": [
        {
          "output_type": "execute_result",
          "data": {
            "text/plain": [
              "<matplotlib.collections.PolyCollection at 0x7f93c8961ad0>"
            ]
          },
          "metadata": {
            "tags": []
          },
          "execution_count": 26
        },
        {
          "output_type": "display_data",
          "data": {
            "image/png": "[encoded data removed]",
            "text/plain": [
              "<Figure size 432x288 with 1 Axes>"
            ]
          },
          "metadata": {
            "tags": [],
            "needs_background": "light"
          }
        }
      ]
    },
    {
      "cell_type": "code",
      "metadata": {
        "id": "LXoBwPfdAxR4"
      },
      "source": [
        "x = sy.Symbol('x')"
      ],
      "execution_count": null,
      "outputs": []
    },
    {
      "cell_type": "code",
      "metadata": {
        "id": "4pYzlvJRA_wP"
      },
      "source": [
        "def g(x): return x**(1/2)"
      ],
      "execution_count": null,
      "outputs": []
    },
    {
      "cell_type": "code",
      "metadata": {
        "id": "cq15ZBjG6uhC",
        "colab": {
          "base_uri": "https://localhost:8080/",
          "height": 353
        },
        "outputId": "64fef2d8-8bda-4962-807f-553554b3b9cb"
      },
      "source": [
        "x = np.linspace(-1, 1.5, 100)\n",
        "plt.plot(x, f(x))\n",
        "plt.plot(x, g(x))\n",
        "plt.fill_between(x, f(x), g(x),  where = [(x > 0) and (x < 1) for x in x], color = 'green', alpha = 0.2)"
      ],
      "execution_count": null,
      "outputs": [
        {
          "output_type": "stream",
          "text": [
            "/usr/local/lib/python3.7/dist-packages/ipykernel_launcher.py:1: RuntimeWarning: invalid value encountered in sqrt\n",
            "  \"\"\"Entry point for launching an IPython kernel.\n",
            "/usr/local/lib/python3.7/dist-packages/ipykernel_launcher.py:1: RuntimeWarning: invalid value encountered in sqrt\n",
            "  \"\"\"Entry point for launching an IPython kernel.\n"
          ],
          "name": "stderr"
        },
        {
          "output_type": "execute_result",
          "data": {
            "text/plain": [
              "<matplotlib.collections.PolyCollection at 0x7f93c87daa10>"
            ]
          },
          "metadata": {
            "tags": []
          },
          "execution_count": 33
        },
        {
          "output_type": "display_data",
          "data": {
            "image/png": "[encoded data removed]",
            "text/plain": [
              "<Figure size 432x288 with 1 Axes>"
            ]
          },
          "metadata": {
            "tags": [],
            "needs_background": "light"
          }
        }
      ]
    },
    {
      "cell_type": "code",
      "metadata": {
        "id": "ezLVdpACDr61"
      },
      "source": [
        "x = sy.Symbol('x')"
      ],
      "execution_count": null,
      "outputs": []
    },
    {
      "cell_type": "code",
      "metadata": {
        "colab": {
          "base_uri": "https://localhost:8080/",
          "height": 37
        },
        "id": "WuCbUFJKDtfD",
        "outputId": "c8123db0-6b8f-435c-a9a7-e2ee024ac842"
      },
      "source": [
        "sy.integrate(g(x) - f(x), (x, 0, 1))"
      ],
      "execution_count": null,
      "outputs": [
        {
          "output_type": "execute_result",
          "data": {
            "image/png": "[encoded data removed]",
            "text/latex": "$\\displaystyle 0.333333333333333$",
            "text/plain": [
              "0.333333333333333"
            ]
          },
          "metadata": {
            "tags": []
          },
          "execution_count": 35
        }
      ]
    },
    {
      "cell_type": "code",
      "metadata": {
        "colab": {
          "base_uri": "https://localhost:8080/"
        },
        "id": "EsZuqOceDf6q",
        "outputId": "ced26c77-d90e-4a5d-cf10-fbf34072cf46"
      },
      "source": [
        "print(\"That's it! See how your academic life can be made much easier if you use Python! See you soon in the next episode! Bye!!!\")"
      ],
      "execution_count": null,
      "outputs": [
        {
          "output_type": "stream",
          "text": [
            "That's it! See how your academic life can be made much easier if you use Python! See you soon in the next episode! Bye!!!\n"
          ],
          "name": "stdout"
        }
      ]
    }
  ]
}